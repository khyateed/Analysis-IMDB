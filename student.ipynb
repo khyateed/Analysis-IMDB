{
 "cells": [
  {
   "cell_type": "markdown",
   "metadata": {},
   "source": [
    "# Project 1: Exploratory Data Analysis of Movies\n",
    "Amelia Dahm & Khyatee Desai"
   ]
  },
  {
   "cell_type": "markdown",
   "metadata": {},
   "source": [
    "## Import Python Libraries"
   ]
  },
  {
   "cell_type": "code",
   "execution_count": 200,
   "metadata": {},
   "outputs": [],
   "source": [
    "import pandas as pd\n",
    "import re\n",
    "import matplotlib.pyplot as plt\n",
    "import seaborn as sns\n",
    "import numpy as np\n",
    "import requests\n",
    "from bs4 import BeautifulSoup\n",
    "%matplotlib inline"
   ]
  },
  {
   "cell_type": "markdown",
   "metadata": {},
   "source": [
    "## Read in CSV Files"
   ]
  },
  {
   "cell_type": "code",
   "execution_count": 201,
   "metadata": {
    "scrolled": true
   },
   "outputs": [],
   "source": [
    "movie_gross_raw = pd.read_csv('./zippedData/bom.movie_gross.csv.gz')\n",
    "imdb_raw = pd.read_csv('./zippedData/imdb.title.ratings.csv.gz')\n",
    "name_basics_raw = pd.read_csv('./zippedData/imdb.name.basics.csv.gz')\n",
    "titles_raw = pd.read_csv('./zippedData/imdb.title.akas.csv.gz')\n",
    "genre_raw = pd.read_csv('./zippedData/imdb.title.basics.csv.gz')\n",
    "tmdb_raw = pd.read_csv('./zippedData/tmdb.movies.csv.gz')\n",
    "crew_raw = pd.read_csv('./zippedData/imdb.title.crew.csv.gz')\n",
    "budgets_raw = pd.read_csv('./zippedData/tn.movie_budgets.csv.gz')\n",
    "characters_raw = pd.read_csv('./zippedData/imdb.title.principals.csv.gz')"
   ]
  },
  {
   "cell_type": "markdown",
   "metadata": {},
   "source": [
    "# Question 1: Which Movies Genres are Most Successful?\n"
   ]
  },
  {
   "cell_type": "markdown",
   "metadata": {},
   "source": [
    "##  Read in Oscars Dataset\n",
    "Source: https://www.kaggle.com/unanimad/the-oscar-award"
   ]
  },
  {
   "cell_type": "code",
   "execution_count": 202,
   "metadata": {
    "scrolled": true
   },
   "outputs": [
    {
     "data": {
      "text/html": [
       "<div>\n",
       "<style scoped>\n",
       "    .dataframe tbody tr th:only-of-type {\n",
       "        vertical-align: middle;\n",
       "    }\n",
       "\n",
       "    .dataframe tbody tr th {\n",
       "        vertical-align: top;\n",
       "    }\n",
       "\n",
       "    .dataframe thead th {\n",
       "        text-align: right;\n",
       "    }\n",
       "</style>\n",
       "<table border=\"1\" class=\"dataframe\">\n",
       "  <thead>\n",
       "    <tr style=\"text-align: right;\">\n",
       "      <th></th>\n",
       "      <th>year_film</th>\n",
       "      <th>year_ceremony</th>\n",
       "      <th>ceremony</th>\n",
       "      <th>category</th>\n",
       "      <th>name</th>\n",
       "      <th>film</th>\n",
       "      <th>winner</th>\n",
       "    </tr>\n",
       "  </thead>\n",
       "  <tbody>\n",
       "    <tr>\n",
       "      <th>0</th>\n",
       "      <td>1927</td>\n",
       "      <td>1928</td>\n",
       "      <td>1</td>\n",
       "      <td>ACTOR</td>\n",
       "      <td>Richard Barthelmess</td>\n",
       "      <td>The Noose</td>\n",
       "      <td>False</td>\n",
       "    </tr>\n",
       "    <tr>\n",
       "      <th>1</th>\n",
       "      <td>1927</td>\n",
       "      <td>1928</td>\n",
       "      <td>1</td>\n",
       "      <td>ACTOR</td>\n",
       "      <td>Emil Jannings</td>\n",
       "      <td>The Last Command</td>\n",
       "      <td>True</td>\n",
       "    </tr>\n",
       "    <tr>\n",
       "      <th>2</th>\n",
       "      <td>1927</td>\n",
       "      <td>1928</td>\n",
       "      <td>1</td>\n",
       "      <td>ACTRESS</td>\n",
       "      <td>Louise Dresser</td>\n",
       "      <td>A Ship Comes In</td>\n",
       "      <td>False</td>\n",
       "    </tr>\n",
       "  </tbody>\n",
       "</table>\n",
       "</div>"
      ],
      "text/plain": [
       "   year_film  year_ceremony  ceremony category                 name  \\\n",
       "0       1927           1928         1    ACTOR  Richard Barthelmess   \n",
       "1       1927           1928         1    ACTOR        Emil Jannings   \n",
       "2       1927           1928         1  ACTRESS       Louise Dresser   \n",
       "\n",
       "               film  winner  \n",
       "0         The Noose   False  \n",
       "1  The Last Command    True  \n",
       "2   A Ship Comes In   False  "
      ]
     },
     "execution_count": 202,
     "metadata": {},
     "output_type": "execute_result"
    }
   ],
   "source": [
    "oscars_raw = pd.read_csv('./zippedData/oscars.zip', encoding = \"ISO-8859-1\")\n",
    "oscars_raw.head(3)"
   ]
  },
  {
   "cell_type": "markdown",
   "metadata": {},
   "source": [
    "## Get the count of Oscar Nominations per movie"
   ]
  },
  {
   "cell_type": "code",
   "execution_count": 203,
   "metadata": {
    "scrolled": true
   },
   "outputs": [
    {
     "data": {
      "text/html": [
       "<div>\n",
       "<style scoped>\n",
       "    .dataframe tbody tr th:only-of-type {\n",
       "        vertical-align: middle;\n",
       "    }\n",
       "\n",
       "    .dataframe tbody tr th {\n",
       "        vertical-align: top;\n",
       "    }\n",
       "\n",
       "    .dataframe thead th {\n",
       "        text-align: right;\n",
       "    }\n",
       "</style>\n",
       "<table border=\"1\" class=\"dataframe\">\n",
       "  <thead>\n",
       "    <tr style=\"text-align: right;\">\n",
       "      <th></th>\n",
       "      <th>title</th>\n",
       "      <th>person</th>\n",
       "      <th>category</th>\n",
       "      <th>oscar_noms</th>\n",
       "    </tr>\n",
       "  </thead>\n",
       "  <tbody>\n",
       "    <tr>\n",
       "      <th>0</th>\n",
       "      <td>The Noose</td>\n",
       "      <td>Richard Barthelmess</td>\n",
       "      <td>ACTOR</td>\n",
       "      <td>1</td>\n",
       "    </tr>\n",
       "    <tr>\n",
       "      <th>1</th>\n",
       "      <td>The Last Command</td>\n",
       "      <td>Emil Jannings</td>\n",
       "      <td>ACTOR</td>\n",
       "      <td>2</td>\n",
       "    </tr>\n",
       "    <tr>\n",
       "      <th>2</th>\n",
       "      <td>A Ship Comes In</td>\n",
       "      <td>Louise Dresser</td>\n",
       "      <td>ACTRESS</td>\n",
       "      <td>1</td>\n",
       "    </tr>\n",
       "  </tbody>\n",
       "</table>\n",
       "</div>"
      ],
      "text/plain": [
       "              title               person category  oscar_noms\n",
       "0         The Noose  Richard Barthelmess    ACTOR           1\n",
       "1  The Last Command        Emil Jannings    ACTOR           2\n",
       "2   A Ship Comes In       Louise Dresser  ACTRESS           1"
      ]
     },
     "execution_count": 203,
     "metadata": {},
     "output_type": "execute_result"
    }
   ],
   "source": [
    "# subset the relevant data from Oscars df. Rename columns, drop rows with no movie title\n",
    "oscars = oscars_raw.loc[:,['film','name', 'category']]\n",
    "oscars.rename(columns={'film': 'title', 'name': 'person'}, inplace=True)\n",
    "oscars.drop(oscars[oscars['title'].isnull()].index, inplace=True)\n",
    "\n",
    "\n",
    "# create column for total number of oscar nominations per movie\n",
    "counts = oscars['title'].value_counts()\n",
    "d = counts.to_dict()\n",
    "oscars['oscar_noms'] = oscars['title'].map(d)\n",
    "oscars.head(3)"
   ]
  },
  {
   "cell_type": "markdown",
   "metadata": {},
   "source": [
    "## Unstack the Genre values\n",
    "Genres were originally formatted as a comma-delimited string (ie 'Action, Crime, Drama'.) We reformatted this to give each genre its own row in the table."
   ]
  },
  {
   "cell_type": "code",
   "execution_count": 204,
   "metadata": {},
   "outputs": [
    {
     "data": {
      "text/html": [
       "<div>\n",
       "<style scoped>\n",
       "    .dataframe tbody tr th:only-of-type {\n",
       "        vertical-align: middle;\n",
       "    }\n",
       "\n",
       "    .dataframe tbody tr th {\n",
       "        vertical-align: top;\n",
       "    }\n",
       "\n",
       "    .dataframe thead th {\n",
       "        text-align: right;\n",
       "    }\n",
       "</style>\n",
       "<table border=\"1\" class=\"dataframe\">\n",
       "  <thead>\n",
       "    <tr style=\"text-align: right;\">\n",
       "      <th></th>\n",
       "      <th>primary_title</th>\n",
       "      <th>genres</th>\n",
       "    </tr>\n",
       "  </thead>\n",
       "  <tbody>\n",
       "    <tr>\n",
       "      <th>0</th>\n",
       "      <td>Sunghursh</td>\n",
       "      <td>Action</td>\n",
       "    </tr>\n",
       "    <tr>\n",
       "      <th>1</th>\n",
       "      <td>Sunghursh</td>\n",
       "      <td>Crime</td>\n",
       "    </tr>\n",
       "    <tr>\n",
       "      <th>2</th>\n",
       "      <td>Sunghursh</td>\n",
       "      <td>Drama</td>\n",
       "    </tr>\n",
       "  </tbody>\n",
       "</table>\n",
       "</div>"
      ],
      "text/plain": [
       "  primary_title  genres\n",
       "0     Sunghursh  Action\n",
       "1     Sunghursh   Crime\n",
       "2     Sunghursh   Drama"
      ]
     },
     "execution_count": 204,
     "metadata": {},
     "output_type": "execute_result"
    }
   ],
   "source": [
    "# Unstacking Genre column to create individual rows (takes a while to run cell)\n",
    "genre_ugly = genre_raw\n",
    "genre_ugly['genres'] = genre_ugly['genres'].str.split(',', 3)\n",
    "genre_unstack = genre_ugly.set_index('primary_title').genres.apply(pd.Series).stack().reset_index(level=-1, drop=True).astype(str).reset_index()\n",
    "genre_unstack.columns = ['primary_title', 'genres']\n",
    "genre_unstack.head(3)"
   ]
  },
  {
   "cell_type": "markdown",
   "metadata": {},
   "source": [
    "## Merge Oscars table with Genre table"
   ]
  },
  {
   "cell_type": "code",
   "execution_count": 205,
   "metadata": {},
   "outputs": [
    {
     "data": {
      "text/html": [
       "<div>\n",
       "<style scoped>\n",
       "    .dataframe tbody tr th:only-of-type {\n",
       "        vertical-align: middle;\n",
       "    }\n",
       "\n",
       "    .dataframe tbody tr th {\n",
       "        vertical-align: top;\n",
       "    }\n",
       "\n",
       "    .dataframe thead th {\n",
       "        text-align: right;\n",
       "    }\n",
       "</style>\n",
       "<table border=\"1\" class=\"dataframe\">\n",
       "  <thead>\n",
       "    <tr style=\"text-align: right;\">\n",
       "      <th></th>\n",
       "      <th>title</th>\n",
       "      <th>person</th>\n",
       "      <th>category</th>\n",
       "      <th>oscar_noms</th>\n",
       "      <th>genres</th>\n",
       "    </tr>\n",
       "  </thead>\n",
       "  <tbody>\n",
       "    <tr>\n",
       "      <th>0</th>\n",
       "      <td>The Noose</td>\n",
       "      <td>Richard Barthelmess</td>\n",
       "      <td>ACTOR</td>\n",
       "      <td>1</td>\n",
       "      <td>Documentary</td>\n",
       "    </tr>\n",
       "    <tr>\n",
       "      <th>1</th>\n",
       "      <td>The Last Command</td>\n",
       "      <td>Emil Jannings</td>\n",
       "      <td>ACTOR</td>\n",
       "      <td>2</td>\n",
       "      <td>NaN</td>\n",
       "    </tr>\n",
       "    <tr>\n",
       "      <th>2</th>\n",
       "      <td>A Ship Comes In</td>\n",
       "      <td>Louise Dresser</td>\n",
       "      <td>ACTRESS</td>\n",
       "      <td>1</td>\n",
       "      <td>NaN</td>\n",
       "    </tr>\n",
       "  </tbody>\n",
       "</table>\n",
       "</div>"
      ],
      "text/plain": [
       "              title               person category  oscar_noms       genres\n",
       "0         The Noose  Richard Barthelmess    ACTOR           1  Documentary\n",
       "1  The Last Command        Emil Jannings    ACTOR           2          NaN\n",
       "2   A Ship Comes In       Louise Dresser  ACTRESS           1          NaN"
      ]
     },
     "execution_count": 205,
     "metadata": {},
     "output_type": "execute_result"
    }
   ],
   "source": [
    "oscar_genre = oscars.merge(genre_unstack, how = 'left', left_on='title', right_on='primary_title').drop('primary_title', axis=1)\n",
    "oscar_genre.head(3)"
   ]
  },
  {
   "cell_type": "markdown",
   "metadata": {},
   "source": [
    "## Clean Gross Revenue Table"
   ]
  },
  {
   "cell_type": "code",
   "execution_count": 206,
   "metadata": {},
   "outputs": [
    {
     "data": {
      "text/html": [
       "<div>\n",
       "<style scoped>\n",
       "    .dataframe tbody tr th:only-of-type {\n",
       "        vertical-align: middle;\n",
       "    }\n",
       "\n",
       "    .dataframe tbody tr th {\n",
       "        vertical-align: top;\n",
       "    }\n",
       "\n",
       "    .dataframe thead th {\n",
       "        text-align: right;\n",
       "    }\n",
       "</style>\n",
       "<table border=\"1\" class=\"dataframe\">\n",
       "  <thead>\n",
       "    <tr style=\"text-align: right;\">\n",
       "      <th></th>\n",
       "      <th>title</th>\n",
       "      <th>domestic_gross</th>\n",
       "      <th>foreign_gross</th>\n",
       "      <th>total_gross</th>\n",
       "    </tr>\n",
       "  </thead>\n",
       "  <tbody>\n",
       "    <tr>\n",
       "      <th>0</th>\n",
       "      <td>Toy Story 3</td>\n",
       "      <td>415000000.0</td>\n",
       "      <td>652000000.0</td>\n",
       "      <td>1.067000e+09</td>\n",
       "    </tr>\n",
       "    <tr>\n",
       "      <th>1</th>\n",
       "      <td>Alice in Wonderland (2010)</td>\n",
       "      <td>334200000.0</td>\n",
       "      <td>691300000.0</td>\n",
       "      <td>1.025500e+09</td>\n",
       "    </tr>\n",
       "    <tr>\n",
       "      <th>2</th>\n",
       "      <td>Harry Potter and the Deathly Hallows Part 1</td>\n",
       "      <td>296000000.0</td>\n",
       "      <td>664300000.0</td>\n",
       "      <td>9.603000e+08</td>\n",
       "    </tr>\n",
       "  </tbody>\n",
       "</table>\n",
       "</div>"
      ],
      "text/plain": [
       "                                         title  domestic_gross  foreign_gross  \\\n",
       "0                                  Toy Story 3     415000000.0    652000000.0   \n",
       "1                   Alice in Wonderland (2010)     334200000.0    691300000.0   \n",
       "2  Harry Potter and the Deathly Hallows Part 1     296000000.0    664300000.0   \n",
       "\n",
       "    total_gross  \n",
       "0  1.067000e+09  \n",
       "1  1.025500e+09  \n",
       "2  9.603000e+08  "
      ]
     },
     "execution_count": 206,
     "metadata": {},
     "output_type": "execute_result"
    }
   ],
   "source": [
    "# subset relevant data, change strings to floats\n",
    "movie_gross = movie_gross_raw.loc[:, ['title', 'domestic_gross', 'foreign_gross']]\n",
    "movie_gross['foreign_gross'] = movie_gross['foreign_gross'].str.replace(',','').astype(float)\n",
    "movie_gross['total_gross'] = movie_gross.domestic_gross + movie_gross.foreign_gross\n",
    "movie_gross.head(3)"
   ]
  },
  {
   "cell_type": "markdown",
   "metadata": {},
   "source": [
    " ## Clean Budgets Table"
   ]
  },
  {
   "cell_type": "code",
   "execution_count": 207,
   "metadata": {},
   "outputs": [
    {
     "data": {
      "text/html": [
       "<div>\n",
       "<style scoped>\n",
       "    .dataframe tbody tr th:only-of-type {\n",
       "        vertical-align: middle;\n",
       "    }\n",
       "\n",
       "    .dataframe tbody tr th {\n",
       "        vertical-align: top;\n",
       "    }\n",
       "\n",
       "    .dataframe thead th {\n",
       "        text-align: right;\n",
       "    }\n",
       "</style>\n",
       "<table border=\"1\" class=\"dataframe\">\n",
       "  <thead>\n",
       "    <tr style=\"text-align: right;\">\n",
       "      <th></th>\n",
       "      <th>title</th>\n",
       "      <th>production_budget</th>\n",
       "      <th>domestic_gross</th>\n",
       "      <th>total_gross</th>\n",
       "    </tr>\n",
       "  </thead>\n",
       "  <tbody>\n",
       "    <tr>\n",
       "      <th>0</th>\n",
       "      <td>Avatar</td>\n",
       "      <td>425000000.0</td>\n",
       "      <td>760507625.0</td>\n",
       "      <td>2.776345e+09</td>\n",
       "    </tr>\n",
       "    <tr>\n",
       "      <th>1</th>\n",
       "      <td>Pirates of the Caribbean: On Stranger Tides</td>\n",
       "      <td>410600000.0</td>\n",
       "      <td>241063875.0</td>\n",
       "      <td>1.045664e+09</td>\n",
       "    </tr>\n",
       "    <tr>\n",
       "      <th>2</th>\n",
       "      <td>Dark Phoenix</td>\n",
       "      <td>350000000.0</td>\n",
       "      <td>42762350.0</td>\n",
       "      <td>1.497624e+08</td>\n",
       "    </tr>\n",
       "  </tbody>\n",
       "</table>\n",
       "</div>"
      ],
      "text/plain": [
       "                                         title  production_budget  \\\n",
       "0                                       Avatar        425000000.0   \n",
       "1  Pirates of the Caribbean: On Stranger Tides        410600000.0   \n",
       "2                                 Dark Phoenix        350000000.0   \n",
       "\n",
       "   domestic_gross   total_gross  \n",
       "0     760507625.0  2.776345e+09  \n",
       "1     241063875.0  1.045664e+09  \n",
       "2      42762350.0  1.497624e+08  "
      ]
     },
     "execution_count": 207,
     "metadata": {},
     "output_type": "execute_result"
    }
   ],
   "source": [
    "# subset relevant data, change strings to floats\n",
    "budgets = budgets_raw.loc[:,['movie', 'production_budget', 'domestic_gross', 'worldwide_gross']]\n",
    "budgets.rename(columns={'movie': 'title', 'worldwide_gross':'total_gross'}, inplace=True)\n",
    "budgets['production_budget'] = budgets['production_budget'].str.replace('$','')\n",
    "budgets['production_budget'] = budgets['production_budget'].str.replace(',','').astype(float)\n",
    "budgets['domestic_gross'] = budgets['domestic_gross'].str.replace('$','')\n",
    "budgets['domestic_gross'] = budgets['domestic_gross'].str.replace(',','').astype(float)\n",
    "budgets['total_gross'] = budgets['total_gross'].str.replace('$','')\n",
    "budgets['total_gross'] = budgets['total_gross'].str.replace(',','').astype(float)\n",
    "budgets.head(3)"
   ]
  },
  {
   "cell_type": "markdown",
   "metadata": {},
   "source": [
    "## Concatenate Gross Revenue Table with Budgets Table"
   ]
  },
  {
   "cell_type": "code",
   "execution_count": 208,
   "metadata": {},
   "outputs": [
    {
     "data": {
      "text/html": [
       "<div>\n",
       "<style scoped>\n",
       "    .dataframe tbody tr th:only-of-type {\n",
       "        vertical-align: middle;\n",
       "    }\n",
       "\n",
       "    .dataframe tbody tr th {\n",
       "        vertical-align: top;\n",
       "    }\n",
       "\n",
       "    .dataframe thead th {\n",
       "        text-align: right;\n",
       "    }\n",
       "</style>\n",
       "<table border=\"1\" class=\"dataframe\">\n",
       "  <thead>\n",
       "    <tr style=\"text-align: right;\">\n",
       "      <th></th>\n",
       "      <th>domestic_gross</th>\n",
       "      <th>foreign_gross</th>\n",
       "      <th>production_budget</th>\n",
       "      <th>title</th>\n",
       "      <th>total_gross</th>\n",
       "      <th>roi</th>\n",
       "    </tr>\n",
       "  </thead>\n",
       "  <tbody>\n",
       "    <tr>\n",
       "      <th>4163</th>\n",
       "      <td>3273588.0</td>\n",
       "      <td>NaN</td>\n",
       "      <td>6000000.0</td>\n",
       "      <td>Only the Strong</td>\n",
       "      <td>3273588.0</td>\n",
       "      <td>-45.44</td>\n",
       "    </tr>\n",
       "    <tr>\n",
       "      <th>5462</th>\n",
       "      <td>6840.0</td>\n",
       "      <td>NaN</td>\n",
       "      <td>500000.0</td>\n",
       "      <td>Scott Walker: 30 Century Man</td>\n",
       "      <td>77121.0</td>\n",
       "      <td>-84.58</td>\n",
       "    </tr>\n",
       "    <tr>\n",
       "      <th>2565</th>\n",
       "      <td>30113491.0</td>\n",
       "      <td>NaN</td>\n",
       "      <td>20000000.0</td>\n",
       "      <td>Ghost Ship</td>\n",
       "      <td>68349884.0</td>\n",
       "      <td>241.75</td>\n",
       "    </tr>\n",
       "  </tbody>\n",
       "</table>\n",
       "</div>"
      ],
      "text/plain": [
       "      domestic_gross  foreign_gross  production_budget  \\\n",
       "4163       3273588.0            NaN          6000000.0   \n",
       "5462          6840.0            NaN           500000.0   \n",
       "2565      30113491.0            NaN         20000000.0   \n",
       "\n",
       "                             title  total_gross     roi  \n",
       "4163               Only the Strong    3273588.0  -45.44  \n",
       "5462  Scott Walker: 30 Century Man      77121.0  -84.58  \n",
       "2565                    Ghost Ship   68349884.0  241.75  "
      ]
     },
     "execution_count": 208,
     "metadata": {},
     "output_type": "execute_result"
    }
   ],
   "source": [
    "# concat gross and budget tables, create columns for total_gross and Return on Investment, drop duplicate rows\n",
    "budget_concat = pd.concat([movie_gross, budgets], sort=True)\n",
    "budget_concat['roi'] = (((budget_concat.total_gross - budget_concat.production_budget)/budget_concat.production_budget)* 100).round(2)\n",
    "budget_concat.drop_duplicates(subset=['title'],keep='last', inplace=True)\n",
    "budget_concat.sample(3)"
   ]
  },
  {
   "cell_type": "markdown",
   "metadata": {},
   "source": [
    "# Final Oscar Nominations, Genre, and Budget DataFrame"
   ]
  },
  {
   "cell_type": "code",
   "execution_count": 209,
   "metadata": {},
   "outputs": [
    {
     "data": {
      "text/html": [
       "<div>\n",
       "<style scoped>\n",
       "    .dataframe tbody tr th:only-of-type {\n",
       "        vertical-align: middle;\n",
       "    }\n",
       "\n",
       "    .dataframe tbody tr th {\n",
       "        vertical-align: top;\n",
       "    }\n",
       "\n",
       "    .dataframe thead th {\n",
       "        text-align: right;\n",
       "    }\n",
       "</style>\n",
       "<table border=\"1\" class=\"dataframe\">\n",
       "  <thead>\n",
       "    <tr style=\"text-align: right;\">\n",
       "      <th></th>\n",
       "      <th>oscar_noms</th>\n",
       "      <th>genres</th>\n",
       "      <th>production_budget</th>\n",
       "      <th>total_gross</th>\n",
       "      <th>roi</th>\n",
       "    </tr>\n",
       "    <tr>\n",
       "      <th>title</th>\n",
       "      <th></th>\n",
       "      <th></th>\n",
       "      <th></th>\n",
       "      <th></th>\n",
       "      <th></th>\n",
       "    </tr>\n",
       "  </thead>\n",
       "  <tbody>\n",
       "    <tr>\n",
       "      <th>A Star Is Born</th>\n",
       "      <td>25</td>\n",
       "      <td>Romance</td>\n",
       "      <td>NaN</td>\n",
       "      <td>NaN</td>\n",
       "      <td>NaN</td>\n",
       "    </tr>\n",
       "    <tr>\n",
       "      <th>A Star Is Born</th>\n",
       "      <td>25</td>\n",
       "      <td>Drama</td>\n",
       "      <td>NaN</td>\n",
       "      <td>NaN</td>\n",
       "      <td>NaN</td>\n",
       "    </tr>\n",
       "    <tr>\n",
       "      <th>A Star Is Born</th>\n",
       "      <td>25</td>\n",
       "      <td>Music</td>\n",
       "      <td>NaN</td>\n",
       "      <td>NaN</td>\n",
       "      <td>NaN</td>\n",
       "    </tr>\n",
       "    <tr>\n",
       "      <th>Titanic</th>\n",
       "      <td>16</td>\n",
       "      <td>Family</td>\n",
       "      <td>200000000.0</td>\n",
       "      <td>2.208208e+09</td>\n",
       "      <td>1004.10</td>\n",
       "    </tr>\n",
       "    <tr>\n",
       "      <th>Titanic</th>\n",
       "      <td>16</td>\n",
       "      <td>Adventure</td>\n",
       "      <td>200000000.0</td>\n",
       "      <td>2.208208e+09</td>\n",
       "      <td>1004.10</td>\n",
       "    </tr>\n",
       "    <tr>\n",
       "      <th>...</th>\n",
       "      <td>...</td>\n",
       "      <td>...</td>\n",
       "      <td>...</td>\n",
       "      <td>...</td>\n",
       "      <td>...</td>\n",
       "    </tr>\n",
       "    <tr>\n",
       "      <th>Evolution</th>\n",
       "      <td>1</td>\n",
       "      <td>Mystery</td>\n",
       "      <td>80000000.0</td>\n",
       "      <td>9.834193e+07</td>\n",
       "      <td>22.93</td>\n",
       "    </tr>\n",
       "    <tr>\n",
       "      <th>Evolution</th>\n",
       "      <td>1</td>\n",
       "      <td>Drama</td>\n",
       "      <td>80000000.0</td>\n",
       "      <td>9.834193e+07</td>\n",
       "      <td>22.93</td>\n",
       "    </tr>\n",
       "    <tr>\n",
       "      <th>The Crunch Bird</th>\n",
       "      <td>1</td>\n",
       "      <td>NaN</td>\n",
       "      <td>NaN</td>\n",
       "      <td>NaN</td>\n",
       "      <td>NaN</td>\n",
       "    </tr>\n",
       "    <tr>\n",
       "      <th>Bless the Beasts &amp; Children</th>\n",
       "      <td>1</td>\n",
       "      <td>NaN</td>\n",
       "      <td>NaN</td>\n",
       "      <td>NaN</td>\n",
       "      <td>NaN</td>\n",
       "    </tr>\n",
       "    <tr>\n",
       "      <th>Knives Out</th>\n",
       "      <td>1</td>\n",
       "      <td>Mystery</td>\n",
       "      <td>NaN</td>\n",
       "      <td>NaN</td>\n",
       "      <td>NaN</td>\n",
       "    </tr>\n",
       "  </tbody>\n",
       "</table>\n",
       "<p>6646 rows × 5 columns</p>\n",
       "</div>"
      ],
      "text/plain": [
       "                             oscar_noms     genres  production_budget  \\\n",
       "title                                                                   \n",
       "A Star Is Born                       25    Romance                NaN   \n",
       "A Star Is Born                       25      Drama                NaN   \n",
       "A Star Is Born                       25      Music                NaN   \n",
       "Titanic                              16     Family        200000000.0   \n",
       "Titanic                              16  Adventure        200000000.0   \n",
       "...                                 ...        ...                ...   \n",
       "Evolution                             1    Mystery         80000000.0   \n",
       "Evolution                             1      Drama         80000000.0   \n",
       "The Crunch Bird                       1        NaN                NaN   \n",
       "Bless the Beasts & Children           1        NaN                NaN   \n",
       "Knives Out                            1    Mystery                NaN   \n",
       "\n",
       "                              total_gross      roi  \n",
       "title                                               \n",
       "A Star Is Born                        NaN      NaN  \n",
       "A Star Is Born                        NaN      NaN  \n",
       "A Star Is Born                        NaN      NaN  \n",
       "Titanic                      2.208208e+09  1004.10  \n",
       "Titanic                      2.208208e+09  1004.10  \n",
       "...                                   ...      ...  \n",
       "Evolution                    9.834193e+07    22.93  \n",
       "Evolution                    9.834193e+07    22.93  \n",
       "The Crunch Bird                       NaN      NaN  \n",
       "Bless the Beasts & Children           NaN      NaN  \n",
       "Knives Out                            NaN      NaN  \n",
       "\n",
       "[6646 rows x 5 columns]"
      ]
     },
     "execution_count": 209,
     "metadata": {},
     "output_type": "execute_result"
    }
   ],
   "source": [
    "# subset the oscars table, drop duplicate listings\n",
    "oscar_df = oscar_genre.loc[:,['title', \"oscar_noms\", 'genres']]\n",
    "oscar_df.drop_duplicates(inplace=True)\n",
    "\n",
    "# merged genre/oscar table with budgets (used Left Join to retain all Oscar data)\n",
    "oscar_df = oscar_df.merge(budget_concat[['title','production_budget', \"total_gross\", 'roi']], on='title', how='left').set_index('title')\n",
    "oscar_df.sort_values('oscar_noms', ascending=False)"
   ]
  },
  {
   "cell_type": "markdown",
   "metadata": {},
   "source": [
    "# Question 1 Analysis "
   ]
  },
  {
   "cell_type": "markdown",
   "metadata": {},
   "source": [
    "## Oscar Nominations vs Total Gross Revenue\n",
    "Dropped 3 outliers with highest Total Gross Revenue (Avatar, Titanic, and Avengers: Infinity War)"
   ]
  },
  {
   "cell_type": "code",
   "execution_count": 210,
   "metadata": {},
   "outputs": [
    {
     "name": "stderr",
     "output_type": "stream",
     "text": [
      "/opt/anaconda3/envs/learn-env/lib/python3.6/site-packages/seaborn/axisgrid.py:1848: UserWarning: JointGrid annotation is deprecated and will be removed in a future release.\n",
      "  warnings.warn(UserWarning(msg))\n"
     ]
    },
    {
     "data": {
      "image/png": "[encoded data removed]",
      "text/plain": [
       "<Figure size 432x432 with 3 Axes>"
      ]
     },
     "metadata": {
      "needs_background": "light"
     },
     "output_type": "display_data"
    }
   ],
   "source": [
    "from scipy.stats import pearsonr\n",
    "\n",
    "x ='oscar_noms'\n",
    "y = 'total_gross'\n",
    "\n",
    "\n",
    "# drop duplicates that exist because of genre unstacking (genre not relevant for this chart)\n",
    "noms_vs_budget = oscar_df.loc[:,[x, y]].drop_duplicates().sort_values(y).dropna()[:-3] # exclude outliers\n",
    "sns.jointplot(x,y, data = noms_vs_budget, stat_func=pearsonr, kind='reg');\n",
    "plt.title('Nominations vs. Total Gross');\n"
   ]
  },
  {
   "cell_type": "markdown",
   "metadata": {},
   "source": [
    "## Oscar Nominations and Total Gross Revenue, By Genre"
   ]
  },
  {
   "cell_type": "code",
   "execution_count": 211,
   "metadata": {
    "scrolled": true
   },
   "outputs": [
    {
     "data": {
      "image/png": "[encoded data removed]",
      "text/plain": [
       "<Figure size 432x288 with 1 Axes>"
      ]
     },
     "metadata": {
      "needs_background": "light"
     },
     "output_type": "display_data"
    }
   ],
   "source": [
    "sns.barplot('oscar_noms','genres' , data = oscar_df);"
   ]
  },
  {
   "cell_type": "code",
   "execution_count": 212,
   "metadata": {
    "scrolled": true
   },
   "outputs": [
    {
     "data": {
      "image/png": "[encoded data removed]",
      "text/plain": [
       "<Figure size 432x288 with 1 Axes>"
      ]
     },
     "metadata": {
      "needs_background": "light"
     },
     "output_type": "display_data"
    }
   ],
   "source": [
    "sns.barplot('total_gross','genres' , data = oscar_df);"
   ]
  },
  {
   "cell_type": "markdown",
   "metadata": {},
   "source": [
    "# Question 2: How does Trailer Popularity impact Movie Success?\n",
    "### Task: Compare movie trailer view counts to movie ratings and revenue\n",
    "\n",
    "### Data of Interest:\n",
    "- trailer views\n",
    "- gross revenue\n",
    "- online ratings\n",
    "\n",
    "### Datasets:\n",
    "https://grouplens.org/datasets/movielens/20m-youtube/"
   ]
  },
  {
   "cell_type": "code",
   "execution_count": 213,
   "metadata": {
    "scrolled": true
   },
   "outputs": [
    {
     "data": {
      "text/html": [
       "<div>\n",
       "<style scoped>\n",
       "    .dataframe tbody tr th:only-of-type {\n",
       "        vertical-align: middle;\n",
       "    }\n",
       "\n",
       "    .dataframe tbody tr th {\n",
       "        vertical-align: top;\n",
       "    }\n",
       "\n",
       "    .dataframe thead th {\n",
       "        text-align: right;\n",
       "    }\n",
       "</style>\n",
       "<table border=\"1\" class=\"dataframe\">\n",
       "  <thead>\n",
       "    <tr style=\"text-align: right;\">\n",
       "      <th></th>\n",
       "      <th>youtubeId</th>\n",
       "      <th>movieId</th>\n",
       "      <th>title</th>\n",
       "      <th>domestic_gross</th>\n",
       "      <th>foreign_gross</th>\n",
       "      <th>production_budget</th>\n",
       "      <th>total_gross</th>\n",
       "      <th>roi</th>\n",
       "    </tr>\n",
       "  </thead>\n",
       "  <tbody>\n",
       "    <tr>\n",
       "      <th>2745</th>\n",
       "      <td>5MB3Ea6L-gw</td>\n",
       "      <td>72998</td>\n",
       "      <td>Avatar</td>\n",
       "      <td>760507625.0</td>\n",
       "      <td>NaN</td>\n",
       "      <td>425000000.0</td>\n",
       "      <td>2.776345e+09</td>\n",
       "      <td>553.26</td>\n",
       "    </tr>\n",
       "    <tr>\n",
       "      <th>458</th>\n",
       "      <td>dQ7MAigAhas</td>\n",
       "      <td>3404</td>\n",
       "      <td>Titanic</td>\n",
       "      <td>659363944.0</td>\n",
       "      <td>NaN</td>\n",
       "      <td>200000000.0</td>\n",
       "      <td>2.208208e+09</td>\n",
       "      <td>1004.10</td>\n",
       "    </tr>\n",
       "    <tr>\n",
       "      <th>457</th>\n",
       "      <td>2e-eXJ6HgkQ</td>\n",
       "      <td>1721</td>\n",
       "      <td>Titanic</td>\n",
       "      <td>659363944.0</td>\n",
       "      <td>NaN</td>\n",
       "      <td>200000000.0</td>\n",
       "      <td>2.208208e+09</td>\n",
       "      <td>1004.10</td>\n",
       "    </tr>\n",
       "    <tr>\n",
       "      <th>459</th>\n",
       "      <td>yxIVO7P0iig</td>\n",
       "      <td>118916</td>\n",
       "      <td>Titanic</td>\n",
       "      <td>659363944.0</td>\n",
       "      <td>NaN</td>\n",
       "      <td>200000000.0</td>\n",
       "      <td>2.208208e+09</td>\n",
       "      <td>1004.10</td>\n",
       "    </tr>\n",
       "    <tr>\n",
       "      <th>2798</th>\n",
       "      <td>tck0UR2ppjg</td>\n",
       "      <td>82452</td>\n",
       "      <td>Frozen</td>\n",
       "      <td>400738009.0</td>\n",
       "      <td>NaN</td>\n",
       "      <td>150000000.0</td>\n",
       "      <td>1.272470e+09</td>\n",
       "      <td>748.31</td>\n",
       "    </tr>\n",
       "    <tr>\n",
       "      <th>...</th>\n",
       "      <td>...</td>\n",
       "      <td>...</td>\n",
       "      <td>...</td>\n",
       "      <td>...</td>\n",
       "      <td>...</td>\n",
       "      <td>...</td>\n",
       "      <td>...</td>\n",
       "      <td>...</td>\n",
       "    </tr>\n",
       "    <tr>\n",
       "      <th>4012</th>\n",
       "      <td>myjar5KoqZA</td>\n",
       "      <td>129820</td>\n",
       "      <td>Spare Parts</td>\n",
       "      <td>3600000.0</td>\n",
       "      <td>NaN</td>\n",
       "      <td>NaN</td>\n",
       "      <td>NaN</td>\n",
       "      <td>NaN</td>\n",
       "    </tr>\n",
       "    <tr>\n",
       "      <th>4017</th>\n",
       "      <td>utmvmr7cgcg</td>\n",
       "      <td>130052</td>\n",
       "      <td>Clown</td>\n",
       "      <td>55000.0</td>\n",
       "      <td>NaN</td>\n",
       "      <td>NaN</td>\n",
       "      <td>NaN</td>\n",
       "      <td>NaN</td>\n",
       "    </tr>\n",
       "    <tr>\n",
       "      <th>4020</th>\n",
       "      <td>tRn3gr8Pt_o</td>\n",
       "      <td>130382</td>\n",
       "      <td>Mr. Pip</td>\n",
       "      <td>1700.0</td>\n",
       "      <td>NaN</td>\n",
       "      <td>NaN</td>\n",
       "      <td>NaN</td>\n",
       "      <td>NaN</td>\n",
       "    </tr>\n",
       "    <tr>\n",
       "      <th>4028</th>\n",
       "      <td>6uaWekLrilY</td>\n",
       "      <td>131023</td>\n",
       "      <td>That Sugar Film</td>\n",
       "      <td>3500.0</td>\n",
       "      <td>NaN</td>\n",
       "      <td>NaN</td>\n",
       "      <td>NaN</td>\n",
       "      <td>NaN</td>\n",
       "    </tr>\n",
       "    <tr>\n",
       "      <th>4029</th>\n",
       "      <td>3FJcYNQZioU</td>\n",
       "      <td>131172</td>\n",
       "      <td>Closed Curtain</td>\n",
       "      <td>28100.0</td>\n",
       "      <td>NaN</td>\n",
       "      <td>NaN</td>\n",
       "      <td>NaN</td>\n",
       "      <td>NaN</td>\n",
       "    </tr>\n",
       "  </tbody>\n",
       "</table>\n",
       "<p>4031 rows × 8 columns</p>\n",
       "</div>"
      ],
      "text/plain": [
       "        youtubeId  movieId            title  domestic_gross  foreign_gross  \\\n",
       "2745  5MB3Ea6L-gw    72998           Avatar     760507625.0            NaN   \n",
       "458   dQ7MAigAhas     3404          Titanic     659363944.0            NaN   \n",
       "457   2e-eXJ6HgkQ     1721          Titanic     659363944.0            NaN   \n",
       "459   yxIVO7P0iig   118916          Titanic     659363944.0            NaN   \n",
       "2798  tck0UR2ppjg    82452           Frozen     400738009.0            NaN   \n",
       "...           ...      ...              ...             ...            ...   \n",
       "4012  myjar5KoqZA   129820      Spare Parts       3600000.0            NaN   \n",
       "4017  utmvmr7cgcg   130052            Clown         55000.0            NaN   \n",
       "4020  tRn3gr8Pt_o   130382          Mr. Pip          1700.0            NaN   \n",
       "4028  6uaWekLrilY   131023  That Sugar Film          3500.0            NaN   \n",
       "4029  3FJcYNQZioU   131172   Closed Curtain         28100.0            NaN   \n",
       "\n",
       "      production_budget   total_gross      roi  \n",
       "2745        425000000.0  2.776345e+09   553.26  \n",
       "458         200000000.0  2.208208e+09  1004.10  \n",
       "457         200000000.0  2.208208e+09  1004.10  \n",
       "459         200000000.0  2.208208e+09  1004.10  \n",
       "2798        150000000.0  1.272470e+09   748.31  \n",
       "...                 ...           ...      ...  \n",
       "4012                NaN           NaN      NaN  \n",
       "4017                NaN           NaN      NaN  \n",
       "4020                NaN           NaN      NaN  \n",
       "4028                NaN           NaN      NaN  \n",
       "4029                NaN           NaN      NaN  \n",
       "\n",
       "[4031 rows x 8 columns]"
      ]
     },
     "execution_count": 213,
     "metadata": {},
     "output_type": "execute_result"
    }
   ],
   "source": [
    "# slice year out of title string, merge with budgets table\n",
    "trailers_raw = pd.read_csv('./zippedData/movie_trailers.zip')\n",
    "trailers_raw['title'] = trailers_raw['title'].str[:-7]\n",
    "trailers = trailers_raw.merge(budget_concat, on='title').sort_values('total_gross', ascending=False) #### remove this later\n",
    "ids = list(trailers[\"youtubeId\"].values[:])\n",
    "trailers"
   ]
  },
  {
   "cell_type": "markdown",
   "metadata": {},
   "source": [
    "## Create function to feed in youtube id's of trailers and retrieve view counts"
   ]
  },
  {
   "cell_type": "code",
   "execution_count": null,
   "metadata": {},
   "outputs": [],
   "source": [
    "def getViews(youtubeIDs):\n",
    "    views = []\n",
    "    for i in youtubeIDs:\n",
    "        try:\n",
    "            url = \"https://www.youtube.com/watch?v={}\".format(i)\n",
    "            html_page = requests.get(url) \n",
    "            soup = BeautifulSoup(html_page.text, 'html.parser')\n",
    "            script = soup.find_all('script')[32]\n",
    "            value = re.findall('ewCount\":{\"simpleText\":\"([\\d,]+) views', str(soup))\n",
    "            views.append(float(value[0].replace(',','')))\n",
    "        except:\n",
    "            views.append(0)\n",
    "    return views\n"
   ]
  },
  {
   "cell_type": "markdown",
   "metadata": {},
   "source": [
    "## Scrape all YouTube Trailers and save as CSV (Warning: takes ~1hr to run)\n",
    "### Leave this commented out"
   ]
  },
  {
   "cell_type": "code",
   "execution_count": 215,
   "metadata": {},
   "outputs": [],
   "source": [
    "# trailers['trailer_views'] = getViews(ids)\n",
    "# trailers.to_csv('zippedData/trailerViews.csv')"
   ]
  },
  {
   "cell_type": "markdown",
   "metadata": {},
   "source": [
    "# Final Trailer Views vs ROI DataFrame"
   ]
  },
  {
   "cell_type": "code",
   "execution_count": 216,
   "metadata": {},
   "outputs": [
    {
     "data": {
      "text/html": [
       "<div>\n",
       "<style scoped>\n",
       "    .dataframe tbody tr th:only-of-type {\n",
       "        vertical-align: middle;\n",
       "    }\n",
       "\n",
       "    .dataframe tbody tr th {\n",
       "        vertical-align: top;\n",
       "    }\n",
       "\n",
       "    .dataframe thead th {\n",
       "        text-align: right;\n",
       "    }\n",
       "</style>\n",
       "<table border=\"1\" class=\"dataframe\">\n",
       "  <thead>\n",
       "    <tr style=\"text-align: right;\">\n",
       "      <th></th>\n",
       "      <th>youtubeId</th>\n",
       "      <th>production_budget</th>\n",
       "      <th>total_gross</th>\n",
       "      <th>roi</th>\n",
       "      <th>trailer_views</th>\n",
       "    </tr>\n",
       "    <tr>\n",
       "      <th>title</th>\n",
       "      <th></th>\n",
       "      <th></th>\n",
       "      <th></th>\n",
       "      <th></th>\n",
       "      <th></th>\n",
       "    </tr>\n",
       "  </thead>\n",
       "  <tbody>\n",
       "    <tr>\n",
       "      <th>Unfaithful</th>\n",
       "      <td>j-V12tL78Mc</td>\n",
       "      <td>50000000.0</td>\n",
       "      <td>1.191145e+08</td>\n",
       "      <td>138.23</td>\n",
       "      <td>117290789.0</td>\n",
       "    </tr>\n",
       "    <tr>\n",
       "      <th>Ilo Ilo</th>\n",
       "      <td>ISovsVvX8Bg</td>\n",
       "      <td>NaN</td>\n",
       "      <td>1.156800e+06</td>\n",
       "      <td>NaN</td>\n",
       "      <td>67247941.0</td>\n",
       "    </tr>\n",
       "    <tr>\n",
       "      <th>Transformers: Dark of the Moon</th>\n",
       "      <td>3H8bnKdf654</td>\n",
       "      <td>195000000.0</td>\n",
       "      <td>1.123791e+09</td>\n",
       "      <td>476.30</td>\n",
       "      <td>53112332.0</td>\n",
       "    </tr>\n",
       "    <tr>\n",
       "      <th>The Fault in Our Stars</th>\n",
       "      <td>9ItBvH5J6ss</td>\n",
       "      <td>12000000.0</td>\n",
       "      <td>3.071668e+08</td>\n",
       "      <td>2459.72</td>\n",
       "      <td>44956623.0</td>\n",
       "    </tr>\n",
       "    <tr>\n",
       "      <th>Eden</th>\n",
       "      <td>pdbI0Fn4COQ</td>\n",
       "      <td>2300000.0</td>\n",
       "      <td>0.000000e+00</td>\n",
       "      <td>-100.00</td>\n",
       "      <td>43188495.0</td>\n",
       "    </tr>\n",
       "    <tr>\n",
       "      <th>...</th>\n",
       "      <td>...</td>\n",
       "      <td>...</td>\n",
       "      <td>...</td>\n",
       "      <td>...</td>\n",
       "      <td>...</td>\n",
       "    </tr>\n",
       "    <tr>\n",
       "      <th>Harry Brown</th>\n",
       "      <td>I2S3SraFmI0</td>\n",
       "      <td>7300000.0</td>\n",
       "      <td>1.202361e+07</td>\n",
       "      <td>64.71</td>\n",
       "      <td>0.0</td>\n",
       "    </tr>\n",
       "    <tr>\n",
       "      <th>Elles</th>\n",
       "      <td>YIWiNzszcAo</td>\n",
       "      <td>NaN</td>\n",
       "      <td>9.120000e+05</td>\n",
       "      <td>NaN</td>\n",
       "      <td>0.0</td>\n",
       "    </tr>\n",
       "    <tr>\n",
       "      <th>Miral</th>\n",
       "      <td>4t8E6_S9f4k</td>\n",
       "      <td>NaN</td>\n",
       "      <td>9.000000e+05</td>\n",
       "      <td>NaN</td>\n",
       "      <td>0.0</td>\n",
       "    </tr>\n",
       "    <tr>\n",
       "      <th>All Good Things</th>\n",
       "      <td>B7_VwoZKPRM</td>\n",
       "      <td>20000000.0</td>\n",
       "      <td>8.736170e+05</td>\n",
       "      <td>-95.63</td>\n",
       "      <td>0.0</td>\n",
       "    </tr>\n",
       "    <tr>\n",
       "      <th>You Can Count on Me</th>\n",
       "      <td>WfBoo0XvGfE</td>\n",
       "      <td>1200000.0</td>\n",
       "      <td>1.082736e+07</td>\n",
       "      <td>802.28</td>\n",
       "      <td>0.0</td>\n",
       "    </tr>\n",
       "  </tbody>\n",
       "</table>\n",
       "<p>3655 rows × 5 columns</p>\n",
       "</div>"
      ],
      "text/plain": [
       "                                  youtubeId  production_budget   total_gross  \\\n",
       "title                                                                          \n",
       "Unfaithful                      j-V12tL78Mc         50000000.0  1.191145e+08   \n",
       "Ilo Ilo                         ISovsVvX8Bg                NaN  1.156800e+06   \n",
       "Transformers: Dark of the Moon  3H8bnKdf654        195000000.0  1.123791e+09   \n",
       "The Fault in Our Stars          9ItBvH5J6ss         12000000.0  3.071668e+08   \n",
       "Eden                            pdbI0Fn4COQ          2300000.0  0.000000e+00   \n",
       "...                                     ...                ...           ...   \n",
       "Harry Brown                     I2S3SraFmI0          7300000.0  1.202361e+07   \n",
       "Elles                           YIWiNzszcAo                NaN  9.120000e+05   \n",
       "Miral                           4t8E6_S9f4k                NaN  9.000000e+05   \n",
       "All Good Things                 B7_VwoZKPRM         20000000.0  8.736170e+05   \n",
       "You Can Count on Me             WfBoo0XvGfE          1200000.0  1.082736e+07   \n",
       "\n",
       "                                    roi  trailer_views  \n",
       "title                                                   \n",
       "Unfaithful                       138.23    117290789.0  \n",
       "Ilo Ilo                             NaN     67247941.0  \n",
       "Transformers: Dark of the Moon   476.30     53112332.0  \n",
       "The Fault in Our Stars          2459.72     44956623.0  \n",
       "Eden                            -100.00     43188495.0  \n",
       "...                                 ...            ...  \n",
       "Harry Brown                       64.71            0.0  \n",
       "Elles                               NaN            0.0  \n",
       "Miral                               NaN            0.0  \n",
       "All Good Things                  -95.63            0.0  \n",
       "You Can Count on Me              802.28            0.0  \n",
       "\n",
       "[3655 rows x 5 columns]"
      ]
     },
     "execution_count": 216,
     "metadata": {},
     "output_type": "execute_result"
    }
   ],
   "source": [
    "# sort by trailer views and drop duplicates to keep only trailer with highest views\n",
    "trailer_df = pd.read_csv('zippedData/trailerViews.csv')\n",
    "trailer_df = trailer_df.loc[:,['title','youtubeId','production_budget', 'total_gross', 'roi', 'trailer_views']].sort_values('trailer_views', ascending=False)\n",
    "trailer_df = trailer_df.drop_duplicates(subset= ['title'], keep='first').set_index('title')\n",
    "trailer_df"
   ]
  },
  {
   "cell_type": "code",
   "execution_count": 217,
   "metadata": {},
   "outputs": [
    {
     "data": {
      "text/plain": [
       "<seaborn.axisgrid.FacetGrid at 0x7fc894549780>"
      ]
     },
     "execution_count": 217,
     "metadata": {},
     "output_type": "execute_result"
    },
    {
     "data": {
      "image/png": "[encoded data removed]",
      "text/plain": [
       "<Figure size 360x360 with 1 Axes>"
      ]
     },
     "metadata": {
      "needs_background": "light"
     },
     "output_type": "display_data"
    }
   ],
   "source": [
    "sns.lmplot('trailer_views', 'total_gross', data = trailer_df)"
   ]
  },
  {
   "cell_type": "code",
   "execution_count": null,
   "metadata": {},
   "outputs": [],
   "source": []
  },
  {
   "cell_type": "code",
   "execution_count": null,
   "metadata": {},
   "outputs": [],
   "source": []
  },
  {
   "cell_type": "code",
   "execution_count": null,
   "metadata": {},
   "outputs": [],
   "source": []
  },
  {
   "cell_type": "markdown",
   "metadata": {},
   "source": [
    "# Question 3: Do Music Scores Contribute to Movie Success?\n",
    "### Task: Look at how music score ratings compare to movie ratings and ROI\n",
    "### Data of Interest:\n",
    "- Composers\n",
    "- Music Score Rating\n",
    "- Average Movie Rating\n",
    "- TMDB rating\n",
    "- IMDB rating\n",
    "- ROI\n",
    "\n",
    "### Datasets: \n",
    "- https://www.soundtrack.net/content/reviews/ (not sure if we will end up using this one)\n",
    "- http://www.movie-wave.net/reviews-by-composer/\n"
   ]
  },
  {
   "cell_type": "markdown",
   "metadata": {},
   "source": [
    "## Scrape music reviews page"
   ]
  },
  {
   "cell_type": "code",
   "execution_count": 218,
   "metadata": {},
   "outputs": [],
   "source": [
    "page = requests.get(\"http://www.movie-wave.net/reviews-by-title/\")\n",
    "soup = BeautifulSoup(page.content, 'html.parser')\n",
    "content =soup.find('div', class_=\"page-content\")\n",
    "p_list = content.findAll('p')"
   ]
  },
  {
   "cell_type": "code",
   "execution_count": 219,
   "metadata": {},
   "outputs": [],
   "source": [
    "to_df =[]\n",
    "for p in p_list:\n",
    "    for a in p.findAll('a'):\n",
    "        try:\n",
    "           to_df.append([a.text, a.nextSibling, a.nextSibling.nextSibling.text])\n",
    "        except:\n",
    "            pass\n"
   ]
  },
  {
   "cell_type": "markdown",
   "metadata": {},
   "source": [
    "## Create DataFrame with Music Ratings"
   ]
  },
  {
   "cell_type": "code",
   "execution_count": 220,
   "metadata": {},
   "outputs": [],
   "source": [
    "music_df = pd.DataFrame(to_df, columns=['title', 'composer', 'stars'])\n",
    "music_df['composer'] = music_df['composer'].str[:-7]"
   ]
  },
  {
   "cell_type": "code",
   "execution_count": 221,
   "metadata": {},
   "outputs": [
    {
     "data": {
      "text/html": [
       "<div>\n",
       "<style scoped>\n",
       "    .dataframe tbody tr th:only-of-type {\n",
       "        vertical-align: middle;\n",
       "    }\n",
       "\n",
       "    .dataframe tbody tr th {\n",
       "        vertical-align: top;\n",
       "    }\n",
       "\n",
       "    .dataframe thead th {\n",
       "        text-align: right;\n",
       "    }\n",
       "</style>\n",
       "<table border=\"1\" class=\"dataframe\">\n",
       "  <thead>\n",
       "    <tr style=\"text-align: right;\">\n",
       "      <th></th>\n",
       "      <th>title</th>\n",
       "      <th>composer</th>\n",
       "      <th>music_rating</th>\n",
       "    </tr>\n",
       "  </thead>\n",
       "  <tbody>\n",
       "    <tr>\n",
       "      <th>0</th>\n",
       "      <td>10 Cloverfield Lane</td>\n",
       "      <td>Bear McCreary</td>\n",
       "      <td>4.0</td>\n",
       "    </tr>\n",
       "    <tr>\n",
       "      <th>1</th>\n",
       "      <td>100 Rifles</td>\n",
       "      <td>Jerry Goldsmith</td>\n",
       "      <td>4.0</td>\n",
       "    </tr>\n",
       "    <tr>\n",
       "      <th>2</th>\n",
       "      <td>101 Dalmatians</td>\n",
       "      <td>Michael Kamen</td>\n",
       "      <td>4.5</td>\n",
       "    </tr>\n",
       "    <tr>\n",
       "      <th>3</th>\n",
       "      <td>102 Dalmatians</td>\n",
       "      <td>David Newman</td>\n",
       "      <td>4.0</td>\n",
       "    </tr>\n",
       "    <tr>\n",
       "      <th>4</th>\n",
       "      <td>10,000BC</td>\n",
       "      <td>Harald Kloser and Thomas Wander</td>\n",
       "      <td>2.0</td>\n",
       "    </tr>\n",
       "    <tr>\n",
       "      <th>...</th>\n",
       "      <td>...</td>\n",
       "      <td>...</td>\n",
       "      <td>...</td>\n",
       "    </tr>\n",
       "    <tr>\n",
       "      <th>2294</th>\n",
       "      <td>Zathura</td>\n",
       "      <td>John Debney</td>\n",
       "      <td>4.0</td>\n",
       "    </tr>\n",
       "    <tr>\n",
       "      <th>2295</th>\n",
       "      <td>Zero Dark Thirty</td>\n",
       "      <td>Alexandre Desplat</td>\n",
       "      <td>4.0</td>\n",
       "    </tr>\n",
       "    <tr>\n",
       "      <th>2296</th>\n",
       "      <td>Zoolander 2</td>\n",
       "      <td>Theodore Shapiro</td>\n",
       "      <td>3.5</td>\n",
       "    </tr>\n",
       "    <tr>\n",
       "      <th>2297</th>\n",
       "      <td>Zootopia</td>\n",
       "      <td>Michael Giacchino</td>\n",
       "      <td>2.0</td>\n",
       "    </tr>\n",
       "    <tr>\n",
       "      <th>2298</th>\n",
       "      <td>Zulu Dawn</td>\n",
       "      <td>Elmer Bernstein</td>\n",
       "      <td>5.0</td>\n",
       "    </tr>\n",
       "  </tbody>\n",
       "</table>\n",
       "<p>2299 rows × 3 columns</p>\n",
       "</div>"
      ],
      "text/plain": [
       "                    title                           composer  music_rating\n",
       "0     10 Cloverfield Lane                     Bear McCreary            4.0\n",
       "1              100 Rifles                   Jerry Goldsmith            4.0\n",
       "2          101 Dalmatians                     Michael Kamen            4.5\n",
       "3          102 Dalmatians                      David Newman            4.0\n",
       "4                10,000BC   Harald Kloser and Thomas Wander            2.0\n",
       "...                   ...                                ...           ...\n",
       "2294              Zathura                       John Debney            4.0\n",
       "2295     Zero Dark Thirty                 Alexandre Desplat            4.0\n",
       "2296          Zoolander 2                  Theodore Shapiro            3.5\n",
       "2297             Zootopia                 Michael Giacchino            2.0\n",
       "2298            Zulu Dawn                   Elmer Bernstein            5.0\n",
       "\n",
       "[2299 rows x 3 columns]"
      ]
     },
     "execution_count": 221,
     "metadata": {},
     "output_type": "execute_result"
    }
   ],
   "source": [
    "stars = list(music_df['stars'])\n",
    "mapper = {'*****':5, '**** 1/2':4.5,'****':4,'*** 1/2':3.5,'***':3,'** 1/2':2.5,'**':2,'* 1/2':1.5,'*':1}\n",
    "ratings = list(map(mapper.get, stars))\n",
    "music_df['music_rating'] = ratings\n",
    "music_df = music_df.drop('stars',axis=1)\n",
    "music_df"
   ]
  },
  {
   "cell_type": "markdown",
   "metadata": {},
   "source": [
    "## Merge TMDB Ratings with Budget/ROI table\n"
   ]
  },
  {
   "cell_type": "code",
   "execution_count": 222,
   "metadata": {},
   "outputs": [
    {
     "data": {
      "text/html": [
       "<div>\n",
       "<style scoped>\n",
       "    .dataframe tbody tr th:only-of-type {\n",
       "        vertical-align: middle;\n",
       "    }\n",
       "\n",
       "    .dataframe tbody tr th {\n",
       "        vertical-align: top;\n",
       "    }\n",
       "\n",
       "    .dataframe thead th {\n",
       "        text-align: right;\n",
       "    }\n",
       "</style>\n",
       "<table border=\"1\" class=\"dataframe\">\n",
       "  <thead>\n",
       "    <tr style=\"text-align: right;\">\n",
       "      <th></th>\n",
       "      <th>title</th>\n",
       "      <th>tmdb_rating</th>\n",
       "      <th>tmdb_votes</th>\n",
       "      <th>tmdb_popularity</th>\n",
       "      <th>total_gross</th>\n",
       "      <th>production_budget</th>\n",
       "      <th>roi</th>\n",
       "    </tr>\n",
       "  </thead>\n",
       "  <tbody>\n",
       "    <tr>\n",
       "      <th>0</th>\n",
       "      <td>Harry Potter and the Deathly Hallows: Part 1</td>\n",
       "      <td>7.7</td>\n",
       "      <td>10788</td>\n",
       "      <td>33.533</td>\n",
       "      <td>NaN</td>\n",
       "      <td>NaN</td>\n",
       "      <td>NaN</td>\n",
       "    </tr>\n",
       "    <tr>\n",
       "      <th>1</th>\n",
       "      <td>How to Train Your Dragon</td>\n",
       "      <td>7.7</td>\n",
       "      <td>7610</td>\n",
       "      <td>28.734</td>\n",
       "      <td>494870992.0</td>\n",
       "      <td>165000000.0</td>\n",
       "      <td>199.92</td>\n",
       "    </tr>\n",
       "    <tr>\n",
       "      <th>2</th>\n",
       "      <td>Iron Man 2</td>\n",
       "      <td>6.8</td>\n",
       "      <td>12368</td>\n",
       "      <td>28.515</td>\n",
       "      <td>621156389.0</td>\n",
       "      <td>170000000.0</td>\n",
       "      <td>265.39</td>\n",
       "    </tr>\n",
       "    <tr>\n",
       "      <th>3</th>\n",
       "      <td>Toy Story</td>\n",
       "      <td>7.9</td>\n",
       "      <td>10174</td>\n",
       "      <td>28.005</td>\n",
       "      <td>364545516.0</td>\n",
       "      <td>30000000.0</td>\n",
       "      <td>1115.15</td>\n",
       "    </tr>\n",
       "    <tr>\n",
       "      <th>4</th>\n",
       "      <td>Inception</td>\n",
       "      <td>8.3</td>\n",
       "      <td>22186</td>\n",
       "      <td>27.920</td>\n",
       "      <td>835524642.0</td>\n",
       "      <td>160000000.0</td>\n",
       "      <td>422.20</td>\n",
       "    </tr>\n",
       "  </tbody>\n",
       "</table>\n",
       "</div>"
      ],
      "text/plain": [
       "                                          title  tmdb_rating  tmdb_votes  \\\n",
       "0  Harry Potter and the Deathly Hallows: Part 1          7.7       10788   \n",
       "1                      How to Train Your Dragon          7.7        7610   \n",
       "2                                    Iron Man 2          6.8       12368   \n",
       "3                                     Toy Story          7.9       10174   \n",
       "4                                     Inception          8.3       22186   \n",
       "\n",
       "   tmdb_popularity  total_gross  production_budget      roi  \n",
       "0           33.533          NaN                NaN      NaN  \n",
       "1           28.734  494870992.0        165000000.0   199.92  \n",
       "2           28.515  621156389.0        170000000.0   265.39  \n",
       "3           28.005  364545516.0         30000000.0  1115.15  \n",
       "4           27.920  835524642.0        160000000.0   422.20  "
      ]
     },
     "execution_count": 222,
     "metadata": {},
     "output_type": "execute_result"
    }
   ],
   "source": [
    "# Rename columns to specify TMDB, and subset data to only get columns of interest\n",
    "tmdb = tmdb_raw.merge(budget_concat[['title', 'total_gross','production_budget', 'roi']], on='title', how='left')\n",
    "tmdb.rename(columns ={'popularity':'tmdb_popularity', 'vote_average': 'tmdb_rating', 'vote_count': 'tmdb_votes'}, inplace=True)\n",
    "tmdb = tmdb.loc[:,['title', 'tmdb_rating', 'tmdb_votes', 'tmdb_popularity', 'total_gross', 'production_budget', 'roi']]\n",
    "tmdb.head()"
   ]
  },
  {
   "cell_type": "markdown",
   "metadata": {},
   "source": [
    "## merge in IMDB ratings with above TMDB table"
   ]
  },
  {
   "cell_type": "code",
   "execution_count": 223,
   "metadata": {},
   "outputs": [
    {
     "data": {
      "text/html": [
       "<div>\n",
       "<style scoped>\n",
       "    .dataframe tbody tr th:only-of-type {\n",
       "        vertical-align: middle;\n",
       "    }\n",
       "\n",
       "    .dataframe tbody tr th {\n",
       "        vertical-align: top;\n",
       "    }\n",
       "\n",
       "    .dataframe thead th {\n",
       "        text-align: right;\n",
       "    }\n",
       "</style>\n",
       "<table border=\"1\" class=\"dataframe\">\n",
       "  <thead>\n",
       "    <tr style=\"text-align: right;\">\n",
       "      <th></th>\n",
       "      <th>title</th>\n",
       "      <th>imdb_rating</th>\n",
       "      <th>imdb_votes</th>\n",
       "      <th>tmdb_rating</th>\n",
       "      <th>tmdb_votes</th>\n",
       "      <th>tmdb_popularity</th>\n",
       "      <th>total_gross</th>\n",
       "      <th>production_budget</th>\n",
       "      <th>roi</th>\n",
       "    </tr>\n",
       "  </thead>\n",
       "  <tbody>\n",
       "    <tr>\n",
       "      <th>0</th>\n",
       "      <td>Just Inès</td>\n",
       "      <td>6.4</td>\n",
       "      <td>20</td>\n",
       "      <td>NaN</td>\n",
       "      <td>NaN</td>\n",
       "      <td>NaN</td>\n",
       "      <td>NaN</td>\n",
       "      <td>NaN</td>\n",
       "      <td>NaN</td>\n",
       "    </tr>\n",
       "    <tr>\n",
       "      <th>1</th>\n",
       "      <td>Samo Ines</td>\n",
       "      <td>6.4</td>\n",
       "      <td>20</td>\n",
       "      <td>NaN</td>\n",
       "      <td>NaN</td>\n",
       "      <td>NaN</td>\n",
       "      <td>NaN</td>\n",
       "      <td>NaN</td>\n",
       "      <td>NaN</td>\n",
       "    </tr>\n",
       "    <tr>\n",
       "      <th>2</th>\n",
       "      <td>Just Inès</td>\n",
       "      <td>6.4</td>\n",
       "      <td>20</td>\n",
       "      <td>NaN</td>\n",
       "      <td>NaN</td>\n",
       "      <td>NaN</td>\n",
       "      <td>NaN</td>\n",
       "      <td>NaN</td>\n",
       "      <td>NaN</td>\n",
       "    </tr>\n",
       "    <tr>\n",
       "      <th>3</th>\n",
       "      <td>The Legend of Hercules</td>\n",
       "      <td>4.2</td>\n",
       "      <td>50352</td>\n",
       "      <td>4.5</td>\n",
       "      <td>805.0</td>\n",
       "      <td>13.754</td>\n",
       "      <td>58953319.0</td>\n",
       "      <td>70000000.0</td>\n",
       "      <td>-15.78</td>\n",
       "    </tr>\n",
       "    <tr>\n",
       "      <th>4</th>\n",
       "      <td>Hércules - A Lenda Começa</td>\n",
       "      <td>4.2</td>\n",
       "      <td>50352</td>\n",
       "      <td>NaN</td>\n",
       "      <td>NaN</td>\n",
       "      <td>NaN</td>\n",
       "      <td>NaN</td>\n",
       "      <td>NaN</td>\n",
       "      <td>NaN</td>\n",
       "    </tr>\n",
       "  </tbody>\n",
       "</table>\n",
       "</div>"
      ],
      "text/plain": [
       "                       title  imdb_rating  imdb_votes  tmdb_rating  \\\n",
       "0                  Just Inès          6.4          20          NaN   \n",
       "1                  Samo Ines          6.4          20          NaN   \n",
       "2                  Just Inès          6.4          20          NaN   \n",
       "3     The Legend of Hercules          4.2       50352          4.5   \n",
       "4  Hércules - A Lenda Começa          4.2       50352          NaN   \n",
       "\n",
       "   tmdb_votes  tmdb_popularity  total_gross  production_budget    roi  \n",
       "0         NaN              NaN          NaN                NaN    NaN  \n",
       "1         NaN              NaN          NaN                NaN    NaN  \n",
       "2         NaN              NaN          NaN                NaN    NaN  \n",
       "3       805.0           13.754   58953319.0         70000000.0 -15.78  \n",
       "4         NaN              NaN          NaN                NaN    NaN  "
      ]
     },
     "execution_count": 223,
     "metadata": {},
     "output_type": "execute_result"
    }
   ],
   "source": [
    "# To retain as much info as possible, joined imdb_ratings with title table rather than title_basics\n",
    "imdb = imdb_raw.merge(titles_raw,left_on ='tconst', right_on ='title_id')\n",
    "imdb.rename(columns ={'averagerating':'imdb_rating', 'numvotes': 'imdb_votes'}, inplace=True)\n",
    "imdb = imdb[['title', 'imdb_rating', 'imdb_votes' ]]\n",
    "ratings = imdb.merge(tmdb, on='title', how='left')\n",
    "ratings.head()"
   ]
  },
  {
   "cell_type": "markdown",
   "metadata": {},
   "source": [
    "# Final Music X IMDB X TMDB X Revenue Table"
   ]
  },
  {
   "cell_type": "code",
   "execution_count": 224,
   "metadata": {},
   "outputs": [],
   "source": [
    "final_music = music_df.merge(ratings, on='title', how='inner')"
   ]
  },
  {
   "cell_type": "code",
   "execution_count": 226,
   "metadata": {},
   "outputs": [
    {
     "data": {
      "text/plain": [
       "title                   0\n",
       "composer                0\n",
       "music_rating           84\n",
       "imdb_rating             0\n",
       "imdb_votes              0\n",
       "tmdb_rating           558\n",
       "tmdb_votes            558\n",
       "tmdb_popularity       558\n",
       "total_gross          1193\n",
       "production_budget    1401\n",
       "roi                  1401\n",
       "dtype: int64"
      ]
     },
     "execution_count": 226,
     "metadata": {},
     "output_type": "execute_result"
    }
   ],
   "source": [
    "final_music.isnull().sum()"
   ]
  },
  {
   "cell_type": "code",
   "execution_count": 227,
   "metadata": {},
   "outputs": [],
   "source": [
    "music_imdb = final_music.drop(['tmdb_rating', 'tmdb_votes', 'tmdb_popularity', 'total_gross', 'production_budget', 'roi'], axis=1)\n",
    "music_imdb.dropna(inplace=True)"
   ]
  },
  {
   "cell_type": "code",
   "execution_count": 231,
   "metadata": {},
   "outputs": [],
   "source": [
    "music_imdb = music_imdb.sort_values('imdb_rating').dropna()[:-5]"
   ]
  },
  {
   "cell_type": "code",
   "execution_count": 232,
   "metadata": {},
   "outputs": [
    {
     "data": {
      "image/png": "[encoded data removed]",
      "text/plain": [
       "<Figure size 360x360 with 1 Axes>"
      ]
     },
     "metadata": {
      "needs_background": "light"
     },
     "output_type": "display_data"
    }
   ],
   "source": [
    "# remove  bottom 5 imdb_outliers\n",
    "music_imdb = music_imdb.sort_values('imdb_rating').dropna()[:-5]\n",
    "sns.lmplot('music_rating','imdb_rating',  data = music_imdb);\n",
    "plt.title('Movie Rating vs. Music Rating');"
   ]
  },
  {
   "cell_type": "markdown",
   "metadata": {},
   "source": [
    "#### There is a positivve correlation between music ratings and the imdb movie rating. "
   ]
  },
  {
   "cell_type": "markdown",
   "metadata": {},
   "source": [
    "### Clean Movie Budget DataFrame and Compute ROI"
   ]
  },
  {
   "cell_type": "code",
   "execution_count": 233,
   "metadata": {},
   "outputs": [],
   "source": [
    "gross = pd.read_csv('zippedData/tn.movie_budgets.csv.gz')\n",
    "gross['year'] = gross['release_date'].str[-4:].astype(float)\n",
    "gross['domestic_gross'] = gross['domestic_gross'].str.replace(',', '')\n",
    "gross['domestic_gross'] = gross['domestic_gross'].str.replace('$', '').astype(float)\n",
    "gross['production_budget'] = gross['production_budget'].str.replace(',', '')\n",
    "gross['production_budget'] = gross['production_budget'].str.replace('$', '').astype(float)\n",
    "gross['worldwide_gross'] = gross['worldwide_gross'].str.replace(',', '')\n",
    "gross['worldwide_gross'] = gross['worldwide_gross'].str.replace('$', '').astype(float)"
   ]
  },
  {
   "cell_type": "code",
   "execution_count": 234,
   "metadata": {},
   "outputs": [],
   "source": [
    "gross['ROI'] = (((gross['worldwide_gross'] - gross['production_budget']) / gross['production_budget'] ) * 100)"
   ]
  },
  {
   "cell_type": "code",
   "execution_count": 235,
   "metadata": {},
   "outputs": [
    {
     "data": {
      "text/html": [
       "<div>\n",
       "<style scoped>\n",
       "    .dataframe tbody tr th:only-of-type {\n",
       "        vertical-align: middle;\n",
       "    }\n",
       "\n",
       "    .dataframe tbody tr th {\n",
       "        vertical-align: top;\n",
       "    }\n",
       "\n",
       "    .dataframe thead th {\n",
       "        text-align: right;\n",
       "    }\n",
       "</style>\n",
       "<table border=\"1\" class=\"dataframe\">\n",
       "  <thead>\n",
       "    <tr style=\"text-align: right;\">\n",
       "      <th></th>\n",
       "      <th>id</th>\n",
       "      <th>release_date</th>\n",
       "      <th>production_budget</th>\n",
       "      <th>domestic_gross</th>\n",
       "      <th>worldwide_gross</th>\n",
       "      <th>year</th>\n",
       "      <th>ROI</th>\n",
       "    </tr>\n",
       "    <tr>\n",
       "      <th>original_title</th>\n",
       "      <th></th>\n",
       "      <th></th>\n",
       "      <th></th>\n",
       "      <th></th>\n",
       "      <th></th>\n",
       "      <th></th>\n",
       "      <th></th>\n",
       "    </tr>\n",
       "  </thead>\n",
       "  <tbody>\n",
       "    <tr>\n",
       "      <th>Avatar</th>\n",
       "      <td>1</td>\n",
       "      <td>Dec 18, 2009</td>\n",
       "      <td>425000000.0</td>\n",
       "      <td>760507625.0</td>\n",
       "      <td>2.776345e+09</td>\n",
       "      <td>2009.0</td>\n",
       "      <td>553.257713</td>\n",
       "    </tr>\n",
       "    <tr>\n",
       "      <th>Pirates of the Caribbean: On Stranger Tides</th>\n",
       "      <td>2</td>\n",
       "      <td>May 20, 2011</td>\n",
       "      <td>410600000.0</td>\n",
       "      <td>241063875.0</td>\n",
       "      <td>1.045664e+09</td>\n",
       "      <td>2011.0</td>\n",
       "      <td>154.667286</td>\n",
       "    </tr>\n",
       "    <tr>\n",
       "      <th>Dark Phoenix</th>\n",
       "      <td>3</td>\n",
       "      <td>Jun 7, 2019</td>\n",
       "      <td>350000000.0</td>\n",
       "      <td>42762350.0</td>\n",
       "      <td>1.497624e+08</td>\n",
       "      <td>2019.0</td>\n",
       "      <td>-57.210757</td>\n",
       "    </tr>\n",
       "    <tr>\n",
       "      <th>Avengers: Age of Ultron</th>\n",
       "      <td>4</td>\n",
       "      <td>May 1, 2015</td>\n",
       "      <td>330600000.0</td>\n",
       "      <td>459005868.0</td>\n",
       "      <td>1.403014e+09</td>\n",
       "      <td>2015.0</td>\n",
       "      <td>324.384139</td>\n",
       "    </tr>\n",
       "    <tr>\n",
       "      <th>Star Wars Ep. VIII: The Last Jedi</th>\n",
       "      <td>5</td>\n",
       "      <td>Dec 15, 2017</td>\n",
       "      <td>317000000.0</td>\n",
       "      <td>620181382.0</td>\n",
       "      <td>1.316722e+09</td>\n",
       "      <td>2017.0</td>\n",
       "      <td>315.369636</td>\n",
       "    </tr>\n",
       "    <tr>\n",
       "      <th>...</th>\n",
       "      <td>...</td>\n",
       "      <td>...</td>\n",
       "      <td>...</td>\n",
       "      <td>...</td>\n",
       "      <td>...</td>\n",
       "      <td>...</td>\n",
       "      <td>...</td>\n",
       "    </tr>\n",
       "    <tr>\n",
       "      <th>Red 11</th>\n",
       "      <td>78</td>\n",
       "      <td>Dec 31, 2018</td>\n",
       "      <td>7000.0</td>\n",
       "      <td>0.0</td>\n",
       "      <td>0.000000e+00</td>\n",
       "      <td>2018.0</td>\n",
       "      <td>-100.000000</td>\n",
       "    </tr>\n",
       "    <tr>\n",
       "      <th>Following</th>\n",
       "      <td>79</td>\n",
       "      <td>Apr 2, 1999</td>\n",
       "      <td>6000.0</td>\n",
       "      <td>48482.0</td>\n",
       "      <td>2.404950e+05</td>\n",
       "      <td>1999.0</td>\n",
       "      <td>3908.250000</td>\n",
       "    </tr>\n",
       "    <tr>\n",
       "      <th>Return to the Land of Wonders</th>\n",
       "      <td>80</td>\n",
       "      <td>Jul 13, 2005</td>\n",
       "      <td>5000.0</td>\n",
       "      <td>1338.0</td>\n",
       "      <td>1.338000e+03</td>\n",
       "      <td>2005.0</td>\n",
       "      <td>-73.240000</td>\n",
       "    </tr>\n",
       "    <tr>\n",
       "      <th>A Plague So Pleasant</th>\n",
       "      <td>81</td>\n",
       "      <td>Sep 29, 2015</td>\n",
       "      <td>1400.0</td>\n",
       "      <td>0.0</td>\n",
       "      <td>0.000000e+00</td>\n",
       "      <td>2015.0</td>\n",
       "      <td>-100.000000</td>\n",
       "    </tr>\n",
       "    <tr>\n",
       "      <th>My Date With Drew</th>\n",
       "      <td>82</td>\n",
       "      <td>Aug 5, 2005</td>\n",
       "      <td>1100.0</td>\n",
       "      <td>181041.0</td>\n",
       "      <td>1.810410e+05</td>\n",
       "      <td>2005.0</td>\n",
       "      <td>16358.272727</td>\n",
       "    </tr>\n",
       "  </tbody>\n",
       "</table>\n",
       "<p>5782 rows × 7 columns</p>\n",
       "</div>"
      ],
      "text/plain": [
       "                                             id  release_date  \\\n",
       "original_title                                                  \n",
       "Avatar                                        1  Dec 18, 2009   \n",
       "Pirates of the Caribbean: On Stranger Tides   2  May 20, 2011   \n",
       "Dark Phoenix                                  3   Jun 7, 2019   \n",
       "Avengers: Age of Ultron                       4   May 1, 2015   \n",
       "Star Wars Ep. VIII: The Last Jedi             5  Dec 15, 2017   \n",
       "...                                          ..           ...   \n",
       "Red 11                                       78  Dec 31, 2018   \n",
       "Following                                    79   Apr 2, 1999   \n",
       "Return to the Land of Wonders                80  Jul 13, 2005   \n",
       "A Plague So Pleasant                         81  Sep 29, 2015   \n",
       "My Date With Drew                            82   Aug 5, 2005   \n",
       "\n",
       "                                             production_budget  \\\n",
       "original_title                                                   \n",
       "Avatar                                             425000000.0   \n",
       "Pirates of the Caribbean: On Stranger Tides        410600000.0   \n",
       "Dark Phoenix                                       350000000.0   \n",
       "Avengers: Age of Ultron                            330600000.0   \n",
       "Star Wars Ep. VIII: The Last Jedi                  317000000.0   \n",
       "...                                                        ...   \n",
       "Red 11                                                  7000.0   \n",
       "Following                                               6000.0   \n",
       "Return to the Land of Wonders                           5000.0   \n",
       "A Plague So Pleasant                                    1400.0   \n",
       "My Date With Drew                                       1100.0   \n",
       "\n",
       "                                             domestic_gross  worldwide_gross  \\\n",
       "original_title                                                                 \n",
       "Avatar                                          760507625.0     2.776345e+09   \n",
       "Pirates of the Caribbean: On Stranger Tides     241063875.0     1.045664e+09   \n",
       "Dark Phoenix                                     42762350.0     1.497624e+08   \n",
       "Avengers: Age of Ultron                         459005868.0     1.403014e+09   \n",
       "Star Wars Ep. VIII: The Last Jedi               620181382.0     1.316722e+09   \n",
       "...                                                     ...              ...   \n",
       "Red 11                                                  0.0     0.000000e+00   \n",
       "Following                                           48482.0     2.404950e+05   \n",
       "Return to the Land of Wonders                        1338.0     1.338000e+03   \n",
       "A Plague So Pleasant                                    0.0     0.000000e+00   \n",
       "My Date With Drew                                  181041.0     1.810410e+05   \n",
       "\n",
       "                                               year           ROI  \n",
       "original_title                                                     \n",
       "Avatar                                       2009.0    553.257713  \n",
       "Pirates of the Caribbean: On Stranger Tides  2011.0    154.667286  \n",
       "Dark Phoenix                                 2019.0    -57.210757  \n",
       "Avengers: Age of Ultron                      2015.0    324.384139  \n",
       "Star Wars Ep. VIII: The Last Jedi            2017.0    315.369636  \n",
       "...                                             ...           ...  \n",
       "Red 11                                       2018.0   -100.000000  \n",
       "Following                                    1999.0   3908.250000  \n",
       "Return to the Land of Wonders                2005.0    -73.240000  \n",
       "A Plague So Pleasant                         2015.0   -100.000000  \n",
       "My Date With Drew                            2005.0  16358.272727  \n",
       "\n",
       "[5782 rows x 7 columns]"
      ]
     },
     "execution_count": 235,
     "metadata": {},
     "output_type": "execute_result"
    }
   ],
   "source": [
    "# renaming and setting index for merging purposes\n",
    "gross.rename(columns = {'movie': 'original_title'}, inplace=True)\n",
    "gross.set_index('original_title')"
   ]
  },
  {
   "cell_type": "markdown",
   "metadata": {},
   "source": [
    "### Stack Genre DataFrame and Merge with Financial Data"
   ]
  },
  {
   "cell_type": "code",
   "execution_count": 263,
   "metadata": {},
   "outputs": [],
   "source": [
    "genre_raw = pd.read_csv('./zippedData/imdb.title.basics.csv.gz')\n",
    "genre_raw\n",
    "\n",
    "genre_ugly = genre_raw\n",
    "genre_ugly['genres'] = genre_ugly['genres'].str.split(',', 3)\n",
    "genre_unstack = genre_ugly.set_index('original_title').genres.apply(pd.Series).stack().reset_index(level=-1, drop=True).astype(str).reset_index()\n",
    "genre_unstack.columns = ['original_title', 'genres']"
   ]
  },
  {
   "cell_type": "code",
   "execution_count": 264,
   "metadata": {},
   "outputs": [
    {
     "data": {
      "text/html": [
       "<div>\n",
       "<style scoped>\n",
       "    .dataframe tbody tr th:only-of-type {\n",
       "        vertical-align: middle;\n",
       "    }\n",
       "\n",
       "    .dataframe tbody tr th {\n",
       "        vertical-align: top;\n",
       "    }\n",
       "\n",
       "    .dataframe thead th {\n",
       "        text-align: right;\n",
       "    }\n",
       "</style>\n",
       "<table border=\"1\" class=\"dataframe\">\n",
       "  <thead>\n",
       "    <tr style=\"text-align: right;\">\n",
       "      <th></th>\n",
       "      <th>original_title</th>\n",
       "      <th>genres</th>\n",
       "    </tr>\n",
       "  </thead>\n",
       "  <tbody>\n",
       "    <tr>\n",
       "      <th>0</th>\n",
       "      <td>Sunghursh</td>\n",
       "      <td>Action</td>\n",
       "    </tr>\n",
       "    <tr>\n",
       "      <th>1</th>\n",
       "      <td>Sunghursh</td>\n",
       "      <td>Crime</td>\n",
       "    </tr>\n",
       "    <tr>\n",
       "      <th>2</th>\n",
       "      <td>Sunghursh</td>\n",
       "      <td>Drama</td>\n",
       "    </tr>\n",
       "    <tr>\n",
       "      <th>3</th>\n",
       "      <td>Ashad Ka Ek Din</td>\n",
       "      <td>Biography</td>\n",
       "    </tr>\n",
       "    <tr>\n",
       "      <th>4</th>\n",
       "      <td>Ashad Ka Ek Din</td>\n",
       "      <td>Drama</td>\n",
       "    </tr>\n",
       "    <tr>\n",
       "      <th>...</th>\n",
       "      <td>...</td>\n",
       "      <td>...</td>\n",
       "    </tr>\n",
       "    <tr>\n",
       "      <th>229545</th>\n",
       "      <td>The Secret of China</td>\n",
       "      <td>War</td>\n",
       "    </tr>\n",
       "    <tr>\n",
       "      <th>229546</th>\n",
       "      <td>Kuambil Lagi Hatiku</td>\n",
       "      <td>Drama</td>\n",
       "    </tr>\n",
       "    <tr>\n",
       "      <th>229547</th>\n",
       "      <td>Rodolpho Teóphilo - O Legado de um Pioneiro</td>\n",
       "      <td>Documentary</td>\n",
       "    </tr>\n",
       "    <tr>\n",
       "      <th>229548</th>\n",
       "      <td>Dankyavar Danka</td>\n",
       "      <td>Comedy</td>\n",
       "    </tr>\n",
       "    <tr>\n",
       "      <th>229549</th>\n",
       "      <td>Chico Albuquerque - Revelações</td>\n",
       "      <td>Documentary</td>\n",
       "    </tr>\n",
       "  </tbody>\n",
       "</table>\n",
       "<p>229550 rows × 2 columns</p>\n",
       "</div>"
      ],
      "text/plain": [
       "                                     original_title       genres\n",
       "0                                         Sunghursh       Action\n",
       "1                                         Sunghursh        Crime\n",
       "2                                         Sunghursh        Drama\n",
       "3                                   Ashad Ka Ek Din    Biography\n",
       "4                                   Ashad Ka Ek Din        Drama\n",
       "...                                             ...          ...\n",
       "229545                          The Secret of China          War\n",
       "229546                          Kuambil Lagi Hatiku        Drama\n",
       "229547  Rodolpho Teóphilo - O Legado de um Pioneiro  Documentary\n",
       "229548                              Dankyavar Danka       Comedy\n",
       "229549               Chico Albuquerque - Revelações  Documentary\n",
       "\n",
       "[229550 rows x 2 columns]"
      ]
     },
     "execution_count": 264,
     "metadata": {},
     "output_type": "execute_result"
    }
   ],
   "source": [
    "genre_unstack"
   ]
  },
  {
   "cell_type": "code",
   "execution_count": 265,
   "metadata": {},
   "outputs": [],
   "source": [
    "# Merge with budget table and remove null values\n",
    "genre_roi = genre_unstack.merge(gross[['original_title', 'ROI']], on='original_title', how='left')\n",
    "genre_roi.dropna(axis = 0, inplace = True)"
   ]
  },
  {
   "cell_type": "code",
   "execution_count": 266,
   "metadata": {},
   "outputs": [
    {
     "data": {
      "text/html": [
       "<div>\n",
       "<style scoped>\n",
       "    .dataframe tbody tr th:only-of-type {\n",
       "        vertical-align: middle;\n",
       "    }\n",
       "\n",
       "    .dataframe tbody tr th {\n",
       "        vertical-align: top;\n",
       "    }\n",
       "\n",
       "    .dataframe thead th {\n",
       "        text-align: right;\n",
       "    }\n",
       "</style>\n",
       "<table border=\"1\" class=\"dataframe\">\n",
       "  <thead>\n",
       "    <tr style=\"text-align: right;\">\n",
       "      <th></th>\n",
       "      <th>original_title</th>\n",
       "      <th>genres</th>\n",
       "      <th>ROI</th>\n",
       "    </tr>\n",
       "  </thead>\n",
       "  <tbody>\n",
       "    <tr>\n",
       "      <th>32</th>\n",
       "      <td>Foodfight!</td>\n",
       "      <td>Action</td>\n",
       "      <td>-99.836209</td>\n",
       "    </tr>\n",
       "    <tr>\n",
       "      <th>33</th>\n",
       "      <td>Foodfight!</td>\n",
       "      <td>Animation</td>\n",
       "      <td>-99.836209</td>\n",
       "    </tr>\n",
       "    <tr>\n",
       "      <th>34</th>\n",
       "      <td>Foodfight!</td>\n",
       "      <td>Comedy</td>\n",
       "      <td>-99.836209</td>\n",
       "    </tr>\n",
       "    <tr>\n",
       "      <th>51</th>\n",
       "      <td>Mortal Kombat</td>\n",
       "      <td>Action</td>\n",
       "      <td>510.666135</td>\n",
       "    </tr>\n",
       "    <tr>\n",
       "      <th>52</th>\n",
       "      <td>Mortal Kombat</td>\n",
       "      <td>Adventure</td>\n",
       "      <td>510.666135</td>\n",
       "    </tr>\n",
       "    <tr>\n",
       "      <th>...</th>\n",
       "      <td>...</td>\n",
       "      <td>...</td>\n",
       "      <td>...</td>\n",
       "    </tr>\n",
       "    <tr>\n",
       "      <th>229383</th>\n",
       "      <td>Ali</td>\n",
       "      <td>Drama</td>\n",
       "      <td>-19.555994</td>\n",
       "    </tr>\n",
       "    <tr>\n",
       "      <th>229632</th>\n",
       "      <td>The Promise</td>\n",
       "      <td>Drama</td>\n",
       "      <td>-88.276203</td>\n",
       "    </tr>\n",
       "    <tr>\n",
       "      <th>229699</th>\n",
       "      <td>Sublime</td>\n",
       "      <td>Documentary</td>\n",
       "      <td>-100.000000</td>\n",
       "    </tr>\n",
       "    <tr>\n",
       "      <th>229751</th>\n",
       "      <td>Columbus</td>\n",
       "      <td>Comedy</td>\n",
       "      <td>58.644429</td>\n",
       "    </tr>\n",
       "    <tr>\n",
       "      <th>229811</th>\n",
       "      <td>Unstoppable</td>\n",
       "      <td>Documentary</td>\n",
       "      <td>74.443075</td>\n",
       "    </tr>\n",
       "  </tbody>\n",
       "</table>\n",
       "<p>7340 rows × 3 columns</p>\n",
       "</div>"
      ],
      "text/plain": [
       "       original_title       genres         ROI\n",
       "32         Foodfight!       Action  -99.836209\n",
       "33         Foodfight!    Animation  -99.836209\n",
       "34         Foodfight!       Comedy  -99.836209\n",
       "51      Mortal Kombat       Action  510.666135\n",
       "52      Mortal Kombat    Adventure  510.666135\n",
       "...               ...          ...         ...\n",
       "229383            Ali        Drama  -19.555994\n",
       "229632    The Promise        Drama  -88.276203\n",
       "229699        Sublime  Documentary -100.000000\n",
       "229751       Columbus       Comedy   58.644429\n",
       "229811    Unstoppable  Documentary   74.443075\n",
       "\n",
       "[7340 rows x 3 columns]"
      ]
     },
     "execution_count": 266,
     "metadata": {},
     "output_type": "execute_result"
    }
   ],
   "source": [
    "genre_roi"
   ]
  },
  {
   "cell_type": "markdown",
   "metadata": {},
   "source": [
    "### Compiling for Composer Dataframe"
   ]
  },
  {
   "cell_type": "code",
   "execution_count": 267,
   "metadata": {},
   "outputs": [],
   "source": [
    "# stack column listing movie id for each crew member\n",
    "crew = crew_raw\n",
    "crew['directors'] = crew['directors'].str.split(',', 5)\n",
    "crew_unstack = crew.set_index('tconst').directors.apply(pd.Series).stack().reset_index(level=-1, drop=True).astype(str).reset_index()\n",
    "crew_unstack.columns = ['tconst', 'id']"
   ]
  },
  {
   "cell_type": "code",
   "execution_count": 270,
   "metadata": {},
   "outputs": [],
   "source": [
    "name_basics_raw = pd.read_csv('./zippedData/imdb.name.basics.csv.gz')\n",
    "name_basics_raw.rename(columns = {'nconst' : 'directors', 'title_id':'tconst'}, inplace=True)\n",
    "name_basics_raw\n",
    "\n",
    "name_basics = name_basics_raw\n",
    "name_basics['primary_profession'] = name_basics['primary_profession'].str.split(',', 5)\n",
    "name_basics_unstack = name_basics.set_index('directors').primary_profession.apply(pd.Series).stack().reset_index(level=-1, drop=True).astype(str).reset_index()"
   ]
  },
  {
   "cell_type": "code",
   "execution_count": null,
   "metadata": {},
   "outputs": [],
   "source": [
    "name_basics_unstack.columns = ['id', 'job_title']\n",
    "name_basics.rename(columns={'directors':'id'}, inplace=True)"
   ]
  },
  {
   "cell_type": "code",
   "execution_count": null,
   "metadata": {},
   "outputs": [],
   "source": [
    "# Pulling in Data and Matching indices to Merge\n",
    "titles_raw.rename(columns = {'title_id':'tconst', 'title' : 'original_title'}, inplace=True)\n",
    "titles_raw"
   ]
  },
  {
   "cell_type": "code",
   "execution_count": null,
   "metadata": {},
   "outputs": [],
   "source": [
    "roi_with_title = genre_roi.merge(titles_raw[['original_title', 'tconst']], on='original_title', how='inner')"
   ]
  },
  {
   "cell_type": "code",
   "execution_count": null,
   "metadata": {},
   "outputs": [],
   "source": [
    "roi_with_title"
   ]
  },
  {
   "cell_type": "code",
   "execution_count": null,
   "metadata": {},
   "outputs": [],
   "source": [
    "composer = name_basics_unstack[name_basics_unstack['job_title'] == 'composer']"
   ]
  },
  {
   "cell_type": "code",
   "execution_count": null,
   "metadata": {},
   "outputs": [],
   "source": [
    "composers = crew_unstack.merge(composer[['id', 'job_title']], on='id', how='left')\n",
    "composers.dropna(inplace=True)\n",
    "composers.set_index('id', inplace=True)"
   ]
  },
  {
   "cell_type": "code",
   "execution_count": null,
   "metadata": {},
   "outputs": [],
   "source": [
    "composers_names = composer.merge(name_basics[['id', 'primary_name']], on='id', how='left')\n",
    "composers_names.set_index('primary_name')"
   ]
  },
  {
   "cell_type": "code",
   "execution_count": null,
   "metadata": {},
   "outputs": [],
   "source": [
    "crew = crew_unstack.merge(name_basics_raw[['id', 'primary_name']], on='id', how='left')"
   ]
  },
  {
   "cell_type": "code",
   "execution_count": null,
   "metadata": {},
   "outputs": [],
   "source": [
    "roi_crew_genre = roi_with_title.merge(crew[['tconst', 'primary_name']], on='tconst', how='left')\n",
    "roi_crew_genre.drop_duplicates(inplace=True)\n",
    "roi_crew_genre.set_index('primary_name')"
   ]
  },
  {
   "cell_type": "code",
   "execution_count": null,
   "metadata": {},
   "outputs": [],
   "source": [
    "composer_ = roi_crew_genre.merge(composers_names[['job_title', 'primary_name']], on='primary_name', how='inner')"
   ]
  },
  {
   "cell_type": "code",
   "execution_count": null,
   "metadata": {},
   "outputs": [],
   "source": [
    "composer_df = composer_.merge(imdb_raw[['tconst', 'averagerating']], on='tconst', how='left')\n",
    "composer_df.rename(columns={'primary_name': 'composer'}, inplace=True)\n",
    "composer_df.set_index('composer', inplace=True)"
   ]
  },
  {
   "cell_type": "code",
   "execution_count": null,
   "metadata": {},
   "outputs": [],
   "source": [
    "composer_df.ROI.mean()"
   ]
  },
  {
   "cell_type": "code",
   "execution_count": null,
   "metadata": {},
   "outputs": [],
   "source": [
    "ratings.roi.mean()"
   ]
  },
  {
   "cell_type": "markdown",
   "metadata": {},
   "source": [
    "##### Composer on average brings in near double\n",
    "\n",
    "\n"
   ]
  },
  {
   "cell_type": "markdown",
   "metadata": {},
   "source": [
    "### did a movie with a composer do better than the overall average ratings?"
   ]
  },
  {
   "cell_type": "markdown",
   "metadata": {},
   "source": [
    "## why are the ticks different"
   ]
  },
  {
   "cell_type": "code",
   "execution_count": null,
   "metadata": {},
   "outputs": [],
   "source": [
    "figure, ax = plt.subplots(1,2, figsize=(12,4))\n",
    "\n",
    "ax[0].set_title('Rating For Composers Only')\n",
    "ax[0].set_xlabel('')\n",
    "ax[0].set_ylabel('')\n",
    "\n",
    "y = composer_df.averagerating\n",
    "\n",
    "ax[0].hist(y);\n",
    "\n",
    "ax[1].set_title('Overall Rating Total')\n",
    "ax[1].set_xlabel('')\n",
    "ax[1].set_ylabel('')\n",
    "\n",
    "y = ratings.imdb_rating\n",
    "\n",
    "ax[1].hist(y);"
   ]
  },
  {
   "cell_type": "code",
   "execution_count": null,
   "metadata": {},
   "outputs": [],
   "source": [
    "#### we should get the mean and standard dev\n",
    "composer_df['averagerating'].mean()"
   ]
  },
  {
   "cell_type": "code",
   "execution_count": null,
   "metadata": {},
   "outputs": [],
   "source": [
    "ratings['imdb_rating'].mean()"
   ]
  },
  {
   "cell_type": "code",
   "execution_count": null,
   "metadata": {},
   "outputs": [],
   "source": [
    "composer_df['averagerating'].std()"
   ]
  },
  {
   "cell_type": "code",
   "execution_count": null,
   "metadata": {},
   "outputs": [],
   "source": [
    "ratings['imdb_rating'].std()"
   ]
  },
  {
   "cell_type": "markdown",
   "metadata": {},
   "source": [
    "### NEED INSIGHTS -------\n",
    "#### mean is slightly higher and std dev is lower for the composers than overall"
   ]
  },
  {
   "cell_type": "markdown",
   "metadata": {},
   "source": [
    "### Trying to get side by side bars"
   ]
  },
  {
   "cell_type": "code",
   "execution_count": null,
   "metadata": {},
   "outputs": [],
   "source": [
    "N = 23\n",
    "mean = genre_roi.groupby(['genres'])['ROI'].mean()\n",
    "x = y.index\n",
    "\n",
    "std = genre_roi.groupby(['genres'])['ROI'].std()\n",
    "z = q.index\n",
    "\n",
    "ind = np.arange(N)\n",
    "\n",
    "figure, ax = plt.subplots(figsize = (20,7))\n",
    "\n",
    "ax.set_title('Average ROI  vs Std For Movie Genres')\n",
    "ax.set_xlabel('Genre')\n",
    "ax.set_ylabel('ROI (percentage)')\n",
    "\n",
    "plt.xticks(ind + width / 2, rotation=90)\n",
    "\n",
    "width = .5\n",
    "\n",
    "plt.bar(ind, mean, color='green')\n",
    "plt.bar(ind + width, std, color='blue')"
   ]
  },
  {
   "cell_type": "code",
   "execution_count": null,
   "metadata": {},
   "outputs": [],
   "source": [
    "y = genre_roi.groupby(['genres'])['ROI'].mean()\n",
    "x = y.index\n",
    "\n",
    "figure, ax = plt.subplots(figsize = (8,5))\n",
    "\n",
    "ax.set_title('ROI Standard Deviation For Movie Genres')\n",
    "ax.set_xlabel('Genre')\n",
    "ax.set_ylabel('ROI (percentage)')\n",
    "\n",
    "plt.xticks(rotation=90)\n",
    "\n",
    "ax.bar(x, y, color='green');"
   ]
  },
  {
   "cell_type": "code",
   "execution_count": null,
   "metadata": {},
   "outputs": [],
   "source": [
    "y = genre_roi.groupby(['genres'])['ROI'].std()\n",
    "x = y.index\n",
    "\n",
    "figure, ax = plt.subplots(figsize = (8,5))\n",
    "\n",
    "ax.set_title('ROI Standard Deviation For Movie Genres')\n",
    "ax.set_xlabel('Genre')\n",
    "ax.set_ylabel('ROI (percentage)')\n",
    "\n",
    "plt.xticks(rotation=90)\n",
    "\n",
    "ax.bar(x, y, color='green');"
   ]
  },
  {
   "cell_type": "markdown",
   "metadata": {},
   "source": [
    "### or settle for this boring one // just the mean one above"
   ]
  },
  {
   "cell_type": "code",
   "execution_count": null,
   "metadata": {},
   "outputs": [],
   "source": [
    "y = genre_roi.groupby(['genres'])['ROI'].std()\n",
    "x = genre_roi.groupby(['genres'])['ROI'].mean()\n",
    "\n",
    "figure, ax = plt.subplots(figsize = (5,3))\n",
    "\n",
    "ax.set_title('ROI For Movie Genres')\n",
    "ax.set_xlabel('Mean')\n",
    "ax.set_ylabel('Standard Deviation')\n",
    "\n",
    "plt.xticks(rotation=90)\n",
    "\n",
    "ax.scatter(x, y, color='green');\n",
    "\n"
   ]
  },
  {
   "cell_type": "markdown",
   "metadata": {},
   "source": [
    "#### The genres with the top 3 ROI's also have the highest standard deviation."
   ]
  },
  {
   "cell_type": "code",
   "execution_count": null,
   "metadata": {},
   "outputs": [],
   "source": [
    "### could look into how much better the remake did  for musicals -- wait only 6 remakes though"
   ]
  },
  {
   "cell_type": "code",
   "execution_count": null,
   "metadata": {},
   "outputs": [],
   "source": []
  },
  {
   "cell_type": "code",
   "execution_count": null,
   "metadata": {},
   "outputs": [],
   "source": []
  },
  {
   "cell_type": "code",
   "execution_count": null,
   "metadata": {},
   "outputs": [],
   "source": []
  }
 ],
 "metadata": {
  "kernelspec": {
   "display_name": "Python 3",
   "language": "python",
   "name": "python3"
  },
  "language_info": {
   "codemirror_mode": {
    "name": "ipython",
    "version": 3
   },
   "file_extension": ".py",
   "mimetype": "text/x-python",
   "name": "python",
   "nbconvert_exporter": "python",
   "pygments_lexer": "ipython3",
   "version": "3.6.9"
  }
 },
 "nbformat": 4,
 "nbformat_minor": 2
}
