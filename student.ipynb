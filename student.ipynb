{
 "cells": [
  {
   "cell_type": "markdown",
   "metadata": {},
   "source": [
    "# Project 1: Exploratory Data Analysis of Movies\n",
    "Amelia Dahm & Khyatee Desai"
   ]
  },
  {
   "cell_type": "markdown",
   "metadata": {},
   "source": [
    "## Inspecting all the files"
   ]
  },
  {
   "cell_type": "markdown",
   "metadata": {},
   "source": [
    "1. bom.movie_gross.csv.gz\n",
    "2. imdb.title.ratings.csv.gz\n",
    "3. imdb.name.basics.csv.gz\n",
    "4. rt.movie_info.tsv.gz\n",
    "5. imdb.title.akas.csv.gz\n",
    "6. rt.reviews.tsv.gz\n",
    "7. imdb.title.basics.csv.gz\n",
    "8. tmdb.movies.csv.gz\n",
    "9. imdb.title.crew.csv.gz\n",
    "10. tn.movie_budgets.csv.gz\n",
    "11. imdb.title.principals.csv.gz"
   ]
  },
  {
   "cell_type": "code",
   "execution_count": 89,
   "metadata": {},
   "outputs": [],
   "source": [
    "import pandas as pd\n",
    "import re\n",
    "import matplotlib.pyplot as plt\n",
    "import seaborn as sns\n",
    "import requests\n",
    "from bs4 import BeautifulSoup\n",
    "%matplotlib inline"
   ]
  },
  {
   "cell_type": "markdown",
   "metadata": {},
   "source": [
    "## movie gross - Table 1"
   ]
  },
  {
   "cell_type": "code",
   "execution_count": 90,
   "metadata": {
    "scrolled": true
   },
   "outputs": [
    {
     "data": {
      "text/html": [
       "<div>\n",
       "<style scoped>\n",
       "    .dataframe tbody tr th:only-of-type {\n",
       "        vertical-align: middle;\n",
       "    }\n",
       "\n",
       "    .dataframe tbody tr th {\n",
       "        vertical-align: top;\n",
       "    }\n",
       "\n",
       "    .dataframe thead th {\n",
       "        text-align: right;\n",
       "    }\n",
       "</style>\n",
       "<table border=\"1\" class=\"dataframe\">\n",
       "  <thead>\n",
       "    <tr style=\"text-align: right;\">\n",
       "      <th></th>\n",
       "      <th>title</th>\n",
       "      <th>studio</th>\n",
       "      <th>domestic_gross</th>\n",
       "      <th>foreign_gross</th>\n",
       "      <th>year</th>\n",
       "    </tr>\n",
       "  </thead>\n",
       "  <tbody>\n",
       "    <tr>\n",
       "      <th>0</th>\n",
       "      <td>Toy Story 3</td>\n",
       "      <td>BV</td>\n",
       "      <td>415000000.0</td>\n",
       "      <td>652000000</td>\n",
       "      <td>2010</td>\n",
       "    </tr>\n",
       "  </tbody>\n",
       "</table>\n",
       "</div>"
      ],
      "text/plain": [
       "         title studio  domestic_gross foreign_gross  year\n",
       "0  Toy Story 3     BV     415000000.0     652000000  2010"
      ]
     },
     "execution_count": 90,
     "metadata": {},
     "output_type": "execute_result"
    }
   ],
   "source": [
    "movie_gross_raw = pd.read_csv('./zippedData/bom.movie_gross.csv.gz')\n",
    "movie_gross_raw.head(1)"
   ]
  },
  {
   "cell_type": "markdown",
   "metadata": {},
   "source": [
    "## IMDB ratings - Table 2"
   ]
  },
  {
   "cell_type": "code",
   "execution_count": 91,
   "metadata": {},
   "outputs": [
    {
     "data": {
      "text/html": [
       "<div>\n",
       "<style scoped>\n",
       "    .dataframe tbody tr th:only-of-type {\n",
       "        vertical-align: middle;\n",
       "    }\n",
       "\n",
       "    .dataframe tbody tr th {\n",
       "        vertical-align: top;\n",
       "    }\n",
       "\n",
       "    .dataframe thead th {\n",
       "        text-align: right;\n",
       "    }\n",
       "</style>\n",
       "<table border=\"1\" class=\"dataframe\">\n",
       "  <thead>\n",
       "    <tr style=\"text-align: right;\">\n",
       "      <th></th>\n",
       "      <th>tconst</th>\n",
       "      <th>averagerating</th>\n",
       "      <th>numvotes</th>\n",
       "    </tr>\n",
       "  </thead>\n",
       "  <tbody>\n",
       "    <tr>\n",
       "      <th>0</th>\n",
       "      <td>tt10356526</td>\n",
       "      <td>8.3</td>\n",
       "      <td>31</td>\n",
       "    </tr>\n",
       "  </tbody>\n",
       "</table>\n",
       "</div>"
      ],
      "text/plain": [
       "       tconst  averagerating  numvotes\n",
       "0  tt10356526            8.3        31"
      ]
     },
     "execution_count": 91,
     "metadata": {},
     "output_type": "execute_result"
    }
   ],
   "source": [
    "imdb_raw = pd.read_csv('./zippedData/imdb.title.ratings.csv.gz')\n",
    "imdb_raw.head(1)"
   ]
  },
  {
   "cell_type": "markdown",
   "metadata": {},
   "source": [
    "## name basics - Table 3"
   ]
  },
  {
   "cell_type": "code",
   "execution_count": 92,
   "metadata": {},
   "outputs": [
    {
     "data": {
      "text/html": [
       "<div>\n",
       "<style scoped>\n",
       "    .dataframe tbody tr th:only-of-type {\n",
       "        vertical-align: middle;\n",
       "    }\n",
       "\n",
       "    .dataframe tbody tr th {\n",
       "        vertical-align: top;\n",
       "    }\n",
       "\n",
       "    .dataframe thead th {\n",
       "        text-align: right;\n",
       "    }\n",
       "</style>\n",
       "<table border=\"1\" class=\"dataframe\">\n",
       "  <thead>\n",
       "    <tr style=\"text-align: right;\">\n",
       "      <th></th>\n",
       "      <th>nconst</th>\n",
       "      <th>primary_name</th>\n",
       "      <th>birth_year</th>\n",
       "      <th>death_year</th>\n",
       "      <th>primary_profession</th>\n",
       "      <th>known_for_titles</th>\n",
       "    </tr>\n",
       "  </thead>\n",
       "  <tbody>\n",
       "    <tr>\n",
       "      <th>0</th>\n",
       "      <td>nm0061671</td>\n",
       "      <td>Mary Ellen Bauder</td>\n",
       "      <td>NaN</td>\n",
       "      <td>NaN</td>\n",
       "      <td>miscellaneous,production_manager,producer</td>\n",
       "      <td>tt0837562,tt2398241,tt0844471,tt0118553</td>\n",
       "    </tr>\n",
       "  </tbody>\n",
       "</table>\n",
       "</div>"
      ],
      "text/plain": [
       "      nconst       primary_name  birth_year  death_year  \\\n",
       "0  nm0061671  Mary Ellen Bauder         NaN         NaN   \n",
       "\n",
       "                          primary_profession  \\\n",
       "0  miscellaneous,production_manager,producer   \n",
       "\n",
       "                          known_for_titles  \n",
       "0  tt0837562,tt2398241,tt0844471,tt0118553  "
      ]
     },
     "execution_count": 92,
     "metadata": {},
     "output_type": "execute_result"
    }
   ],
   "source": [
    "name_basics_raw = pd.read_csv('./zippedData/imdb.name.basics.csv.gz')\n",
    "name_basics_raw.head(1)"
   ]
  },
  {
   "cell_type": "markdown",
   "metadata": {},
   "source": [
    "## movie info - Table 4"
   ]
  },
  {
   "cell_type": "code",
   "execution_count": 93,
   "metadata": {},
   "outputs": [
    {
     "data": {
      "text/html": [
       "<div>\n",
       "<style scoped>\n",
       "    .dataframe tbody tr th:only-of-type {\n",
       "        vertical-align: middle;\n",
       "    }\n",
       "\n",
       "    .dataframe tbody tr th {\n",
       "        vertical-align: top;\n",
       "    }\n",
       "\n",
       "    .dataframe thead th {\n",
       "        text-align: right;\n",
       "    }\n",
       "</style>\n",
       "<table border=\"1\" class=\"dataframe\">\n",
       "  <thead>\n",
       "    <tr style=\"text-align: right;\">\n",
       "      <th></th>\n",
       "      <th>id</th>\n",
       "      <th>synopsis</th>\n",
       "      <th>rating</th>\n",
       "      <th>genre</th>\n",
       "      <th>director</th>\n",
       "      <th>writer</th>\n",
       "      <th>theater_date</th>\n",
       "      <th>dvd_date</th>\n",
       "      <th>currency</th>\n",
       "      <th>box_office</th>\n",
       "      <th>runtime</th>\n",
       "      <th>studio</th>\n",
       "    </tr>\n",
       "  </thead>\n",
       "  <tbody>\n",
       "    <tr>\n",
       "      <th>0</th>\n",
       "      <td>1</td>\n",
       "      <td>This gritty, fast-paced, and innovative police...</td>\n",
       "      <td>R</td>\n",
       "      <td>Action and Adventure|Classics|Drama</td>\n",
       "      <td>William Friedkin</td>\n",
       "      <td>Ernest Tidyman</td>\n",
       "      <td>Oct 9, 1971</td>\n",
       "      <td>Sep 25, 2001</td>\n",
       "      <td>NaN</td>\n",
       "      <td>NaN</td>\n",
       "      <td>104 minutes</td>\n",
       "      <td>NaN</td>\n",
       "    </tr>\n",
       "  </tbody>\n",
       "</table>\n",
       "</div>"
      ],
      "text/plain": [
       "   id                                           synopsis rating  \\\n",
       "0   1  This gritty, fast-paced, and innovative police...      R   \n",
       "\n",
       "                                 genre          director          writer  \\\n",
       "0  Action and Adventure|Classics|Drama  William Friedkin  Ernest Tidyman   \n",
       "\n",
       "  theater_date      dvd_date currency box_office      runtime studio  \n",
       "0  Oct 9, 1971  Sep 25, 2001      NaN        NaN  104 minutes    NaN  "
      ]
     },
     "execution_count": 93,
     "metadata": {},
     "output_type": "execute_result"
    }
   ],
   "source": [
    "movie_info_raw = pd.read_csv('./zippedData/rt.movie_info.tsv.gz',sep='\\t')\n",
    "movie_info_raw.head(1)"
   ]
  },
  {
   "cell_type": "markdown",
   "metadata": {},
   "source": [
    "## movie titles - Table 5"
   ]
  },
  {
   "cell_type": "code",
   "execution_count": 94,
   "metadata": {},
   "outputs": [
    {
     "data": {
      "text/html": [
       "<div>\n",
       "<style scoped>\n",
       "    .dataframe tbody tr th:only-of-type {\n",
       "        vertical-align: middle;\n",
       "    }\n",
       "\n",
       "    .dataframe tbody tr th {\n",
       "        vertical-align: top;\n",
       "    }\n",
       "\n",
       "    .dataframe thead th {\n",
       "        text-align: right;\n",
       "    }\n",
       "</style>\n",
       "<table border=\"1\" class=\"dataframe\">\n",
       "  <thead>\n",
       "    <tr style=\"text-align: right;\">\n",
       "      <th></th>\n",
       "      <th>title_id</th>\n",
       "      <th>ordering</th>\n",
       "      <th>title</th>\n",
       "      <th>region</th>\n",
       "      <th>language</th>\n",
       "      <th>types</th>\n",
       "      <th>attributes</th>\n",
       "      <th>is_original_title</th>\n",
       "    </tr>\n",
       "  </thead>\n",
       "  <tbody>\n",
       "    <tr>\n",
       "      <th>0</th>\n",
       "      <td>tt0369610</td>\n",
       "      <td>10</td>\n",
       "      <td>Джурасик свят</td>\n",
       "      <td>BG</td>\n",
       "      <td>bg</td>\n",
       "      <td>NaN</td>\n",
       "      <td>NaN</td>\n",
       "      <td>0.0</td>\n",
       "    </tr>\n",
       "  </tbody>\n",
       "</table>\n",
       "</div>"
      ],
      "text/plain": [
       "    title_id  ordering          title region language types attributes  \\\n",
       "0  tt0369610        10  Джурасик свят     BG       bg   NaN        NaN   \n",
       "\n",
       "   is_original_title  \n",
       "0                0.0  "
      ]
     },
     "execution_count": 94,
     "metadata": {},
     "output_type": "execute_result"
    }
   ],
   "source": [
    "titles_raw = pd.read_csv('./zippedData/imdb.title.akas.csv.gz')\n",
    "titles_raw.head(1)"
   ]
  },
  {
   "cell_type": "markdown",
   "metadata": {},
   "source": [
    "## RT reviews - Table 6"
   ]
  },
  {
   "cell_type": "code",
   "execution_count": 95,
   "metadata": {},
   "outputs": [
    {
     "data": {
      "text/html": [
       "<div>\n",
       "<style scoped>\n",
       "    .dataframe tbody tr th:only-of-type {\n",
       "        vertical-align: middle;\n",
       "    }\n",
       "\n",
       "    .dataframe tbody tr th {\n",
       "        vertical-align: top;\n",
       "    }\n",
       "\n",
       "    .dataframe thead th {\n",
       "        text-align: right;\n",
       "    }\n",
       "</style>\n",
       "<table border=\"1\" class=\"dataframe\">\n",
       "  <thead>\n",
       "    <tr style=\"text-align: right;\">\n",
       "      <th></th>\n",
       "      <th>id</th>\n",
       "      <th>review</th>\n",
       "      <th>rating</th>\n",
       "      <th>fresh</th>\n",
       "      <th>critic</th>\n",
       "      <th>top_critic</th>\n",
       "      <th>publisher</th>\n",
       "      <th>date</th>\n",
       "    </tr>\n",
       "  </thead>\n",
       "  <tbody>\n",
       "    <tr>\n",
       "      <th>0</th>\n",
       "      <td>3</td>\n",
       "      <td>A distinctly gallows take on contemporary fina...</td>\n",
       "      <td>3/5</td>\n",
       "      <td>fresh</td>\n",
       "      <td>PJ Nabarro</td>\n",
       "      <td>0</td>\n",
       "      <td>Patrick Nabarro</td>\n",
       "      <td>November 10, 2018</td>\n",
       "    </tr>\n",
       "  </tbody>\n",
       "</table>\n",
       "</div>"
      ],
      "text/plain": [
       "   id                                             review rating  fresh  \\\n",
       "0   3  A distinctly gallows take on contemporary fina...    3/5  fresh   \n",
       "\n",
       "       critic  top_critic        publisher               date  \n",
       "0  PJ Nabarro           0  Patrick Nabarro  November 10, 2018  "
      ]
     },
     "execution_count": 95,
     "metadata": {},
     "output_type": "execute_result"
    }
   ],
   "source": [
    "rt_raw = pd.read_csv('./zippedData/rt.reviews.tsv.gz',sep='\\t', encoding = \"ISO-8859-1\")\n",
    "rt_raw.head(1)"
   ]
  },
  {
   "cell_type": "markdown",
   "metadata": {},
   "source": [
    "## Genres/Runtime - Table 7"
   ]
  },
  {
   "cell_type": "code",
   "execution_count": 96,
   "metadata": {},
   "outputs": [
    {
     "data": {
      "text/html": [
       "<div>\n",
       "<style scoped>\n",
       "    .dataframe tbody tr th:only-of-type {\n",
       "        vertical-align: middle;\n",
       "    }\n",
       "\n",
       "    .dataframe tbody tr th {\n",
       "        vertical-align: top;\n",
       "    }\n",
       "\n",
       "    .dataframe thead th {\n",
       "        text-align: right;\n",
       "    }\n",
       "</style>\n",
       "<table border=\"1\" class=\"dataframe\">\n",
       "  <thead>\n",
       "    <tr style=\"text-align: right;\">\n",
       "      <th></th>\n",
       "      <th>tconst</th>\n",
       "      <th>primary_title</th>\n",
       "      <th>original_title</th>\n",
       "      <th>start_year</th>\n",
       "      <th>runtime_minutes</th>\n",
       "      <th>genres</th>\n",
       "    </tr>\n",
       "  </thead>\n",
       "  <tbody>\n",
       "    <tr>\n",
       "      <th>0</th>\n",
       "      <td>tt0063540</td>\n",
       "      <td>Sunghursh</td>\n",
       "      <td>Sunghursh</td>\n",
       "      <td>2013</td>\n",
       "      <td>175.0</td>\n",
       "      <td>Action,Crime,Drama</td>\n",
       "    </tr>\n",
       "  </tbody>\n",
       "</table>\n",
       "</div>"
      ],
      "text/plain": [
       "      tconst primary_title original_title  start_year  runtime_minutes  \\\n",
       "0  tt0063540     Sunghursh      Sunghursh        2013            175.0   \n",
       "\n",
       "               genres  \n",
       "0  Action,Crime,Drama  "
      ]
     },
     "execution_count": 96,
     "metadata": {},
     "output_type": "execute_result"
    }
   ],
   "source": [
    "genre_raw = pd.read_csv('./zippedData/imdb.title.basics.csv.gz')\n",
    "genre_raw.head(1)"
   ]
  },
  {
   "cell_type": "markdown",
   "metadata": {},
   "source": [
    "## TMDB Ratings - Table 8"
   ]
  },
  {
   "cell_type": "code",
   "execution_count": 97,
   "metadata": {},
   "outputs": [
    {
     "data": {
      "text/html": [
       "<div>\n",
       "<style scoped>\n",
       "    .dataframe tbody tr th:only-of-type {\n",
       "        vertical-align: middle;\n",
       "    }\n",
       "\n",
       "    .dataframe tbody tr th {\n",
       "        vertical-align: top;\n",
       "    }\n",
       "\n",
       "    .dataframe thead th {\n",
       "        text-align: right;\n",
       "    }\n",
       "</style>\n",
       "<table border=\"1\" class=\"dataframe\">\n",
       "  <thead>\n",
       "    <tr style=\"text-align: right;\">\n",
       "      <th></th>\n",
       "      <th>Unnamed: 0</th>\n",
       "      <th>genre_ids</th>\n",
       "      <th>id</th>\n",
       "      <th>original_language</th>\n",
       "      <th>original_title</th>\n",
       "      <th>popularity</th>\n",
       "      <th>release_date</th>\n",
       "      <th>title</th>\n",
       "      <th>vote_average</th>\n",
       "      <th>vote_count</th>\n",
       "    </tr>\n",
       "  </thead>\n",
       "  <tbody>\n",
       "    <tr>\n",
       "      <th>0</th>\n",
       "      <td>0</td>\n",
       "      <td>[12, 14, 10751]</td>\n",
       "      <td>12444</td>\n",
       "      <td>en</td>\n",
       "      <td>Harry Potter and the Deathly Hallows: Part 1</td>\n",
       "      <td>33.533</td>\n",
       "      <td>2010-11-19</td>\n",
       "      <td>Harry Potter and the Deathly Hallows: Part 1</td>\n",
       "      <td>7.7</td>\n",
       "      <td>10788</td>\n",
       "    </tr>\n",
       "  </tbody>\n",
       "</table>\n",
       "</div>"
      ],
      "text/plain": [
       "   Unnamed: 0        genre_ids     id original_language  \\\n",
       "0           0  [12, 14, 10751]  12444                en   \n",
       "\n",
       "                                 original_title  popularity release_date  \\\n",
       "0  Harry Potter and the Deathly Hallows: Part 1      33.533   2010-11-19   \n",
       "\n",
       "                                          title  vote_average  vote_count  \n",
       "0  Harry Potter and the Deathly Hallows: Part 1           7.7       10788  "
      ]
     },
     "execution_count": 97,
     "metadata": {},
     "output_type": "execute_result"
    }
   ],
   "source": [
    "tmdb_raw = pd.read_csv('./zippedData/tmdb.movies.csv.gz')\n",
    "tmdb_raw.head(1)"
   ]
  },
  {
   "cell_type": "markdown",
   "metadata": {},
   "source": [
    "## Directors/Writers - Table 9"
   ]
  },
  {
   "cell_type": "code",
   "execution_count": 98,
   "metadata": {},
   "outputs": [
    {
     "data": {
      "text/html": [
       "<div>\n",
       "<style scoped>\n",
       "    .dataframe tbody tr th:only-of-type {\n",
       "        vertical-align: middle;\n",
       "    }\n",
       "\n",
       "    .dataframe tbody tr th {\n",
       "        vertical-align: top;\n",
       "    }\n",
       "\n",
       "    .dataframe thead th {\n",
       "        text-align: right;\n",
       "    }\n",
       "</style>\n",
       "<table border=\"1\" class=\"dataframe\">\n",
       "  <thead>\n",
       "    <tr style=\"text-align: right;\">\n",
       "      <th></th>\n",
       "      <th>tconst</th>\n",
       "      <th>directors</th>\n",
       "      <th>writers</th>\n",
       "    </tr>\n",
       "  </thead>\n",
       "  <tbody>\n",
       "    <tr>\n",
       "      <th>0</th>\n",
       "      <td>tt0285252</td>\n",
       "      <td>nm0899854</td>\n",
       "      <td>nm0899854</td>\n",
       "    </tr>\n",
       "  </tbody>\n",
       "</table>\n",
       "</div>"
      ],
      "text/plain": [
       "      tconst  directors    writers\n",
       "0  tt0285252  nm0899854  nm0899854"
      ]
     },
     "execution_count": 98,
     "metadata": {},
     "output_type": "execute_result"
    }
   ],
   "source": [
    "crew_raw = pd.read_csv('./zippedData/imdb.title.crew.csv.gz')\n",
    "crew_raw.head(1)"
   ]
  },
  {
   "cell_type": "markdown",
   "metadata": {},
   "source": [
    "## Budgets - Table 10"
   ]
  },
  {
   "cell_type": "code",
   "execution_count": 99,
   "metadata": {},
   "outputs": [
    {
     "data": {
      "text/html": [
       "<div>\n",
       "<style scoped>\n",
       "    .dataframe tbody tr th:only-of-type {\n",
       "        vertical-align: middle;\n",
       "    }\n",
       "\n",
       "    .dataframe tbody tr th {\n",
       "        vertical-align: top;\n",
       "    }\n",
       "\n",
       "    .dataframe thead th {\n",
       "        text-align: right;\n",
       "    }\n",
       "</style>\n",
       "<table border=\"1\" class=\"dataframe\">\n",
       "  <thead>\n",
       "    <tr style=\"text-align: right;\">\n",
       "      <th></th>\n",
       "      <th>id</th>\n",
       "      <th>release_date</th>\n",
       "      <th>movie</th>\n",
       "      <th>production_budget</th>\n",
       "      <th>domestic_gross</th>\n",
       "      <th>worldwide_gross</th>\n",
       "    </tr>\n",
       "  </thead>\n",
       "  <tbody>\n",
       "    <tr>\n",
       "      <th>0</th>\n",
       "      <td>1</td>\n",
       "      <td>Dec 18, 2009</td>\n",
       "      <td>Avatar</td>\n",
       "      <td>$425,000,000</td>\n",
       "      <td>$760,507,625</td>\n",
       "      <td>$2,776,345,279</td>\n",
       "    </tr>\n",
       "  </tbody>\n",
       "</table>\n",
       "</div>"
      ],
      "text/plain": [
       "   id  release_date   movie production_budget domestic_gross worldwide_gross\n",
       "0   1  Dec 18, 2009  Avatar      $425,000,000   $760,507,625  $2,776,345,279"
      ]
     },
     "execution_count": 99,
     "metadata": {},
     "output_type": "execute_result"
    }
   ],
   "source": [
    "budgets_raw = pd.read_csv('./zippedData/tn.movie_budgets.csv.gz')\n",
    "budgets_raw.head(1)"
   ]
  },
  {
   "cell_type": "markdown",
   "metadata": {},
   "source": [
    "## Actors & Characters - Table 11"
   ]
  },
  {
   "cell_type": "code",
   "execution_count": 100,
   "metadata": {},
   "outputs": [
    {
     "data": {
      "text/html": [
       "<div>\n",
       "<style scoped>\n",
       "    .dataframe tbody tr th:only-of-type {\n",
       "        vertical-align: middle;\n",
       "    }\n",
       "\n",
       "    .dataframe tbody tr th {\n",
       "        vertical-align: top;\n",
       "    }\n",
       "\n",
       "    .dataframe thead th {\n",
       "        text-align: right;\n",
       "    }\n",
       "</style>\n",
       "<table border=\"1\" class=\"dataframe\">\n",
       "  <thead>\n",
       "    <tr style=\"text-align: right;\">\n",
       "      <th></th>\n",
       "      <th>tconst</th>\n",
       "      <th>ordering</th>\n",
       "      <th>nconst</th>\n",
       "      <th>category</th>\n",
       "      <th>job</th>\n",
       "      <th>characters</th>\n",
       "    </tr>\n",
       "  </thead>\n",
       "  <tbody>\n",
       "    <tr>\n",
       "      <th>0</th>\n",
       "      <td>tt0111414</td>\n",
       "      <td>1</td>\n",
       "      <td>nm0246005</td>\n",
       "      <td>actor</td>\n",
       "      <td>NaN</td>\n",
       "      <td>[\"The Man\"]</td>\n",
       "    </tr>\n",
       "  </tbody>\n",
       "</table>\n",
       "</div>"
      ],
      "text/plain": [
       "      tconst  ordering     nconst category  job   characters\n",
       "0  tt0111414         1  nm0246005    actor  NaN  [\"The Man\"]"
      ]
     },
     "execution_count": 100,
     "metadata": {},
     "output_type": "execute_result"
    }
   ],
   "source": [
    "characters_raw = pd.read_csv('./zippedData/imdb.title.principals.csv.gz')\n",
    "characters_raw.head(1)"
   ]
  },
  {
   "cell_type": "markdown",
   "metadata": {},
   "source": [
    "## Raw Oscar Data - Table 12"
   ]
  },
  {
   "cell_type": "code",
   "execution_count": 101,
   "metadata": {
    "scrolled": true
   },
   "outputs": [
    {
     "data": {
      "text/html": [
       "<div>\n",
       "<style scoped>\n",
       "    .dataframe tbody tr th:only-of-type {\n",
       "        vertical-align: middle;\n",
       "    }\n",
       "\n",
       "    .dataframe tbody tr th {\n",
       "        vertical-align: top;\n",
       "    }\n",
       "\n",
       "    .dataframe thead th {\n",
       "        text-align: right;\n",
       "    }\n",
       "</style>\n",
       "<table border=\"1\" class=\"dataframe\">\n",
       "  <thead>\n",
       "    <tr style=\"text-align: right;\">\n",
       "      <th></th>\n",
       "      <th>year_film</th>\n",
       "      <th>year_ceremony</th>\n",
       "      <th>ceremony</th>\n",
       "      <th>category</th>\n",
       "      <th>name</th>\n",
       "      <th>film</th>\n",
       "      <th>winner</th>\n",
       "    </tr>\n",
       "  </thead>\n",
       "  <tbody>\n",
       "    <tr>\n",
       "      <th>0</th>\n",
       "      <td>1927</td>\n",
       "      <td>1928</td>\n",
       "      <td>1</td>\n",
       "      <td>ACTOR</td>\n",
       "      <td>Richard Barthelmess</td>\n",
       "      <td>The Noose</td>\n",
       "      <td>False</td>\n",
       "    </tr>\n",
       "  </tbody>\n",
       "</table>\n",
       "</div>"
      ],
      "text/plain": [
       "   year_film  year_ceremony  ceremony category                 name  \\\n",
       "0       1927           1928         1    ACTOR  Richard Barthelmess   \n",
       "\n",
       "        film  winner  \n",
       "0  The Noose   False  "
      ]
     },
     "execution_count": 101,
     "metadata": {},
     "output_type": "execute_result"
    }
   ],
   "source": [
    "oscars_raw = pd.read_csv('./zippedData/oscars.zip', encoding = \"ISO-8859-1\")\n",
    "oscars_raw.head(1)"
   ]
  },
  {
   "cell_type": "markdown",
   "metadata": {},
   "source": [
    "# Question 1: Which Movies Get Oscar Nominations?\n",
    "### Task: determine the commonalities among Academy award-nominated movies<br>\n",
    "\n",
    "### External Datasets:\n",
    "https://www.kaggle.com/unanimad/the-oscar-award\n",
    "### Data of Interest:\n",
    "- genre\n",
    "- budget\n",
    "- gross revenue\n",
    "- online ratings\n",
    "- oscar nominations\n",
    "\n",
    "# Method:"
   ]
  },
  {
   "cell_type": "markdown",
   "metadata": {},
   "source": [
    "## 1. Get the count of Oscar Nominations per movie"
   ]
  },
  {
   "cell_type": "code",
   "execution_count": 102,
   "metadata": {
    "scrolled": true
   },
   "outputs": [
    {
     "data": {
      "text/html": [
       "<div>\n",
       "<style scoped>\n",
       "    .dataframe tbody tr th:only-of-type {\n",
       "        vertical-align: middle;\n",
       "    }\n",
       "\n",
       "    .dataframe tbody tr th {\n",
       "        vertical-align: top;\n",
       "    }\n",
       "\n",
       "    .dataframe thead th {\n",
       "        text-align: right;\n",
       "    }\n",
       "</style>\n",
       "<table border=\"1\" class=\"dataframe\">\n",
       "  <thead>\n",
       "    <tr style=\"text-align: right;\">\n",
       "      <th></th>\n",
       "      <th>title</th>\n",
       "      <th>person</th>\n",
       "      <th>category</th>\n",
       "      <th>oscar_noms</th>\n",
       "    </tr>\n",
       "  </thead>\n",
       "  <tbody>\n",
       "    <tr>\n",
       "      <th>0</th>\n",
       "      <td>The Noose</td>\n",
       "      <td>Richard Barthelmess</td>\n",
       "      <td>ACTOR</td>\n",
       "      <td>1</td>\n",
       "    </tr>\n",
       "    <tr>\n",
       "      <th>1</th>\n",
       "      <td>The Last Command</td>\n",
       "      <td>Emil Jannings</td>\n",
       "      <td>ACTOR</td>\n",
       "      <td>2</td>\n",
       "    </tr>\n",
       "    <tr>\n",
       "      <th>2</th>\n",
       "      <td>A Ship Comes In</td>\n",
       "      <td>Louise Dresser</td>\n",
       "      <td>ACTRESS</td>\n",
       "      <td>1</td>\n",
       "    </tr>\n",
       "  </tbody>\n",
       "</table>\n",
       "</div>"
      ],
      "text/plain": [
       "              title               person category  oscar_noms\n",
       "0         The Noose  Richard Barthelmess    ACTOR           1\n",
       "1  The Last Command        Emil Jannings    ACTOR           2\n",
       "2   A Ship Comes In       Louise Dresser  ACTRESS           1"
      ]
     },
     "execution_count": 102,
     "metadata": {},
     "output_type": "execute_result"
    }
   ],
   "source": [
    "\n",
    "# subset the relevant data from Oscars df. Rename columns, drop rows with no movie title\n",
    "oscars = oscars_raw.loc[:,['film','name', 'category']]\n",
    "oscars.rename(columns={'film': 'title', 'name': 'person'}, inplace=True)\n",
    "oscars.drop(oscars[oscars['title'].isnull()].index, inplace=True)\n",
    "\n",
    "\n",
    "# create column for total number of oscar nominations per movie\n",
    "counts = oscars['title'].value_counts()\n",
    "d = counts.to_dict()\n",
    "oscars['oscar_noms'] = oscars['title'].map(d)\n",
    "oscars.head(3)"
   ]
  },
  {
   "cell_type": "markdown",
   "metadata": {},
   "source": [
    "## 2. Unstack the Genre values\n",
    "genres were originally formatted as a comma-delimited string (ie 'Action, Crime, Drama'.) We reformatted this to give each genre its own row in the table."
   ]
  },
  {
   "cell_type": "code",
   "execution_count": 103,
   "metadata": {},
   "outputs": [
    {
     "data": {
      "text/html": [
       "<div>\n",
       "<style scoped>\n",
       "    .dataframe tbody tr th:only-of-type {\n",
       "        vertical-align: middle;\n",
       "    }\n",
       "\n",
       "    .dataframe tbody tr th {\n",
       "        vertical-align: top;\n",
       "    }\n",
       "\n",
       "    .dataframe thead th {\n",
       "        text-align: right;\n",
       "    }\n",
       "</style>\n",
       "<table border=\"1\" class=\"dataframe\">\n",
       "  <thead>\n",
       "    <tr style=\"text-align: right;\">\n",
       "      <th></th>\n",
       "      <th>primary_title</th>\n",
       "      <th>genres</th>\n",
       "    </tr>\n",
       "  </thead>\n",
       "  <tbody>\n",
       "    <tr>\n",
       "      <th>0</th>\n",
       "      <td>Sunghursh</td>\n",
       "      <td>Action</td>\n",
       "    </tr>\n",
       "    <tr>\n",
       "      <th>1</th>\n",
       "      <td>Sunghursh</td>\n",
       "      <td>Crime</td>\n",
       "    </tr>\n",
       "    <tr>\n",
       "      <th>2</th>\n",
       "      <td>Sunghursh</td>\n",
       "      <td>Drama</td>\n",
       "    </tr>\n",
       "    <tr>\n",
       "      <th>3</th>\n",
       "      <td>One Day Before the Rainy Season</td>\n",
       "      <td>Biography</td>\n",
       "    </tr>\n",
       "    <tr>\n",
       "      <th>4</th>\n",
       "      <td>One Day Before the Rainy Season</td>\n",
       "      <td>Drama</td>\n",
       "    </tr>\n",
       "    <tr>\n",
       "      <th>...</th>\n",
       "      <td>...</td>\n",
       "      <td>...</td>\n",
       "    </tr>\n",
       "    <tr>\n",
       "      <th>229545</th>\n",
       "      <td>The Secret of China</td>\n",
       "      <td>War</td>\n",
       "    </tr>\n",
       "    <tr>\n",
       "      <th>229546</th>\n",
       "      <td>Kuambil Lagi Hatiku</td>\n",
       "      <td>Drama</td>\n",
       "    </tr>\n",
       "    <tr>\n",
       "      <th>229547</th>\n",
       "      <td>Rodolpho Teóphilo - O Legado de um Pioneiro</td>\n",
       "      <td>Documentary</td>\n",
       "    </tr>\n",
       "    <tr>\n",
       "      <th>229548</th>\n",
       "      <td>Dankyavar Danka</td>\n",
       "      <td>Comedy</td>\n",
       "    </tr>\n",
       "    <tr>\n",
       "      <th>229549</th>\n",
       "      <td>Chico Albuquerque - Revelações</td>\n",
       "      <td>Documentary</td>\n",
       "    </tr>\n",
       "  </tbody>\n",
       "</table>\n",
       "<p>229550 rows × 2 columns</p>\n",
       "</div>"
      ],
      "text/plain": [
       "                                      primary_title       genres\n",
       "0                                         Sunghursh       Action\n",
       "1                                         Sunghursh        Crime\n",
       "2                                         Sunghursh        Drama\n",
       "3                   One Day Before the Rainy Season    Biography\n",
       "4                   One Day Before the Rainy Season        Drama\n",
       "...                                             ...          ...\n",
       "229545                          The Secret of China          War\n",
       "229546                          Kuambil Lagi Hatiku        Drama\n",
       "229547  Rodolpho Teóphilo - O Legado de um Pioneiro  Documentary\n",
       "229548                              Dankyavar Danka       Comedy\n",
       "229549               Chico Albuquerque - Revelações  Documentary\n",
       "\n",
       "[229550 rows x 2 columns]"
      ]
     },
     "execution_count": 103,
     "metadata": {},
     "output_type": "execute_result"
    }
   ],
   "source": [
    "# Unstacking Genre column to create individual rows (takes a while to run cell)\n",
    "genre_ugly = genre_raw\n",
    "genre_ugly['genres'] = genre_ugly['genres'].str.split(',', 3)\n",
    "genre_unstack = genre_ugly.set_index('primary_title').genres.apply(pd.Series).stack().reset_index(level=-1, drop=True).astype(str).reset_index()\n",
    "genre_unstack.columns = ['primary_title', 'genres']\n",
    "genre_unstack"
   ]
  },
  {
   "cell_type": "markdown",
   "metadata": {},
   "source": [
    "## 3. Merge Oscars table with Genre table"
   ]
  },
  {
   "cell_type": "code",
   "execution_count": 104,
   "metadata": {},
   "outputs": [
    {
     "data": {
      "text/html": [
       "<div>\n",
       "<style scoped>\n",
       "    .dataframe tbody tr th:only-of-type {\n",
       "        vertical-align: middle;\n",
       "    }\n",
       "\n",
       "    .dataframe tbody tr th {\n",
       "        vertical-align: top;\n",
       "    }\n",
       "\n",
       "    .dataframe thead th {\n",
       "        text-align: right;\n",
       "    }\n",
       "</style>\n",
       "<table border=\"1\" class=\"dataframe\">\n",
       "  <thead>\n",
       "    <tr style=\"text-align: right;\">\n",
       "      <th></th>\n",
       "      <th>title</th>\n",
       "      <th>person</th>\n",
       "      <th>category</th>\n",
       "      <th>oscar_noms</th>\n",
       "      <th>genres</th>\n",
       "    </tr>\n",
       "  </thead>\n",
       "  <tbody>\n",
       "    <tr>\n",
       "      <th>0</th>\n",
       "      <td>The Noose</td>\n",
       "      <td>Richard Barthelmess</td>\n",
       "      <td>ACTOR</td>\n",
       "      <td>1</td>\n",
       "      <td>Documentary</td>\n",
       "    </tr>\n",
       "    <tr>\n",
       "      <th>1</th>\n",
       "      <td>The Last Command</td>\n",
       "      <td>Emil Jannings</td>\n",
       "      <td>ACTOR</td>\n",
       "      <td>2</td>\n",
       "      <td>NaN</td>\n",
       "    </tr>\n",
       "    <tr>\n",
       "      <th>2</th>\n",
       "      <td>A Ship Comes In</td>\n",
       "      <td>Louise Dresser</td>\n",
       "      <td>ACTRESS</td>\n",
       "      <td>1</td>\n",
       "      <td>NaN</td>\n",
       "    </tr>\n",
       "    <tr>\n",
       "      <th>3</th>\n",
       "      <td>7th Heaven</td>\n",
       "      <td>Janet Gaynor</td>\n",
       "      <td>ACTRESS</td>\n",
       "      <td>5</td>\n",
       "      <td>NaN</td>\n",
       "    </tr>\n",
       "    <tr>\n",
       "      <th>4</th>\n",
       "      <td>Sadie Thompson</td>\n",
       "      <td>Gloria Swanson</td>\n",
       "      <td>ACTRESS</td>\n",
       "      <td>1</td>\n",
       "      <td>NaN</td>\n",
       "    </tr>\n",
       "    <tr>\n",
       "      <th>...</th>\n",
       "      <td>...</td>\n",
       "      <td>...</td>\n",
       "      <td>...</td>\n",
       "      <td>...</td>\n",
       "      <td>...</td>\n",
       "    </tr>\n",
       "    <tr>\n",
       "      <th>15750</th>\n",
       "      <td>Parasite</td>\n",
       "      <td>Screenplay by Bong Joon Ho, Han Jin Won; Story...</td>\n",
       "      <td>WRITING (Original Screenplay)</td>\n",
       "      <td>6</td>\n",
       "      <td>Action</td>\n",
       "    </tr>\n",
       "    <tr>\n",
       "      <th>15751</th>\n",
       "      <td>Parasite</td>\n",
       "      <td>Screenplay by Bong Joon Ho, Han Jin Won; Story...</td>\n",
       "      <td>WRITING (Original Screenplay)</td>\n",
       "      <td>6</td>\n",
       "      <td>Horror</td>\n",
       "    </tr>\n",
       "    <tr>\n",
       "      <th>15752</th>\n",
       "      <td>Parasite</td>\n",
       "      <td>Screenplay by Bong Joon Ho, Han Jin Won; Story...</td>\n",
       "      <td>WRITING (Original Screenplay)</td>\n",
       "      <td>6</td>\n",
       "      <td>Sci-Fi</td>\n",
       "    </tr>\n",
       "    <tr>\n",
       "      <th>15753</th>\n",
       "      <td>Parasite</td>\n",
       "      <td>Screenplay by Bong Joon Ho, Han Jin Won; Story...</td>\n",
       "      <td>WRITING (Original Screenplay)</td>\n",
       "      <td>6</td>\n",
       "      <td>Drama</td>\n",
       "    </tr>\n",
       "    <tr>\n",
       "      <th>15754</th>\n",
       "      <td>Parasite</td>\n",
       "      <td>Screenplay by Bong Joon Ho, Han Jin Won; Story...</td>\n",
       "      <td>WRITING (Original Screenplay)</td>\n",
       "      <td>6</td>\n",
       "      <td>Thriller</td>\n",
       "    </tr>\n",
       "  </tbody>\n",
       "</table>\n",
       "<p>15755 rows × 5 columns</p>\n",
       "</div>"
      ],
      "text/plain": [
       "                  title                                             person  \\\n",
       "0             The Noose                                Richard Barthelmess   \n",
       "1      The Last Command                                      Emil Jannings   \n",
       "2       A Ship Comes In                                     Louise Dresser   \n",
       "3            7th Heaven                                       Janet Gaynor   \n",
       "4        Sadie Thompson                                     Gloria Swanson   \n",
       "...                 ...                                                ...   \n",
       "15750          Parasite  Screenplay by Bong Joon Ho, Han Jin Won; Story...   \n",
       "15751          Parasite  Screenplay by Bong Joon Ho, Han Jin Won; Story...   \n",
       "15752          Parasite  Screenplay by Bong Joon Ho, Han Jin Won; Story...   \n",
       "15753          Parasite  Screenplay by Bong Joon Ho, Han Jin Won; Story...   \n",
       "15754          Parasite  Screenplay by Bong Joon Ho, Han Jin Won; Story...   \n",
       "\n",
       "                            category  oscar_noms       genres  \n",
       "0                              ACTOR           1  Documentary  \n",
       "1                              ACTOR           2          NaN  \n",
       "2                            ACTRESS           1          NaN  \n",
       "3                            ACTRESS           5          NaN  \n",
       "4                            ACTRESS           1          NaN  \n",
       "...                              ...         ...          ...  \n",
       "15750  WRITING (Original Screenplay)           6       Action  \n",
       "15751  WRITING (Original Screenplay)           6       Horror  \n",
       "15752  WRITING (Original Screenplay)           6       Sci-Fi  \n",
       "15753  WRITING (Original Screenplay)           6        Drama  \n",
       "15754  WRITING (Original Screenplay)           6     Thriller  \n",
       "\n",
       "[15755 rows x 5 columns]"
      ]
     },
     "execution_count": 104,
     "metadata": {},
     "output_type": "execute_result"
    }
   ],
   "source": [
    "#  using 'original_title' to retain more rows\n",
    "oscar_genre = oscars.merge(genre_unstack, how = 'left', left_on='title', right_on='primary_title').drop('primary_title', axis=1)\n",
    "oscar_genre"
   ]
  },
  {
   "cell_type": "markdown",
   "metadata": {},
   "source": [
    "## 4. Prep Gross Revenue table"
   ]
  },
  {
   "cell_type": "code",
   "execution_count": 105,
   "metadata": {},
   "outputs": [
    {
     "data": {
      "text/html": [
       "<div>\n",
       "<style scoped>\n",
       "    .dataframe tbody tr th:only-of-type {\n",
       "        vertical-align: middle;\n",
       "    }\n",
       "\n",
       "    .dataframe tbody tr th {\n",
       "        vertical-align: top;\n",
       "    }\n",
       "\n",
       "    .dataframe thead th {\n",
       "        text-align: right;\n",
       "    }\n",
       "</style>\n",
       "<table border=\"1\" class=\"dataframe\">\n",
       "  <thead>\n",
       "    <tr style=\"text-align: right;\">\n",
       "      <th></th>\n",
       "      <th>title</th>\n",
       "      <th>domestic_gross</th>\n",
       "      <th>foreign_gross</th>\n",
       "      <th>total_gross</th>\n",
       "    </tr>\n",
       "  </thead>\n",
       "  <tbody>\n",
       "    <tr>\n",
       "      <th>0</th>\n",
       "      <td>Toy Story 3</td>\n",
       "      <td>415000000.0</td>\n",
       "      <td>652000000.0</td>\n",
       "      <td>1.067000e+09</td>\n",
       "    </tr>\n",
       "    <tr>\n",
       "      <th>1</th>\n",
       "      <td>Alice in Wonderland (2010)</td>\n",
       "      <td>334200000.0</td>\n",
       "      <td>691300000.0</td>\n",
       "      <td>1.025500e+09</td>\n",
       "    </tr>\n",
       "    <tr>\n",
       "      <th>2</th>\n",
       "      <td>Harry Potter and the Deathly Hallows Part 1</td>\n",
       "      <td>296000000.0</td>\n",
       "      <td>664300000.0</td>\n",
       "      <td>9.603000e+08</td>\n",
       "    </tr>\n",
       "    <tr>\n",
       "      <th>3</th>\n",
       "      <td>Inception</td>\n",
       "      <td>292600000.0</td>\n",
       "      <td>535700000.0</td>\n",
       "      <td>8.283000e+08</td>\n",
       "    </tr>\n",
       "    <tr>\n",
       "      <th>4</th>\n",
       "      <td>Shrek Forever After</td>\n",
       "      <td>238700000.0</td>\n",
       "      <td>513900000.0</td>\n",
       "      <td>7.526000e+08</td>\n",
       "    </tr>\n",
       "    <tr>\n",
       "      <th>...</th>\n",
       "      <td>...</td>\n",
       "      <td>...</td>\n",
       "      <td>...</td>\n",
       "      <td>...</td>\n",
       "    </tr>\n",
       "    <tr>\n",
       "      <th>3382</th>\n",
       "      <td>The Quake</td>\n",
       "      <td>6200.0</td>\n",
       "      <td>NaN</td>\n",
       "      <td>NaN</td>\n",
       "    </tr>\n",
       "    <tr>\n",
       "      <th>3383</th>\n",
       "      <td>Edward II (2018 re-release)</td>\n",
       "      <td>4800.0</td>\n",
       "      <td>NaN</td>\n",
       "      <td>NaN</td>\n",
       "    </tr>\n",
       "    <tr>\n",
       "      <th>3384</th>\n",
       "      <td>El Pacto</td>\n",
       "      <td>2500.0</td>\n",
       "      <td>NaN</td>\n",
       "      <td>NaN</td>\n",
       "    </tr>\n",
       "    <tr>\n",
       "      <th>3385</th>\n",
       "      <td>The Swan</td>\n",
       "      <td>2400.0</td>\n",
       "      <td>NaN</td>\n",
       "      <td>NaN</td>\n",
       "    </tr>\n",
       "    <tr>\n",
       "      <th>3386</th>\n",
       "      <td>An Actor Prepares</td>\n",
       "      <td>1700.0</td>\n",
       "      <td>NaN</td>\n",
       "      <td>NaN</td>\n",
       "    </tr>\n",
       "  </tbody>\n",
       "</table>\n",
       "<p>3387 rows × 4 columns</p>\n",
       "</div>"
      ],
      "text/plain": [
       "                                            title  domestic_gross  \\\n",
       "0                                     Toy Story 3     415000000.0   \n",
       "1                      Alice in Wonderland (2010)     334200000.0   \n",
       "2     Harry Potter and the Deathly Hallows Part 1     296000000.0   \n",
       "3                                       Inception     292600000.0   \n",
       "4                             Shrek Forever After     238700000.0   \n",
       "...                                           ...             ...   \n",
       "3382                                    The Quake          6200.0   \n",
       "3383                  Edward II (2018 re-release)          4800.0   \n",
       "3384                                     El Pacto          2500.0   \n",
       "3385                                     The Swan          2400.0   \n",
       "3386                            An Actor Prepares          1700.0   \n",
       "\n",
       "      foreign_gross   total_gross  \n",
       "0       652000000.0  1.067000e+09  \n",
       "1       691300000.0  1.025500e+09  \n",
       "2       664300000.0  9.603000e+08  \n",
       "3       535700000.0  8.283000e+08  \n",
       "4       513900000.0  7.526000e+08  \n",
       "...             ...           ...  \n",
       "3382            NaN           NaN  \n",
       "3383            NaN           NaN  \n",
       "3384            NaN           NaN  \n",
       "3385            NaN           NaN  \n",
       "3386            NaN           NaN  \n",
       "\n",
       "[3387 rows x 4 columns]"
      ]
     },
     "execution_count": 105,
     "metadata": {},
     "output_type": "execute_result"
    }
   ],
   "source": [
    "# subset relevant data, change strings to floats\n",
    "movie_gross = movie_gross_raw.loc[:, ['title', 'domestic_gross', 'foreign_gross']]\n",
    "movie_gross['foreign_gross'] = movie_gross['foreign_gross'].str.replace(',','').astype(float)\n",
    "movie_gross['total_gross'] = movie_gross.domestic_gross + movie_gross.foreign_gross\n",
    "movie_gross"
   ]
  },
  {
   "cell_type": "markdown",
   "metadata": {},
   "source": [
    " ## 5. Prep Budgets table"
   ]
  },
  {
   "cell_type": "code",
   "execution_count": 106,
   "metadata": {},
   "outputs": [
    {
     "data": {
      "text/html": [
       "<div>\n",
       "<style scoped>\n",
       "    .dataframe tbody tr th:only-of-type {\n",
       "        vertical-align: middle;\n",
       "    }\n",
       "\n",
       "    .dataframe tbody tr th {\n",
       "        vertical-align: top;\n",
       "    }\n",
       "\n",
       "    .dataframe thead th {\n",
       "        text-align: right;\n",
       "    }\n",
       "</style>\n",
       "<table border=\"1\" class=\"dataframe\">\n",
       "  <thead>\n",
       "    <tr style=\"text-align: right;\">\n",
       "      <th></th>\n",
       "      <th>title</th>\n",
       "      <th>production_budget</th>\n",
       "      <th>domestic_gross</th>\n",
       "      <th>foreign_gross</th>\n",
       "    </tr>\n",
       "  </thead>\n",
       "  <tbody>\n",
       "    <tr>\n",
       "      <th>0</th>\n",
       "      <td>Avatar</td>\n",
       "      <td>425000000.0</td>\n",
       "      <td>760507625.0</td>\n",
       "      <td>2.776345e+09</td>\n",
       "    </tr>\n",
       "    <tr>\n",
       "      <th>1</th>\n",
       "      <td>Pirates of the Caribbean: On Stranger Tides</td>\n",
       "      <td>410600000.0</td>\n",
       "      <td>241063875.0</td>\n",
       "      <td>1.045664e+09</td>\n",
       "    </tr>\n",
       "    <tr>\n",
       "      <th>2</th>\n",
       "      <td>Dark Phoenix</td>\n",
       "      <td>350000000.0</td>\n",
       "      <td>42762350.0</td>\n",
       "      <td>1.497624e+08</td>\n",
       "    </tr>\n",
       "    <tr>\n",
       "      <th>3</th>\n",
       "      <td>Avengers: Age of Ultron</td>\n",
       "      <td>330600000.0</td>\n",
       "      <td>459005868.0</td>\n",
       "      <td>1.403014e+09</td>\n",
       "    </tr>\n",
       "    <tr>\n",
       "      <th>4</th>\n",
       "      <td>Star Wars Ep. VIII: The Last Jedi</td>\n",
       "      <td>317000000.0</td>\n",
       "      <td>620181382.0</td>\n",
       "      <td>1.316722e+09</td>\n",
       "    </tr>\n",
       "    <tr>\n",
       "      <th>...</th>\n",
       "      <td>...</td>\n",
       "      <td>...</td>\n",
       "      <td>...</td>\n",
       "      <td>...</td>\n",
       "    </tr>\n",
       "    <tr>\n",
       "      <th>5777</th>\n",
       "      <td>Red 11</td>\n",
       "      <td>7000.0</td>\n",
       "      <td>0.0</td>\n",
       "      <td>0.000000e+00</td>\n",
       "    </tr>\n",
       "    <tr>\n",
       "      <th>5778</th>\n",
       "      <td>Following</td>\n",
       "      <td>6000.0</td>\n",
       "      <td>48482.0</td>\n",
       "      <td>2.404950e+05</td>\n",
       "    </tr>\n",
       "    <tr>\n",
       "      <th>5779</th>\n",
       "      <td>Return to the Land of Wonders</td>\n",
       "      <td>5000.0</td>\n",
       "      <td>1338.0</td>\n",
       "      <td>1.338000e+03</td>\n",
       "    </tr>\n",
       "    <tr>\n",
       "      <th>5780</th>\n",
       "      <td>A Plague So Pleasant</td>\n",
       "      <td>1400.0</td>\n",
       "      <td>0.0</td>\n",
       "      <td>0.000000e+00</td>\n",
       "    </tr>\n",
       "    <tr>\n",
       "      <th>5781</th>\n",
       "      <td>My Date With Drew</td>\n",
       "      <td>1100.0</td>\n",
       "      <td>181041.0</td>\n",
       "      <td>1.810410e+05</td>\n",
       "    </tr>\n",
       "  </tbody>\n",
       "</table>\n",
       "<p>5782 rows × 4 columns</p>\n",
       "</div>"
      ],
      "text/plain": [
       "                                            title  production_budget  \\\n",
       "0                                          Avatar        425000000.0   \n",
       "1     Pirates of the Caribbean: On Stranger Tides        410600000.0   \n",
       "2                                    Dark Phoenix        350000000.0   \n",
       "3                         Avengers: Age of Ultron        330600000.0   \n",
       "4               Star Wars Ep. VIII: The Last Jedi        317000000.0   \n",
       "...                                           ...                ...   \n",
       "5777                                       Red 11             7000.0   \n",
       "5778                                    Following             6000.0   \n",
       "5779                Return to the Land of Wonders             5000.0   \n",
       "5780                         A Plague So Pleasant             1400.0   \n",
       "5781                            My Date With Drew             1100.0   \n",
       "\n",
       "      domestic_gross  foreign_gross  \n",
       "0        760507625.0   2.776345e+09  \n",
       "1        241063875.0   1.045664e+09  \n",
       "2         42762350.0   1.497624e+08  \n",
       "3        459005868.0   1.403014e+09  \n",
       "4        620181382.0   1.316722e+09  \n",
       "...              ...            ...  \n",
       "5777             0.0   0.000000e+00  \n",
       "5778         48482.0   2.404950e+05  \n",
       "5779          1338.0   1.338000e+03  \n",
       "5780             0.0   0.000000e+00  \n",
       "5781        181041.0   1.810410e+05  \n",
       "\n",
       "[5782 rows x 4 columns]"
      ]
     },
     "execution_count": 106,
     "metadata": {},
     "output_type": "execute_result"
    }
   ],
   "source": [
    "# subset relevant data, change strings to floats\n",
    "budgets = budgets_raw.loc[:,['movie', 'production_budget', 'domestic_gross', 'worldwide_gross']]\n",
    "budgets.rename(columns={'movie': 'title', 'worldwide_gross':'foreign_gross'}, inplace=True)\n",
    "budgets['production_budget'] = budgets['production_budget'].str.replace('$','')\n",
    "budgets['production_budget'] = budgets['production_budget'].str.replace(',','').astype(float)\n",
    "budgets['domestic_gross'] = budgets['domestic_gross'].str.replace('$','')\n",
    "budgets['domestic_gross'] = budgets['domestic_gross'].str.replace(',','').astype(float)\n",
    "budgets['foreign_gross'] = budgets['foreign_gross'].str.replace('$','')\n",
    "budgets['foreign_gross'] = budgets['foreign_gross'].str.replace(',','').astype(float)\n",
    "budgets"
   ]
  },
  {
   "cell_type": "markdown",
   "metadata": {},
   "source": [
    "## 6. Concatenate Gross Revenue table with Budgets table"
   ]
  },
  {
   "cell_type": "code",
   "execution_count": 107,
   "metadata": {},
   "outputs": [
    {
     "name": "stderr",
     "output_type": "stream",
     "text": [
      "/opt/anaconda3/envs/learn-env/lib/python3.6/site-packages/ipykernel_launcher.py:2: FutureWarning: Sorting because non-concatenation axis is not aligned. A future version\n",
      "of pandas will change to not sort by default.\n",
      "\n",
      "To accept the future behavior, pass 'sort=False'.\n",
      "\n",
      "To retain the current behavior and silence the warning, pass 'sort=True'.\n",
      "\n",
      "  \n"
     ]
    },
    {
     "data": {
      "text/html": [
       "<div>\n",
       "<style scoped>\n",
       "    .dataframe tbody tr th:only-of-type {\n",
       "        vertical-align: middle;\n",
       "    }\n",
       "\n",
       "    .dataframe tbody tr th {\n",
       "        vertical-align: top;\n",
       "    }\n",
       "\n",
       "    .dataframe thead th {\n",
       "        text-align: right;\n",
       "    }\n",
       "</style>\n",
       "<table border=\"1\" class=\"dataframe\">\n",
       "  <thead>\n",
       "    <tr style=\"text-align: right;\">\n",
       "      <th></th>\n",
       "      <th>domestic_gross</th>\n",
       "      <th>foreign_gross</th>\n",
       "      <th>production_budget</th>\n",
       "      <th>title</th>\n",
       "      <th>total_gross</th>\n",
       "      <th>roi</th>\n",
       "    </tr>\n",
       "  </thead>\n",
       "  <tbody>\n",
       "    <tr>\n",
       "      <th>1</th>\n",
       "      <td>334200000.0</td>\n",
       "      <td>691300000.0</td>\n",
       "      <td>NaN</td>\n",
       "      <td>Alice in Wonderland (2010)</td>\n",
       "      <td>1.025500e+09</td>\n",
       "      <td>NaN</td>\n",
       "    </tr>\n",
       "    <tr>\n",
       "      <th>2</th>\n",
       "      <td>296000000.0</td>\n",
       "      <td>664300000.0</td>\n",
       "      <td>NaN</td>\n",
       "      <td>Harry Potter and the Deathly Hallows Part 1</td>\n",
       "      <td>9.603000e+08</td>\n",
       "      <td>NaN</td>\n",
       "    </tr>\n",
       "    <tr>\n",
       "      <th>10</th>\n",
       "      <td>163200000.0</td>\n",
       "      <td>330000000.0</td>\n",
       "      <td>NaN</td>\n",
       "      <td>Clash of the Titans (2010)</td>\n",
       "      <td>4.932000e+08</td>\n",
       "      <td>NaN</td>\n",
       "    </tr>\n",
       "    <tr>\n",
       "      <th>12</th>\n",
       "      <td>135500000.0</td>\n",
       "      <td>275400000.0</td>\n",
       "      <td>NaN</td>\n",
       "      <td>The King's Speech</td>\n",
       "      <td>4.109000e+08</td>\n",
       "      <td>NaN</td>\n",
       "    </tr>\n",
       "    <tr>\n",
       "      <th>13</th>\n",
       "      <td>172100000.0</td>\n",
       "      <td>228000000.0</td>\n",
       "      <td>NaN</td>\n",
       "      <td>Tron Legacy</td>\n",
       "      <td>4.001000e+08</td>\n",
       "      <td>NaN</td>\n",
       "    </tr>\n",
       "    <tr>\n",
       "      <th>...</th>\n",
       "      <td>...</td>\n",
       "      <td>...</td>\n",
       "      <td>...</td>\n",
       "      <td>...</td>\n",
       "      <td>...</td>\n",
       "      <td>...</td>\n",
       "    </tr>\n",
       "    <tr>\n",
       "      <th>5777</th>\n",
       "      <td>0.0</td>\n",
       "      <td>0.0</td>\n",
       "      <td>7000.0</td>\n",
       "      <td>Red 11</td>\n",
       "      <td>0.000000e+00</td>\n",
       "      <td>-100.00</td>\n",
       "    </tr>\n",
       "    <tr>\n",
       "      <th>5778</th>\n",
       "      <td>48482.0</td>\n",
       "      <td>240495.0</td>\n",
       "      <td>6000.0</td>\n",
       "      <td>Following</td>\n",
       "      <td>2.889770e+05</td>\n",
       "      <td>4716.28</td>\n",
       "    </tr>\n",
       "    <tr>\n",
       "      <th>5779</th>\n",
       "      <td>1338.0</td>\n",
       "      <td>1338.0</td>\n",
       "      <td>5000.0</td>\n",
       "      <td>Return to the Land of Wonders</td>\n",
       "      <td>2.676000e+03</td>\n",
       "      <td>-46.48</td>\n",
       "    </tr>\n",
       "    <tr>\n",
       "      <th>5780</th>\n",
       "      <td>0.0</td>\n",
       "      <td>0.0</td>\n",
       "      <td>1400.0</td>\n",
       "      <td>A Plague So Pleasant</td>\n",
       "      <td>0.000000e+00</td>\n",
       "      <td>-100.00</td>\n",
       "    </tr>\n",
       "    <tr>\n",
       "      <th>5781</th>\n",
       "      <td>181041.0</td>\n",
       "      <td>181041.0</td>\n",
       "      <td>1100.0</td>\n",
       "      <td>My Date With Drew</td>\n",
       "      <td>3.620820e+05</td>\n",
       "      <td>32816.55</td>\n",
       "    </tr>\n",
       "  </tbody>\n",
       "</table>\n",
       "<p>7846 rows × 6 columns</p>\n",
       "</div>"
      ],
      "text/plain": [
       "      domestic_gross  foreign_gross  production_budget  \\\n",
       "1        334200000.0    691300000.0                NaN   \n",
       "2        296000000.0    664300000.0                NaN   \n",
       "10       163200000.0    330000000.0                NaN   \n",
       "12       135500000.0    275400000.0                NaN   \n",
       "13       172100000.0    228000000.0                NaN   \n",
       "...              ...            ...                ...   \n",
       "5777             0.0            0.0             7000.0   \n",
       "5778         48482.0       240495.0             6000.0   \n",
       "5779          1338.0         1338.0             5000.0   \n",
       "5780             0.0            0.0             1400.0   \n",
       "5781        181041.0       181041.0             1100.0   \n",
       "\n",
       "                                            title   total_gross       roi  \n",
       "1                      Alice in Wonderland (2010)  1.025500e+09       NaN  \n",
       "2     Harry Potter and the Deathly Hallows Part 1  9.603000e+08       NaN  \n",
       "10                     Clash of the Titans (2010)  4.932000e+08       NaN  \n",
       "12                              The King's Speech  4.109000e+08       NaN  \n",
       "13                                    Tron Legacy  4.001000e+08       NaN  \n",
       "...                                           ...           ...       ...  \n",
       "5777                                       Red 11  0.000000e+00   -100.00  \n",
       "5778                                    Following  2.889770e+05   4716.28  \n",
       "5779                Return to the Land of Wonders  2.676000e+03    -46.48  \n",
       "5780                         A Plague So Pleasant  0.000000e+00   -100.00  \n",
       "5781                            My Date With Drew  3.620820e+05  32816.55  \n",
       "\n",
       "[7846 rows x 6 columns]"
      ]
     },
     "execution_count": 107,
     "metadata": {},
     "output_type": "execute_result"
    }
   ],
   "source": [
    "# concat gross and budget tables, create columns for total_gross and Return on Investment, drop duplicate rows\n",
    "budget_concat = pd.concat([movie_gross, budgets])\n",
    "budget_concat['total_gross'] = budget_concat.domestic_gross + budget_concat.foreign_gross\n",
    "budget_concat['roi'] = (((budget_concat.total_gross - budget_concat.production_budget)/budget_concat.production_budget)* 100).round(2)\n",
    "budget_concat.drop_duplicates(subset=['title'],keep='last', inplace=True)\n",
    "budget_concat"
   ]
  },
  {
   "cell_type": "markdown",
   "metadata": {},
   "source": [
    "# 7. Final Oscar Nominations vs Genre vs Budget DataFrame"
   ]
  },
  {
   "cell_type": "code",
   "execution_count": 108,
   "metadata": {},
   "outputs": [
    {
     "data": {
      "text/html": [
       "<div>\n",
       "<style scoped>\n",
       "    .dataframe tbody tr th:only-of-type {\n",
       "        vertical-align: middle;\n",
       "    }\n",
       "\n",
       "    .dataframe tbody tr th {\n",
       "        vertical-align: top;\n",
       "    }\n",
       "\n",
       "    .dataframe thead th {\n",
       "        text-align: right;\n",
       "    }\n",
       "</style>\n",
       "<table border=\"1\" class=\"dataframe\">\n",
       "  <thead>\n",
       "    <tr style=\"text-align: right;\">\n",
       "      <th></th>\n",
       "      <th>oscar_noms</th>\n",
       "      <th>genres</th>\n",
       "      <th>production_budget</th>\n",
       "      <th>total_gross</th>\n",
       "      <th>roi</th>\n",
       "    </tr>\n",
       "    <tr>\n",
       "      <th>title</th>\n",
       "      <th></th>\n",
       "      <th></th>\n",
       "      <th></th>\n",
       "      <th></th>\n",
       "      <th></th>\n",
       "    </tr>\n",
       "  </thead>\n",
       "  <tbody>\n",
       "    <tr>\n",
       "      <th>A Star Is Born</th>\n",
       "      <td>25</td>\n",
       "      <td>Romance</td>\n",
       "      <td>NaN</td>\n",
       "      <td>NaN</td>\n",
       "      <td>NaN</td>\n",
       "    </tr>\n",
       "    <tr>\n",
       "      <th>A Star Is Born</th>\n",
       "      <td>25</td>\n",
       "      <td>Drama</td>\n",
       "      <td>NaN</td>\n",
       "      <td>NaN</td>\n",
       "      <td>NaN</td>\n",
       "    </tr>\n",
       "    <tr>\n",
       "      <th>A Star Is Born</th>\n",
       "      <td>25</td>\n",
       "      <td>Music</td>\n",
       "      <td>NaN</td>\n",
       "      <td>NaN</td>\n",
       "      <td>NaN</td>\n",
       "    </tr>\n",
       "    <tr>\n",
       "      <th>Titanic</th>\n",
       "      <td>16</td>\n",
       "      <td>Family</td>\n",
       "      <td>200000000.0</td>\n",
       "      <td>2.867572e+09</td>\n",
       "      <td>1333.79</td>\n",
       "    </tr>\n",
       "    <tr>\n",
       "      <th>Titanic</th>\n",
       "      <td>16</td>\n",
       "      <td>Adventure</td>\n",
       "      <td>200000000.0</td>\n",
       "      <td>2.867572e+09</td>\n",
       "      <td>1333.79</td>\n",
       "    </tr>\n",
       "  </tbody>\n",
       "</table>\n",
       "</div>"
      ],
      "text/plain": [
       "                oscar_noms     genres  production_budget   total_gross  \\\n",
       "title                                                                    \n",
       "A Star Is Born          25    Romance                NaN           NaN   \n",
       "A Star Is Born          25      Drama                NaN           NaN   \n",
       "A Star Is Born          25      Music                NaN           NaN   \n",
       "Titanic                 16     Family        200000000.0  2.867572e+09   \n",
       "Titanic                 16  Adventure        200000000.0  2.867572e+09   \n",
       "\n",
       "                    roi  \n",
       "title                    \n",
       "A Star Is Born      NaN  \n",
       "A Star Is Born      NaN  \n",
       "A Star Is Born      NaN  \n",
       "Titanic         1333.79  \n",
       "Titanic         1333.79  "
      ]
     },
     "execution_count": 108,
     "metadata": {},
     "output_type": "execute_result"
    }
   ],
   "source": [
    "# subset the oscars table, drop duplicate listings\n",
    "oscar_df = oscar_genre.loc[:,['title', \"oscar_noms\", 'genres']]\n",
    "oscar_df.drop_duplicates(inplace=True)\n",
    "oscar_df.sort_values('oscar_noms',ascending=False).head(15)\n",
    "\n",
    "# join genre/oscar table with budgets.....\n",
    "oscar_df = oscar_df.merge(budget_concat[['title','production_budget', \"total_gross\", 'roi']], on='title', how='left').set_index('title')\n",
    "oscar_df.sort_values('oscar_noms', ascending=False).head(5)"
   ]
  },
  {
   "cell_type": "markdown",
   "metadata": {},
   "source": [
    "## 8. Plotting Oscar Nominations vs Production Budget\n",
    "## Khyatee TO DO: \n",
    "- remove outliers based on boxplot quartiles\n",
    "- redraw charts\n",
    "- draw conclusions"
   ]
  },
  {
   "cell_type": "code",
   "execution_count": 109,
   "metadata": {},
   "outputs": [
    {
     "data": {
      "text/plain": [
       "<seaborn.axisgrid.FacetGrid at 0x7ff2dcdafef0>"
      ]
     },
     "execution_count": 109,
     "metadata": {},
     "output_type": "execute_result"
    },
    {
     "data": {
      "image/png": "[encoded data removed]",
      "text/plain": [
       "<Figure size 360x360 with 1 Axes>"
      ]
     },
     "metadata": {
      "needs_background": "light"
     },
     "output_type": "display_data"
    }
   ],
   "source": [
    "x ='oscar_noms'\n",
    "y = 'total_gross'\n",
    "# drop duplicates that exist because of genre unstacking (genre not relevant for this chart)\n",
    "noms_vs_budget = oscar_df.loc[:,[x, y]].drop_duplicates()\n",
    "sns.lmplot(x,y, data = noms_vs_budget)"
   ]
  },
  {
   "cell_type": "markdown",
   "metadata": {},
   "source": [
    "## 9. Plotting Oscar Nominations per Genre"
   ]
  },
  {
   "cell_type": "code",
   "execution_count": 110,
   "metadata": {},
   "outputs": [
    {
     "data": {
      "text/plain": [
       "<matplotlib.axes._subplots.AxesSubplot at 0x7ff30790d940>"
      ]
     },
     "execution_count": 110,
     "metadata": {},
     "output_type": "execute_result"
    },
    {
     "data": {
      "image/png": "[encoded data removed]",
      "text/plain": [
       "<Figure size 432x288 with 1 Axes>"
      ]
     },
     "metadata": {
      "needs_background": "light"
     },
     "output_type": "display_data"
    }
   ],
   "source": [
    "sns.barplot('production_budget','genres' , data = oscar_df)"
   ]
  },
  {
   "cell_type": "markdown",
   "metadata": {},
   "source": [
    "# Question 2: How does Trailer Popularity impact Movie Success?\n",
    "### Task: Compare movie trailer view counts to movie ratings and revenue\n",
    "\n",
    "### Data of Interest:\n",
    "- trailer views\n",
    "- gross revenue\n",
    "- online ratings\n",
    "\n",
    "### Datasets:\n",
    "https://grouplens.org/datasets/movielens/20m-youtube/"
   ]
  },
  {
   "cell_type": "code",
   "execution_count": 111,
   "metadata": {
    "scrolled": true
   },
   "outputs": [
    {
     "data": {
      "text/html": [
       "<div>\n",
       "<style scoped>\n",
       "    .dataframe tbody tr th:only-of-type {\n",
       "        vertical-align: middle;\n",
       "    }\n",
       "\n",
       "    .dataframe tbody tr th {\n",
       "        vertical-align: top;\n",
       "    }\n",
       "\n",
       "    .dataframe thead th {\n",
       "        text-align: right;\n",
       "    }\n",
       "</style>\n",
       "<table border=\"1\" class=\"dataframe\">\n",
       "  <thead>\n",
       "    <tr style=\"text-align: right;\">\n",
       "      <th></th>\n",
       "      <th>youtubeId</th>\n",
       "      <th>movieId</th>\n",
       "      <th>title</th>\n",
       "      <th>domestic_gross</th>\n",
       "      <th>foreign_gross</th>\n",
       "      <th>production_budget</th>\n",
       "      <th>total_gross</th>\n",
       "      <th>roi</th>\n",
       "    </tr>\n",
       "  </thead>\n",
       "  <tbody>\n",
       "    <tr>\n",
       "      <th>2745</th>\n",
       "      <td>5MB3Ea6L-gw</td>\n",
       "      <td>72998</td>\n",
       "      <td>Avatar</td>\n",
       "      <td>760507625.0</td>\n",
       "      <td>2.776345e+09</td>\n",
       "      <td>425000000.0</td>\n",
       "      <td>3.536853e+09</td>\n",
       "      <td>732.20</td>\n",
       "    </tr>\n",
       "    <tr>\n",
       "      <th>459</th>\n",
       "      <td>yxIVO7P0iig</td>\n",
       "      <td>118916</td>\n",
       "      <td>Titanic</td>\n",
       "      <td>659363944.0</td>\n",
       "      <td>2.208208e+09</td>\n",
       "      <td>200000000.0</td>\n",
       "      <td>2.867572e+09</td>\n",
       "      <td>1333.79</td>\n",
       "    </tr>\n",
       "    <tr>\n",
       "      <th>458</th>\n",
       "      <td>dQ7MAigAhas</td>\n",
       "      <td>3404</td>\n",
       "      <td>Titanic</td>\n",
       "      <td>659363944.0</td>\n",
       "      <td>2.208208e+09</td>\n",
       "      <td>200000000.0</td>\n",
       "      <td>2.867572e+09</td>\n",
       "      <td>1333.79</td>\n",
       "    </tr>\n",
       "    <tr>\n",
       "      <th>457</th>\n",
       "      <td>2e-eXJ6HgkQ</td>\n",
       "      <td>1721</td>\n",
       "      <td>Titanic</td>\n",
       "      <td>659363944.0</td>\n",
       "      <td>2.208208e+09</td>\n",
       "      <td>200000000.0</td>\n",
       "      <td>2.867572e+09</td>\n",
       "      <td>1333.79</td>\n",
       "    </tr>\n",
       "    <tr>\n",
       "      <th>2799</th>\n",
       "      <td>TbQm5doF_Uc</td>\n",
       "      <td>106696</td>\n",
       "      <td>Frozen</td>\n",
       "      <td>400738009.0</td>\n",
       "      <td>1.272470e+09</td>\n",
       "      <td>150000000.0</td>\n",
       "      <td>1.673208e+09</td>\n",
       "      <td>1015.47</td>\n",
       "    </tr>\n",
       "    <tr>\n",
       "      <th>...</th>\n",
       "      <td>...</td>\n",
       "      <td>...</td>\n",
       "      <td>...</td>\n",
       "      <td>...</td>\n",
       "      <td>...</td>\n",
       "      <td>...</td>\n",
       "      <td>...</td>\n",
       "      <td>...</td>\n",
       "    </tr>\n",
       "    <tr>\n",
       "      <th>4012</th>\n",
       "      <td>myjar5KoqZA</td>\n",
       "      <td>129820</td>\n",
       "      <td>Spare Parts</td>\n",
       "      <td>3600000.0</td>\n",
       "      <td>NaN</td>\n",
       "      <td>NaN</td>\n",
       "      <td>NaN</td>\n",
       "      <td>NaN</td>\n",
       "    </tr>\n",
       "    <tr>\n",
       "      <th>4017</th>\n",
       "      <td>utmvmr7cgcg</td>\n",
       "      <td>130052</td>\n",
       "      <td>Clown</td>\n",
       "      <td>55000.0</td>\n",
       "      <td>NaN</td>\n",
       "      <td>NaN</td>\n",
       "      <td>NaN</td>\n",
       "      <td>NaN</td>\n",
       "    </tr>\n",
       "    <tr>\n",
       "      <th>4020</th>\n",
       "      <td>tRn3gr8Pt_o</td>\n",
       "      <td>130382</td>\n",
       "      <td>Mr. Pip</td>\n",
       "      <td>1700.0</td>\n",
       "      <td>NaN</td>\n",
       "      <td>NaN</td>\n",
       "      <td>NaN</td>\n",
       "      <td>NaN</td>\n",
       "    </tr>\n",
       "    <tr>\n",
       "      <th>4028</th>\n",
       "      <td>6uaWekLrilY</td>\n",
       "      <td>131023</td>\n",
       "      <td>That Sugar Film</td>\n",
       "      <td>3500.0</td>\n",
       "      <td>NaN</td>\n",
       "      <td>NaN</td>\n",
       "      <td>NaN</td>\n",
       "      <td>NaN</td>\n",
       "    </tr>\n",
       "    <tr>\n",
       "      <th>4029</th>\n",
       "      <td>3FJcYNQZioU</td>\n",
       "      <td>131172</td>\n",
       "      <td>Closed Curtain</td>\n",
       "      <td>28100.0</td>\n",
       "      <td>NaN</td>\n",
       "      <td>NaN</td>\n",
       "      <td>NaN</td>\n",
       "      <td>NaN</td>\n",
       "    </tr>\n",
       "  </tbody>\n",
       "</table>\n",
       "<p>4031 rows × 8 columns</p>\n",
       "</div>"
      ],
      "text/plain": [
       "        youtubeId  movieId            title  domestic_gross  foreign_gross  \\\n",
       "2745  5MB3Ea6L-gw    72998           Avatar     760507625.0   2.776345e+09   \n",
       "459   yxIVO7P0iig   118916          Titanic     659363944.0   2.208208e+09   \n",
       "458   dQ7MAigAhas     3404          Titanic     659363944.0   2.208208e+09   \n",
       "457   2e-eXJ6HgkQ     1721          Titanic     659363944.0   2.208208e+09   \n",
       "2799  TbQm5doF_Uc   106696           Frozen     400738009.0   1.272470e+09   \n",
       "...           ...      ...              ...             ...            ...   \n",
       "4012  myjar5KoqZA   129820      Spare Parts       3600000.0            NaN   \n",
       "4017  utmvmr7cgcg   130052            Clown         55000.0            NaN   \n",
       "4020  tRn3gr8Pt_o   130382          Mr. Pip          1700.0            NaN   \n",
       "4028  6uaWekLrilY   131023  That Sugar Film          3500.0            NaN   \n",
       "4029  3FJcYNQZioU   131172   Closed Curtain         28100.0            NaN   \n",
       "\n",
       "      production_budget   total_gross      roi  \n",
       "2745        425000000.0  3.536853e+09   732.20  \n",
       "459         200000000.0  2.867572e+09  1333.79  \n",
       "458         200000000.0  2.867572e+09  1333.79  \n",
       "457         200000000.0  2.867572e+09  1333.79  \n",
       "2799        150000000.0  1.673208e+09  1015.47  \n",
       "...                 ...           ...      ...  \n",
       "4012                NaN           NaN      NaN  \n",
       "4017                NaN           NaN      NaN  \n",
       "4020                NaN           NaN      NaN  \n",
       "4028                NaN           NaN      NaN  \n",
       "4029                NaN           NaN      NaN  \n",
       "\n",
       "[4031 rows x 8 columns]"
      ]
     },
     "execution_count": 111,
     "metadata": {},
     "output_type": "execute_result"
    }
   ],
   "source": [
    "# slice year out of title string, merge with budgets table\n",
    "trailers_raw = pd.read_csv('./zippedData/movie_trailers.zip')\n",
    "trailers_raw['title'] = trailers_raw['title'].str[:-7]\n",
    "trailers = trailers_raw.merge(budget_concat, on='title').sort_values('total_gross', ascending=False) #### remove this later\n",
    "ids = list(trailers[\"youtubeId\"].values[:])\n",
    "trailers"
   ]
  },
  {
   "cell_type": "markdown",
   "metadata": {},
   "source": [
    "## Create function to feed in youtube id's of trailers and retrieve view counts"
   ]
  },
  {
   "cell_type": "code",
   "execution_count": 112,
   "metadata": {},
   "outputs": [],
   "source": [
    "\n",
    "def getViews(youtubeIDs):\n",
    "    views = []\n",
    "    for i in youtubeIDs:\n",
    "        try:\n",
    "            url = \"https://www.youtube.com/watch?v={}\".format(i)\n",
    "            html_page = requests.get(url) \n",
    "            soup = BeautifulSoup(html_page.text, 'html.parser')\n",
    "            script = soup.find_all('script')[32]\n",
    "            value = re.findall('ewCount\":{\"simpleText\":\"([\\d,]+) views', str(soup))\n",
    "            views.append(float(value[0].replace(',','')))\n",
    "        except:\n",
    "            views.append(0)\n",
    "    return views\n"
   ]
  },
  {
   "cell_type": "markdown",
   "metadata": {},
   "source": [
    "## Scrape all YouTube Trailers and save as CSV (Warning: takes ~1hr to run)\n",
    "### Leave this commented out"
   ]
  },
  {
   "cell_type": "code",
   "execution_count": 113,
   "metadata": {},
   "outputs": [],
   "source": [
    "# trailers['trailer_views'] = getViews(ids)\n",
    "# trailers.to_csv('zippedData/trailerViews.csv')"
   ]
  },
  {
   "cell_type": "markdown",
   "metadata": {},
   "source": [
    "# Final Trailer Views vs ROI DataFrame"
   ]
  },
  {
   "cell_type": "code",
   "execution_count": 114,
   "metadata": {},
   "outputs": [
    {
     "data": {
      "text/html": [
       "<div>\n",
       "<style scoped>\n",
       "    .dataframe tbody tr th:only-of-type {\n",
       "        vertical-align: middle;\n",
       "    }\n",
       "\n",
       "    .dataframe tbody tr th {\n",
       "        vertical-align: top;\n",
       "    }\n",
       "\n",
       "    .dataframe thead th {\n",
       "        text-align: right;\n",
       "    }\n",
       "</style>\n",
       "<table border=\"1\" class=\"dataframe\">\n",
       "  <thead>\n",
       "    <tr style=\"text-align: right;\">\n",
       "      <th></th>\n",
       "      <th>youtubeId</th>\n",
       "      <th>production_budget</th>\n",
       "      <th>total_gross</th>\n",
       "      <th>roi</th>\n",
       "      <th>trailer_views</th>\n",
       "    </tr>\n",
       "    <tr>\n",
       "      <th>title</th>\n",
       "      <th></th>\n",
       "      <th></th>\n",
       "      <th></th>\n",
       "      <th></th>\n",
       "      <th></th>\n",
       "    </tr>\n",
       "  </thead>\n",
       "  <tbody>\n",
       "    <tr>\n",
       "      <th>Unfaithful</th>\n",
       "      <td>j-V12tL78Mc</td>\n",
       "      <td>50000000.0</td>\n",
       "      <td>1.191145e+08</td>\n",
       "      <td>138.23</td>\n",
       "      <td>117290789.0</td>\n",
       "    </tr>\n",
       "    <tr>\n",
       "      <th>Ilo Ilo</th>\n",
       "      <td>ISovsVvX8Bg</td>\n",
       "      <td>NaN</td>\n",
       "      <td>1.156800e+06</td>\n",
       "      <td>NaN</td>\n",
       "      <td>67247941.0</td>\n",
       "    </tr>\n",
       "    <tr>\n",
       "      <th>Transformers: Dark of the Moon</th>\n",
       "      <td>3H8bnKdf654</td>\n",
       "      <td>195000000.0</td>\n",
       "      <td>1.123791e+09</td>\n",
       "      <td>476.30</td>\n",
       "      <td>53112332.0</td>\n",
       "    </tr>\n",
       "    <tr>\n",
       "      <th>The Fault in Our Stars</th>\n",
       "      <td>9ItBvH5J6ss</td>\n",
       "      <td>12000000.0</td>\n",
       "      <td>3.071668e+08</td>\n",
       "      <td>2459.72</td>\n",
       "      <td>44956623.0</td>\n",
       "    </tr>\n",
       "    <tr>\n",
       "      <th>Eden</th>\n",
       "      <td>pdbI0Fn4COQ</td>\n",
       "      <td>2300000.0</td>\n",
       "      <td>0.000000e+00</td>\n",
       "      <td>-100.00</td>\n",
       "      <td>43188495.0</td>\n",
       "    </tr>\n",
       "    <tr>\n",
       "      <th>...</th>\n",
       "      <td>...</td>\n",
       "      <td>...</td>\n",
       "      <td>...</td>\n",
       "      <td>...</td>\n",
       "      <td>...</td>\n",
       "    </tr>\n",
       "    <tr>\n",
       "      <th>Harry Brown</th>\n",
       "      <td>I2S3SraFmI0</td>\n",
       "      <td>7300000.0</td>\n",
       "      <td>1.202361e+07</td>\n",
       "      <td>64.71</td>\n",
       "      <td>0.0</td>\n",
       "    </tr>\n",
       "    <tr>\n",
       "      <th>Elles</th>\n",
       "      <td>YIWiNzszcAo</td>\n",
       "      <td>NaN</td>\n",
       "      <td>9.120000e+05</td>\n",
       "      <td>NaN</td>\n",
       "      <td>0.0</td>\n",
       "    </tr>\n",
       "    <tr>\n",
       "      <th>Miral</th>\n",
       "      <td>4t8E6_S9f4k</td>\n",
       "      <td>NaN</td>\n",
       "      <td>9.000000e+05</td>\n",
       "      <td>NaN</td>\n",
       "      <td>0.0</td>\n",
       "    </tr>\n",
       "    <tr>\n",
       "      <th>All Good Things</th>\n",
       "      <td>B7_VwoZKPRM</td>\n",
       "      <td>20000000.0</td>\n",
       "      <td>8.736170e+05</td>\n",
       "      <td>-95.63</td>\n",
       "      <td>0.0</td>\n",
       "    </tr>\n",
       "    <tr>\n",
       "      <th>You Can Count on Me</th>\n",
       "      <td>WfBoo0XvGfE</td>\n",
       "      <td>1200000.0</td>\n",
       "      <td>1.082736e+07</td>\n",
       "      <td>802.28</td>\n",
       "      <td>0.0</td>\n",
       "    </tr>\n",
       "  </tbody>\n",
       "</table>\n",
       "<p>3655 rows × 5 columns</p>\n",
       "</div>"
      ],
      "text/plain": [
       "                                  youtubeId  production_budget   total_gross  \\\n",
       "title                                                                          \n",
       "Unfaithful                      j-V12tL78Mc         50000000.0  1.191145e+08   \n",
       "Ilo Ilo                         ISovsVvX8Bg                NaN  1.156800e+06   \n",
       "Transformers: Dark of the Moon  3H8bnKdf654        195000000.0  1.123791e+09   \n",
       "The Fault in Our Stars          9ItBvH5J6ss         12000000.0  3.071668e+08   \n",
       "Eden                            pdbI0Fn4COQ          2300000.0  0.000000e+00   \n",
       "...                                     ...                ...           ...   \n",
       "Harry Brown                     I2S3SraFmI0          7300000.0  1.202361e+07   \n",
       "Elles                           YIWiNzszcAo                NaN  9.120000e+05   \n",
       "Miral                           4t8E6_S9f4k                NaN  9.000000e+05   \n",
       "All Good Things                 B7_VwoZKPRM         20000000.0  8.736170e+05   \n",
       "You Can Count on Me             WfBoo0XvGfE          1200000.0  1.082736e+07   \n",
       "\n",
       "                                    roi  trailer_views  \n",
       "title                                                   \n",
       "Unfaithful                       138.23    117290789.0  \n",
       "Ilo Ilo                             NaN     67247941.0  \n",
       "Transformers: Dark of the Moon   476.30     53112332.0  \n",
       "The Fault in Our Stars          2459.72     44956623.0  \n",
       "Eden                            -100.00     43188495.0  \n",
       "...                                 ...            ...  \n",
       "Harry Brown                       64.71            0.0  \n",
       "Elles                               NaN            0.0  \n",
       "Miral                               NaN            0.0  \n",
       "All Good Things                  -95.63            0.0  \n",
       "You Can Count on Me              802.28            0.0  \n",
       "\n",
       "[3655 rows x 5 columns]"
      ]
     },
     "execution_count": 114,
     "metadata": {},
     "output_type": "execute_result"
    }
   ],
   "source": [
    "# sort by trailer views and drop duplicates to keep only trailer with highest views\n",
    "trailer_df = pd.read_csv('zippedData/trailerViews.csv')\n",
    "trailer_df = trailer_df.loc[:,['title','youtubeId','production_budget', 'total_gross', 'roi', 'trailer_views']].sort_values('trailer_views', ascending=False)\n",
    "trailer_df = trailer_df.drop_duplicates(subset= ['title'], keep='first').set_index('title')\n",
    "trailer_df"
   ]
  },
  {
   "cell_type": "code",
   "execution_count": 115,
   "metadata": {},
   "outputs": [
    {
     "data": {
      "text/plain": [
       "<seaborn.axisgrid.FacetGrid at 0x7ff2efed0a90>"
      ]
     },
     "execution_count": 115,
     "metadata": {},
     "output_type": "execute_result"
    },
    {
     "data": {
      "image/png": "[encoded data removed]",
      "text/plain": [
       "<Figure size 360x360 with 1 Axes>"
      ]
     },
     "metadata": {
      "needs_background": "light"
     },
     "output_type": "display_data"
    }
   ],
   "source": [
    "sns.lmplot('trailer_views', 'total_gross', data = trailer_df)"
   ]
  },
  {
   "cell_type": "code",
   "execution_count": null,
   "metadata": {},
   "outputs": [],
   "source": []
  },
  {
   "cell_type": "code",
   "execution_count": null,
   "metadata": {},
   "outputs": [],
   "source": []
  },
  {
   "cell_type": "code",
   "execution_count": null,
   "metadata": {},
   "outputs": [],
   "source": []
  },
  {
   "cell_type": "markdown",
   "metadata": {},
   "source": [
    "# Question 3: Do Music Scores Contribute to Movie Success?\n",
    "### Task: Look at how music score ratings compare to movie ratings and ROI\n",
    "### Data of Interest:\n",
    "- Composers\n",
    "- Music Score Rating\n",
    "- Average Movie Rating\n",
    "- TMDB rating\n",
    "- IMDB rating\n",
    "- ROI\n",
    "\n",
    "### Datasets: \n",
    "- https://www.soundtrack.net/content/reviews/ (not sure if we will end up using this one)\n",
    "- http://www.movie-wave.net/reviews-by-composer/\n"
   ]
  },
  {
   "cell_type": "markdown",
   "metadata": {},
   "source": [
    "## Scrape music reviews page"
   ]
  },
  {
   "cell_type": "code",
   "execution_count": 116,
   "metadata": {},
   "outputs": [],
   "source": [
    "page = requests.get(\"http://www.movie-wave.net/reviews-by-title/\")\n",
    "soup = BeautifulSoup(page.content, 'html.parser')\n",
    "content =soup.find('div', class_=\"page-content\")\n",
    "p_list = content.findAll('p')"
   ]
  },
  {
   "cell_type": "code",
   "execution_count": 117,
   "metadata": {},
   "outputs": [],
   "source": [
    "to_df =[]\n",
    "for p in p_list:\n",
    "    for a in p.findAll('a'):\n",
    "        try:\n",
    "           to_df.append([a.text, a.nextSibling, a.nextSibling.nextSibling.text])\n",
    "        except:\n",
    "            pass\n"
   ]
  },
  {
   "cell_type": "markdown",
   "metadata": {},
   "source": [
    "## Create DataFrame with Music Ratings"
   ]
  },
  {
   "cell_type": "code",
   "execution_count": 118,
   "metadata": {},
   "outputs": [],
   "source": [
    "music_df = pd.DataFrame(to_df, columns=['title', 'composer', 'stars'])\n",
    "music_df['composer'] = music_df['composer'].str[:-7]"
   ]
  },
  {
   "cell_type": "code",
   "execution_count": 119,
   "metadata": {},
   "outputs": [
    {
     "data": {
      "text/html": [
       "<div>\n",
       "<style scoped>\n",
       "    .dataframe tbody tr th:only-of-type {\n",
       "        vertical-align: middle;\n",
       "    }\n",
       "\n",
       "    .dataframe tbody tr th {\n",
       "        vertical-align: top;\n",
       "    }\n",
       "\n",
       "    .dataframe thead th {\n",
       "        text-align: right;\n",
       "    }\n",
       "</style>\n",
       "<table border=\"1\" class=\"dataframe\">\n",
       "  <thead>\n",
       "    <tr style=\"text-align: right;\">\n",
       "      <th></th>\n",
       "      <th>title</th>\n",
       "      <th>composer</th>\n",
       "      <th>music_rating</th>\n",
       "    </tr>\n",
       "  </thead>\n",
       "  <tbody>\n",
       "    <tr>\n",
       "      <th>0</th>\n",
       "      <td>10 Cloverfield Lane</td>\n",
       "      <td>Bear McCreary</td>\n",
       "      <td>4.0</td>\n",
       "    </tr>\n",
       "    <tr>\n",
       "      <th>1</th>\n",
       "      <td>100 Rifles</td>\n",
       "      <td>Jerry Goldsmith</td>\n",
       "      <td>4.0</td>\n",
       "    </tr>\n",
       "    <tr>\n",
       "      <th>2</th>\n",
       "      <td>101 Dalmatians</td>\n",
       "      <td>Michael Kamen</td>\n",
       "      <td>4.5</td>\n",
       "    </tr>\n",
       "    <tr>\n",
       "      <th>3</th>\n",
       "      <td>102 Dalmatians</td>\n",
       "      <td>David Newman</td>\n",
       "      <td>4.0</td>\n",
       "    </tr>\n",
       "    <tr>\n",
       "      <th>4</th>\n",
       "      <td>10,000BC</td>\n",
       "      <td>Harald Kloser and Thomas Wander</td>\n",
       "      <td>2.0</td>\n",
       "    </tr>\n",
       "    <tr>\n",
       "      <th>...</th>\n",
       "      <td>...</td>\n",
       "      <td>...</td>\n",
       "      <td>...</td>\n",
       "    </tr>\n",
       "    <tr>\n",
       "      <th>2294</th>\n",
       "      <td>Zathura</td>\n",
       "      <td>John Debney</td>\n",
       "      <td>4.0</td>\n",
       "    </tr>\n",
       "    <tr>\n",
       "      <th>2295</th>\n",
       "      <td>Zero Dark Thirty</td>\n",
       "      <td>Alexandre Desplat</td>\n",
       "      <td>4.0</td>\n",
       "    </tr>\n",
       "    <tr>\n",
       "      <th>2296</th>\n",
       "      <td>Zoolander 2</td>\n",
       "      <td>Theodore Shapiro</td>\n",
       "      <td>3.5</td>\n",
       "    </tr>\n",
       "    <tr>\n",
       "      <th>2297</th>\n",
       "      <td>Zootopia</td>\n",
       "      <td>Michael Giacchino</td>\n",
       "      <td>2.0</td>\n",
       "    </tr>\n",
       "    <tr>\n",
       "      <th>2298</th>\n",
       "      <td>Zulu Dawn</td>\n",
       "      <td>Elmer Bernstein</td>\n",
       "      <td>5.0</td>\n",
       "    </tr>\n",
       "  </tbody>\n",
       "</table>\n",
       "<p>2299 rows × 3 columns</p>\n",
       "</div>"
      ],
      "text/plain": [
       "                    title                           composer  music_rating\n",
       "0     10 Cloverfield Lane                     Bear McCreary            4.0\n",
       "1              100 Rifles                   Jerry Goldsmith            4.0\n",
       "2          101 Dalmatians                     Michael Kamen            4.5\n",
       "3          102 Dalmatians                      David Newman            4.0\n",
       "4                10,000BC   Harald Kloser and Thomas Wander            2.0\n",
       "...                   ...                                ...           ...\n",
       "2294              Zathura                       John Debney            4.0\n",
       "2295     Zero Dark Thirty                 Alexandre Desplat            4.0\n",
       "2296          Zoolander 2                  Theodore Shapiro            3.5\n",
       "2297             Zootopia                 Michael Giacchino            2.0\n",
       "2298            Zulu Dawn                   Elmer Bernstein            5.0\n",
       "\n",
       "[2299 rows x 3 columns]"
      ]
     },
     "execution_count": 119,
     "metadata": {},
     "output_type": "execute_result"
    }
   ],
   "source": [
    "stars = list(music_df['stars'])\n",
    "mapper = {'*****':5, '**** 1/2':4.5,'****':4,'*** 1/2':3.5,'***':3,'** 1/2':2.5,'**':2,'* 1/2':1.5,'*':1}\n",
    "ratings = list(map(mapper.get, stars))\n",
    "music_df['music_rating'] = ratings\n",
    "music_df = music_df.drop('stars',axis=1)\n",
    "music_df"
   ]
  },
  {
   "cell_type": "markdown",
   "metadata": {},
   "source": [
    "## Merge TMDB Ratings with Budget/ROI table\n"
   ]
  },
  {
   "cell_type": "code",
   "execution_count": 120,
   "metadata": {},
   "outputs": [
    {
     "data": {
      "text/html": [
       "<div>\n",
       "<style scoped>\n",
       "    .dataframe tbody tr th:only-of-type {\n",
       "        vertical-align: middle;\n",
       "    }\n",
       "\n",
       "    .dataframe tbody tr th {\n",
       "        vertical-align: top;\n",
       "    }\n",
       "\n",
       "    .dataframe thead th {\n",
       "        text-align: right;\n",
       "    }\n",
       "</style>\n",
       "<table border=\"1\" class=\"dataframe\">\n",
       "  <thead>\n",
       "    <tr style=\"text-align: right;\">\n",
       "      <th></th>\n",
       "      <th>title</th>\n",
       "      <th>tmdb_rating</th>\n",
       "      <th>tmdb_votes</th>\n",
       "      <th>tmdb_popularity</th>\n",
       "      <th>total_gross</th>\n",
       "      <th>production_budget</th>\n",
       "      <th>roi</th>\n",
       "    </tr>\n",
       "  </thead>\n",
       "  <tbody>\n",
       "    <tr>\n",
       "      <th>0</th>\n",
       "      <td>Harry Potter and the Deathly Hallows: Part 1</td>\n",
       "      <td>7.7</td>\n",
       "      <td>10788</td>\n",
       "      <td>33.533</td>\n",
       "      <td>NaN</td>\n",
       "      <td>NaN</td>\n",
       "      <td>NaN</td>\n",
       "    </tr>\n",
       "    <tr>\n",
       "      <th>1</th>\n",
       "      <td>How to Train Your Dragon</td>\n",
       "      <td>7.7</td>\n",
       "      <td>7610</td>\n",
       "      <td>28.734</td>\n",
       "      <td>7.124522e+08</td>\n",
       "      <td>165000000.0</td>\n",
       "      <td>331.79</td>\n",
       "    </tr>\n",
       "    <tr>\n",
       "      <th>2</th>\n",
       "      <td>Iron Man 2</td>\n",
       "      <td>6.8</td>\n",
       "      <td>12368</td>\n",
       "      <td>28.515</td>\n",
       "      <td>9.335897e+08</td>\n",
       "      <td>170000000.0</td>\n",
       "      <td>449.17</td>\n",
       "    </tr>\n",
       "    <tr>\n",
       "      <th>3</th>\n",
       "      <td>Toy Story</td>\n",
       "      <td>7.9</td>\n",
       "      <td>10174</td>\n",
       "      <td>28.005</td>\n",
       "      <td>5.563417e+08</td>\n",
       "      <td>30000000.0</td>\n",
       "      <td>1754.47</td>\n",
       "    </tr>\n",
       "    <tr>\n",
       "      <th>4</th>\n",
       "      <td>Inception</td>\n",
       "      <td>8.3</td>\n",
       "      <td>22186</td>\n",
       "      <td>27.920</td>\n",
       "      <td>1.128101e+09</td>\n",
       "      <td>160000000.0</td>\n",
       "      <td>605.06</td>\n",
       "    </tr>\n",
       "  </tbody>\n",
       "</table>\n",
       "</div>"
      ],
      "text/plain": [
       "                                          title  tmdb_rating  tmdb_votes  \\\n",
       "0  Harry Potter and the Deathly Hallows: Part 1          7.7       10788   \n",
       "1                      How to Train Your Dragon          7.7        7610   \n",
       "2                                    Iron Man 2          6.8       12368   \n",
       "3                                     Toy Story          7.9       10174   \n",
       "4                                     Inception          8.3       22186   \n",
       "\n",
       "   tmdb_popularity   total_gross  production_budget      roi  \n",
       "0           33.533           NaN                NaN      NaN  \n",
       "1           28.734  7.124522e+08        165000000.0   331.79  \n",
       "2           28.515  9.335897e+08        170000000.0   449.17  \n",
       "3           28.005  5.563417e+08         30000000.0  1754.47  \n",
       "4           27.920  1.128101e+09        160000000.0   605.06  "
      ]
     },
     "execution_count": 120,
     "metadata": {},
     "output_type": "execute_result"
    }
   ],
   "source": [
    "# Rename columns to specify TMDB, and subset data to only get columns of interest\n",
    "tmdb = tmdb_raw.merge(budget_concat[['title', 'total_gross','production_budget', 'roi']], on='title', how='left')\n",
    "tmdb.rename(columns ={'popularity':'tmdb_popularity', 'vote_average': 'tmdb_rating', 'vote_count': 'tmdb_votes'}, inplace=True)\n",
    "tmdb = tmdb.loc[:,['title', 'tmdb_rating', 'tmdb_votes', 'tmdb_popularity', 'total_gross', 'production_budget', 'roi']]\n",
    "tmdb.head()"
   ]
  },
  {
   "cell_type": "markdown",
   "metadata": {},
   "source": [
    "## merge in IMDB ratings with above TMDB table"
   ]
  },
  {
   "cell_type": "code",
   "execution_count": 121,
   "metadata": {},
   "outputs": [
    {
     "data": {
      "text/html": [
       "<div>\n",
       "<style scoped>\n",
       "    .dataframe tbody tr th:only-of-type {\n",
       "        vertical-align: middle;\n",
       "    }\n",
       "\n",
       "    .dataframe tbody tr th {\n",
       "        vertical-align: top;\n",
       "    }\n",
       "\n",
       "    .dataframe thead th {\n",
       "        text-align: right;\n",
       "    }\n",
       "</style>\n",
       "<table border=\"1\" class=\"dataframe\">\n",
       "  <thead>\n",
       "    <tr style=\"text-align: right;\">\n",
       "      <th></th>\n",
       "      <th>title</th>\n",
       "      <th>imdb_rating</th>\n",
       "      <th>imdb_votes</th>\n",
       "      <th>tmdb_rating</th>\n",
       "      <th>tmdb_votes</th>\n",
       "      <th>tmdb_popularity</th>\n",
       "      <th>total_gross</th>\n",
       "      <th>production_budget</th>\n",
       "      <th>roi</th>\n",
       "    </tr>\n",
       "  </thead>\n",
       "  <tbody>\n",
       "    <tr>\n",
       "      <th>0</th>\n",
       "      <td>Just Inès</td>\n",
       "      <td>6.4</td>\n",
       "      <td>20</td>\n",
       "      <td>NaN</td>\n",
       "      <td>NaN</td>\n",
       "      <td>NaN</td>\n",
       "      <td>NaN</td>\n",
       "      <td>NaN</td>\n",
       "      <td>NaN</td>\n",
       "    </tr>\n",
       "    <tr>\n",
       "      <th>1</th>\n",
       "      <td>Samo Ines</td>\n",
       "      <td>6.4</td>\n",
       "      <td>20</td>\n",
       "      <td>NaN</td>\n",
       "      <td>NaN</td>\n",
       "      <td>NaN</td>\n",
       "      <td>NaN</td>\n",
       "      <td>NaN</td>\n",
       "      <td>NaN</td>\n",
       "    </tr>\n",
       "    <tr>\n",
       "      <th>2</th>\n",
       "      <td>Just Inès</td>\n",
       "      <td>6.4</td>\n",
       "      <td>20</td>\n",
       "      <td>NaN</td>\n",
       "      <td>NaN</td>\n",
       "      <td>NaN</td>\n",
       "      <td>NaN</td>\n",
       "      <td>NaN</td>\n",
       "      <td>NaN</td>\n",
       "    </tr>\n",
       "    <tr>\n",
       "      <th>3</th>\n",
       "      <td>The Legend of Hercules</td>\n",
       "      <td>4.2</td>\n",
       "      <td>50352</td>\n",
       "      <td>4.5</td>\n",
       "      <td>805.0</td>\n",
       "      <td>13.754</td>\n",
       "      <td>77801857.0</td>\n",
       "      <td>70000000.0</td>\n",
       "      <td>11.15</td>\n",
       "    </tr>\n",
       "    <tr>\n",
       "      <th>4</th>\n",
       "      <td>Hércules - A Lenda Começa</td>\n",
       "      <td>4.2</td>\n",
       "      <td>50352</td>\n",
       "      <td>NaN</td>\n",
       "      <td>NaN</td>\n",
       "      <td>NaN</td>\n",
       "      <td>NaN</td>\n",
       "      <td>NaN</td>\n",
       "      <td>NaN</td>\n",
       "    </tr>\n",
       "  </tbody>\n",
       "</table>\n",
       "</div>"
      ],
      "text/plain": [
       "                       title  imdb_rating  imdb_votes  tmdb_rating  \\\n",
       "0                  Just Inès          6.4          20          NaN   \n",
       "1                  Samo Ines          6.4          20          NaN   \n",
       "2                  Just Inès          6.4          20          NaN   \n",
       "3     The Legend of Hercules          4.2       50352          4.5   \n",
       "4  Hércules - A Lenda Começa          4.2       50352          NaN   \n",
       "\n",
       "   tmdb_votes  tmdb_popularity  total_gross  production_budget    roi  \n",
       "0         NaN              NaN          NaN                NaN    NaN  \n",
       "1         NaN              NaN          NaN                NaN    NaN  \n",
       "2         NaN              NaN          NaN                NaN    NaN  \n",
       "3       805.0           13.754   77801857.0         70000000.0  11.15  \n",
       "4         NaN              NaN          NaN                NaN    NaN  "
      ]
     },
     "execution_count": 121,
     "metadata": {},
     "output_type": "execute_result"
    }
   ],
   "source": [
    "# To retain as much info as possible, joined imdb_ratings with title table rather than title_basics\n",
    "imdb = imdb_raw.merge(titles_raw,left_on ='tconst', right_on ='title_id')\n",
    "imdb.rename(columns ={'averagerating':'imdb_rating', 'numvotes': 'imdb_votes'}, inplace=True)\n",
    "imdb = imdb[['title', 'imdb_rating', 'imdb_votes' ]]\n",
    "ratings = imdb.merge(tmdb, on='title', how='left')\n",
    "ratings.head()"
   ]
  },
  {
   "cell_type": "markdown",
   "metadata": {},
   "source": [
    "# Final Music X IMDB X TMDB X Revenue Table"
   ]
  },
  {
   "cell_type": "code",
   "execution_count": 196,
   "metadata": {},
   "outputs": [],
   "source": [
    "final_music = music_df.merge(ratings, on='title', how='inner')\n"
   ]
  },
  {
   "cell_type": "code",
   "execution_count": 197,
   "metadata": {},
   "outputs": [
    {
     "data": {
      "text/html": [
       "<div>\n",
       "<style scoped>\n",
       "    .dataframe tbody tr th:only-of-type {\n",
       "        vertical-align: middle;\n",
       "    }\n",
       "\n",
       "    .dataframe tbody tr th {\n",
       "        vertical-align: top;\n",
       "    }\n",
       "\n",
       "    .dataframe thead th {\n",
       "        text-align: right;\n",
       "    }\n",
       "</style>\n",
       "<table border=\"1\" class=\"dataframe\">\n",
       "  <thead>\n",
       "    <tr style=\"text-align: right;\">\n",
       "      <th></th>\n",
       "      <th>title</th>\n",
       "      <th>composer</th>\n",
       "      <th>music_rating</th>\n",
       "      <th>imdb_rating</th>\n",
       "      <th>imdb_votes</th>\n",
       "      <th>tmdb_rating</th>\n",
       "      <th>tmdb_votes</th>\n",
       "      <th>tmdb_popularity</th>\n",
       "      <th>total_gross</th>\n",
       "      <th>production_budget</th>\n",
       "      <th>roi</th>\n",
       "    </tr>\n",
       "  </thead>\n",
       "  <tbody>\n",
       "    <tr>\n",
       "      <th>0</th>\n",
       "      <td>10 Cloverfield Lane</td>\n",
       "      <td>Bear McCreary</td>\n",
       "      <td>4.0</td>\n",
       "      <td>7.2</td>\n",
       "      <td>260383</td>\n",
       "      <td>6.9</td>\n",
       "      <td>4629.0</td>\n",
       "      <td>17.892</td>\n",
       "      <td>1.803694e+08</td>\n",
       "      <td>5000000.0</td>\n",
       "      <td>3507.39</td>\n",
       "    </tr>\n",
       "    <tr>\n",
       "      <th>1</th>\n",
       "      <td>10 Cloverfield Lane</td>\n",
       "      <td>Bear McCreary</td>\n",
       "      <td>4.0</td>\n",
       "      <td>7.2</td>\n",
       "      <td>260383</td>\n",
       "      <td>6.9</td>\n",
       "      <td>4629.0</td>\n",
       "      <td>17.892</td>\n",
       "      <td>1.803694e+08</td>\n",
       "      <td>5000000.0</td>\n",
       "      <td>3507.39</td>\n",
       "    </tr>\n",
       "    <tr>\n",
       "      <th>2</th>\n",
       "      <td>10 Cloverfield Lane</td>\n",
       "      <td>Bear McCreary</td>\n",
       "      <td>4.0</td>\n",
       "      <td>7.2</td>\n",
       "      <td>260383</td>\n",
       "      <td>6.9</td>\n",
       "      <td>4629.0</td>\n",
       "      <td>17.892</td>\n",
       "      <td>1.803694e+08</td>\n",
       "      <td>5000000.0</td>\n",
       "      <td>3507.39</td>\n",
       "    </tr>\n",
       "    <tr>\n",
       "      <th>3</th>\n",
       "      <td>10 Cloverfield Lane</td>\n",
       "      <td>Bear McCreary</td>\n",
       "      <td>4.0</td>\n",
       "      <td>7.2</td>\n",
       "      <td>260383</td>\n",
       "      <td>6.9</td>\n",
       "      <td>4629.0</td>\n",
       "      <td>17.892</td>\n",
       "      <td>1.803694e+08</td>\n",
       "      <td>5000000.0</td>\n",
       "      <td>3507.39</td>\n",
       "    </tr>\n",
       "    <tr>\n",
       "      <th>4</th>\n",
       "      <td>10 Cloverfield Lane</td>\n",
       "      <td>Bear McCreary</td>\n",
       "      <td>4.0</td>\n",
       "      <td>7.2</td>\n",
       "      <td>260383</td>\n",
       "      <td>6.9</td>\n",
       "      <td>4629.0</td>\n",
       "      <td>17.892</td>\n",
       "      <td>1.803694e+08</td>\n",
       "      <td>5000000.0</td>\n",
       "      <td>3507.39</td>\n",
       "    </tr>\n",
       "    <tr>\n",
       "      <th>...</th>\n",
       "      <td>...</td>\n",
       "      <td>...</td>\n",
       "      <td>...</td>\n",
       "      <td>...</td>\n",
       "      <td>...</td>\n",
       "      <td>...</td>\n",
       "      <td>...</td>\n",
       "      <td>...</td>\n",
       "      <td>...</td>\n",
       "      <td>...</td>\n",
       "      <td>...</td>\n",
       "    </tr>\n",
       "    <tr>\n",
       "      <th>4487</th>\n",
       "      <td>Zootopia</td>\n",
       "      <td>Michael Giacchino</td>\n",
       "      <td>2.0</td>\n",
       "      <td>8.0</td>\n",
       "      <td>383446</td>\n",
       "      <td>7.7</td>\n",
       "      <td>9977.0</td>\n",
       "      <td>27.549</td>\n",
       "      <td>1.360698e+09</td>\n",
       "      <td>150000000.0</td>\n",
       "      <td>807.13</td>\n",
       "    </tr>\n",
       "    <tr>\n",
       "      <th>4488</th>\n",
       "      <td>Zootopia</td>\n",
       "      <td>Michael Giacchino</td>\n",
       "      <td>2.0</td>\n",
       "      <td>8.0</td>\n",
       "      <td>383446</td>\n",
       "      <td>7.7</td>\n",
       "      <td>9977.0</td>\n",
       "      <td>27.549</td>\n",
       "      <td>1.360698e+09</td>\n",
       "      <td>150000000.0</td>\n",
       "      <td>807.13</td>\n",
       "    </tr>\n",
       "    <tr>\n",
       "      <th>4489</th>\n",
       "      <td>Zootopia</td>\n",
       "      <td>Michael Giacchino</td>\n",
       "      <td>2.0</td>\n",
       "      <td>8.0</td>\n",
       "      <td>383446</td>\n",
       "      <td>7.7</td>\n",
       "      <td>9977.0</td>\n",
       "      <td>27.549</td>\n",
       "      <td>1.360698e+09</td>\n",
       "      <td>150000000.0</td>\n",
       "      <td>807.13</td>\n",
       "    </tr>\n",
       "    <tr>\n",
       "      <th>4490</th>\n",
       "      <td>Zootopia</td>\n",
       "      <td>Michael Giacchino</td>\n",
       "      <td>2.0</td>\n",
       "      <td>8.0</td>\n",
       "      <td>383446</td>\n",
       "      <td>7.7</td>\n",
       "      <td>9977.0</td>\n",
       "      <td>27.549</td>\n",
       "      <td>1.360698e+09</td>\n",
       "      <td>150000000.0</td>\n",
       "      <td>807.13</td>\n",
       "    </tr>\n",
       "    <tr>\n",
       "      <th>4491</th>\n",
       "      <td>Zootopia</td>\n",
       "      <td>Michael Giacchino</td>\n",
       "      <td>2.0</td>\n",
       "      <td>8.0</td>\n",
       "      <td>383446</td>\n",
       "      <td>7.7</td>\n",
       "      <td>9977.0</td>\n",
       "      <td>27.549</td>\n",
       "      <td>1.360698e+09</td>\n",
       "      <td>150000000.0</td>\n",
       "      <td>807.13</td>\n",
       "    </tr>\n",
       "  </tbody>\n",
       "</table>\n",
       "<p>4492 rows × 11 columns</p>\n",
       "</div>"
      ],
      "text/plain": [
       "                    title             composer  music_rating  imdb_rating  \\\n",
       "0     10 Cloverfield Lane       Bear McCreary            4.0          7.2   \n",
       "1     10 Cloverfield Lane       Bear McCreary            4.0          7.2   \n",
       "2     10 Cloverfield Lane       Bear McCreary            4.0          7.2   \n",
       "3     10 Cloverfield Lane       Bear McCreary            4.0          7.2   \n",
       "4     10 Cloverfield Lane       Bear McCreary            4.0          7.2   \n",
       "...                   ...                  ...           ...          ...   \n",
       "4487             Zootopia   Michael Giacchino            2.0          8.0   \n",
       "4488             Zootopia   Michael Giacchino            2.0          8.0   \n",
       "4489             Zootopia   Michael Giacchino            2.0          8.0   \n",
       "4490             Zootopia   Michael Giacchino            2.0          8.0   \n",
       "4491             Zootopia   Michael Giacchino            2.0          8.0   \n",
       "\n",
       "      imdb_votes  tmdb_rating  tmdb_votes  tmdb_popularity   total_gross  \\\n",
       "0         260383          6.9      4629.0           17.892  1.803694e+08   \n",
       "1         260383          6.9      4629.0           17.892  1.803694e+08   \n",
       "2         260383          6.9      4629.0           17.892  1.803694e+08   \n",
       "3         260383          6.9      4629.0           17.892  1.803694e+08   \n",
       "4         260383          6.9      4629.0           17.892  1.803694e+08   \n",
       "...          ...          ...         ...              ...           ...   \n",
       "4487      383446          7.7      9977.0           27.549  1.360698e+09   \n",
       "4488      383446          7.7      9977.0           27.549  1.360698e+09   \n",
       "4489      383446          7.7      9977.0           27.549  1.360698e+09   \n",
       "4490      383446          7.7      9977.0           27.549  1.360698e+09   \n",
       "4491      383446          7.7      9977.0           27.549  1.360698e+09   \n",
       "\n",
       "      production_budget      roi  \n",
       "0             5000000.0  3507.39  \n",
       "1             5000000.0  3507.39  \n",
       "2             5000000.0  3507.39  \n",
       "3             5000000.0  3507.39  \n",
       "4             5000000.0  3507.39  \n",
       "...                 ...      ...  \n",
       "4487        150000000.0   807.13  \n",
       "4488        150000000.0   807.13  \n",
       "4489        150000000.0   807.13  \n",
       "4490        150000000.0   807.13  \n",
       "4491        150000000.0   807.13  \n",
       "\n",
       "[4492 rows x 11 columns]"
      ]
     },
     "execution_count": 197,
     "metadata": {},
     "output_type": "execute_result"
    }
   ],
   "source": [
    "final_music"
   ]
  },
  {
   "cell_type": "code",
   "execution_count": 198,
   "metadata": {},
   "outputs": [
    {
     "data": {
      "text/plain": [
       "title                   0\n",
       "composer                0\n",
       "music_rating           84\n",
       "imdb_rating             0\n",
       "imdb_votes              0\n",
       "tmdb_rating           558\n",
       "tmdb_votes            558\n",
       "tmdb_popularity       558\n",
       "total_gross          1193\n",
       "production_budget    1401\n",
       "roi                  1401\n",
       "dtype: int64"
      ]
     },
     "execution_count": 198,
     "metadata": {},
     "output_type": "execute_result"
    }
   ],
   "source": [
    "final_music.isnull().sum()"
   ]
  },
  {
   "cell_type": "markdown",
   "metadata": {},
   "source": [
    "\n",
    "## Movie ROI's by Genre"
   ]
  },
  {
   "cell_type": "code",
   "execution_count": 14,
   "metadata": {},
   "outputs": [],
   "source": [
    "gross = pd.read_csv('zippedData/tn.movie_budgets.csv.gz')"
   ]
  },
  {
   "cell_type": "markdown",
   "metadata": {},
   "source": [
    "### Clean data and Computer ROI"
   ]
  },
  {
   "cell_type": "code",
   "execution_count": 15,
   "metadata": {},
   "outputs": [],
   "source": [
    "gross['year'] = gross['release_date'].str[-4:].astype(float)\n",
    "gross['domestic_gross'] = gross['domestic_gross'].str.replace(',', '')\n",
    "gross['domestic_gross'] = gross['domestic_gross'].str.replace('$', '').astype(float)\n",
    "gross['production_budget'] = gross['production_budget'].str.replace(',', '')\n",
    "gross['production_budget'] = gross['production_budget'].str.replace('$', '').astype(float)\n",
    "gross['worldwide_gross'] = gross['worldwide_gross'].str.replace(',', '')\n",
    "gross['worldwide_gross'] = gross['worldwide_gross'].str.replace('$', '').astype(float)"
   ]
  },
  {
   "cell_type": "code",
   "execution_count": 16,
   "metadata": {},
   "outputs": [],
   "source": [
    "gross['ROI'] = (((gross['worldwide_gross'] - gross['production_budget']) / gross['production_budget'] ) * 100)"
   ]
  },
  {
   "cell_type": "code",
   "execution_count": 17,
   "metadata": {},
   "outputs": [],
   "source": [
    "gross.rename(columns = {'movie': 'original_title'}, inplace=True)"
   ]
  },
  {
   "cell_type": "code",
   "execution_count": 18,
   "metadata": {},
   "outputs": [
    {
     "data": {
      "text/html": [
       "<div>\n",
       "<style scoped>\n",
       "    .dataframe tbody tr th:only-of-type {\n",
       "        vertical-align: middle;\n",
       "    }\n",
       "\n",
       "    .dataframe tbody tr th {\n",
       "        vertical-align: top;\n",
       "    }\n",
       "\n",
       "    .dataframe thead th {\n",
       "        text-align: right;\n",
       "    }\n",
       "</style>\n",
       "<table border=\"1\" class=\"dataframe\">\n",
       "  <thead>\n",
       "    <tr style=\"text-align: right;\">\n",
       "      <th></th>\n",
       "      <th>id</th>\n",
       "      <th>release_date</th>\n",
       "      <th>production_budget</th>\n",
       "      <th>domestic_gross</th>\n",
       "      <th>worldwide_gross</th>\n",
       "      <th>year</th>\n",
       "      <th>ROI</th>\n",
       "    </tr>\n",
       "    <tr>\n",
       "      <th>original_title</th>\n",
       "      <th></th>\n",
       "      <th></th>\n",
       "      <th></th>\n",
       "      <th></th>\n",
       "      <th></th>\n",
       "      <th></th>\n",
       "      <th></th>\n",
       "    </tr>\n",
       "  </thead>\n",
       "  <tbody>\n",
       "    <tr>\n",
       "      <th>Avatar</th>\n",
       "      <td>1</td>\n",
       "      <td>Dec 18, 2009</td>\n",
       "      <td>425000000.0</td>\n",
       "      <td>760507625.0</td>\n",
       "      <td>2.776345e+09</td>\n",
       "      <td>2009.0</td>\n",
       "      <td>553.257713</td>\n",
       "    </tr>\n",
       "    <tr>\n",
       "      <th>Pirates of the Caribbean: On Stranger Tides</th>\n",
       "      <td>2</td>\n",
       "      <td>May 20, 2011</td>\n",
       "      <td>410600000.0</td>\n",
       "      <td>241063875.0</td>\n",
       "      <td>1.045664e+09</td>\n",
       "      <td>2011.0</td>\n",
       "      <td>154.667286</td>\n",
       "    </tr>\n",
       "    <tr>\n",
       "      <th>Dark Phoenix</th>\n",
       "      <td>3</td>\n",
       "      <td>Jun 7, 2019</td>\n",
       "      <td>350000000.0</td>\n",
       "      <td>42762350.0</td>\n",
       "      <td>1.497624e+08</td>\n",
       "      <td>2019.0</td>\n",
       "      <td>-57.210757</td>\n",
       "    </tr>\n",
       "    <tr>\n",
       "      <th>Avengers: Age of Ultron</th>\n",
       "      <td>4</td>\n",
       "      <td>May 1, 2015</td>\n",
       "      <td>330600000.0</td>\n",
       "      <td>459005868.0</td>\n",
       "      <td>1.403014e+09</td>\n",
       "      <td>2015.0</td>\n",
       "      <td>324.384139</td>\n",
       "    </tr>\n",
       "    <tr>\n",
       "      <th>Star Wars Ep. VIII: The Last Jedi</th>\n",
       "      <td>5</td>\n",
       "      <td>Dec 15, 2017</td>\n",
       "      <td>317000000.0</td>\n",
       "      <td>620181382.0</td>\n",
       "      <td>1.316722e+09</td>\n",
       "      <td>2017.0</td>\n",
       "      <td>315.369636</td>\n",
       "    </tr>\n",
       "    <tr>\n",
       "      <th>...</th>\n",
       "      <td>...</td>\n",
       "      <td>...</td>\n",
       "      <td>...</td>\n",
       "      <td>...</td>\n",
       "      <td>...</td>\n",
       "      <td>...</td>\n",
       "      <td>...</td>\n",
       "    </tr>\n",
       "    <tr>\n",
       "      <th>Red 11</th>\n",
       "      <td>78</td>\n",
       "      <td>Dec 31, 2018</td>\n",
       "      <td>7000.0</td>\n",
       "      <td>0.0</td>\n",
       "      <td>0.000000e+00</td>\n",
       "      <td>2018.0</td>\n",
       "      <td>-100.000000</td>\n",
       "    </tr>\n",
       "    <tr>\n",
       "      <th>Following</th>\n",
       "      <td>79</td>\n",
       "      <td>Apr 2, 1999</td>\n",
       "      <td>6000.0</td>\n",
       "      <td>48482.0</td>\n",
       "      <td>2.404950e+05</td>\n",
       "      <td>1999.0</td>\n",
       "      <td>3908.250000</td>\n",
       "    </tr>\n",
       "    <tr>\n",
       "      <th>Return to the Land of Wonders</th>\n",
       "      <td>80</td>\n",
       "      <td>Jul 13, 2005</td>\n",
       "      <td>5000.0</td>\n",
       "      <td>1338.0</td>\n",
       "      <td>1.338000e+03</td>\n",
       "      <td>2005.0</td>\n",
       "      <td>-73.240000</td>\n",
       "    </tr>\n",
       "    <tr>\n",
       "      <th>A Plague So Pleasant</th>\n",
       "      <td>81</td>\n",
       "      <td>Sep 29, 2015</td>\n",
       "      <td>1400.0</td>\n",
       "      <td>0.0</td>\n",
       "      <td>0.000000e+00</td>\n",
       "      <td>2015.0</td>\n",
       "      <td>-100.000000</td>\n",
       "    </tr>\n",
       "    <tr>\n",
       "      <th>My Date With Drew</th>\n",
       "      <td>82</td>\n",
       "      <td>Aug 5, 2005</td>\n",
       "      <td>1100.0</td>\n",
       "      <td>181041.0</td>\n",
       "      <td>1.810410e+05</td>\n",
       "      <td>2005.0</td>\n",
       "      <td>16358.272727</td>\n",
       "    </tr>\n",
       "  </tbody>\n",
       "</table>\n",
       "<p>5782 rows × 7 columns</p>\n",
       "</div>"
      ],
      "text/plain": [
       "                                             id  release_date  \\\n",
       "original_title                                                  \n",
       "Avatar                                        1  Dec 18, 2009   \n",
       "Pirates of the Caribbean: On Stranger Tides   2  May 20, 2011   \n",
       "Dark Phoenix                                  3   Jun 7, 2019   \n",
       "Avengers: Age of Ultron                       4   May 1, 2015   \n",
       "Star Wars Ep. VIII: The Last Jedi             5  Dec 15, 2017   \n",
       "...                                          ..           ...   \n",
       "Red 11                                       78  Dec 31, 2018   \n",
       "Following                                    79   Apr 2, 1999   \n",
       "Return to the Land of Wonders                80  Jul 13, 2005   \n",
       "A Plague So Pleasant                         81  Sep 29, 2015   \n",
       "My Date With Drew                            82   Aug 5, 2005   \n",
       "\n",
       "                                             production_budget  \\\n",
       "original_title                                                   \n",
       "Avatar                                             425000000.0   \n",
       "Pirates of the Caribbean: On Stranger Tides        410600000.0   \n",
       "Dark Phoenix                                       350000000.0   \n",
       "Avengers: Age of Ultron                            330600000.0   \n",
       "Star Wars Ep. VIII: The Last Jedi                  317000000.0   \n",
       "...                                                        ...   \n",
       "Red 11                                                  7000.0   \n",
       "Following                                               6000.0   \n",
       "Return to the Land of Wonders                           5000.0   \n",
       "A Plague So Pleasant                                    1400.0   \n",
       "My Date With Drew                                       1100.0   \n",
       "\n",
       "                                             domestic_gross  worldwide_gross  \\\n",
       "original_title                                                                 \n",
       "Avatar                                          760507625.0     2.776345e+09   \n",
       "Pirates of the Caribbean: On Stranger Tides     241063875.0     1.045664e+09   \n",
       "Dark Phoenix                                     42762350.0     1.497624e+08   \n",
       "Avengers: Age of Ultron                         459005868.0     1.403014e+09   \n",
       "Star Wars Ep. VIII: The Last Jedi               620181382.0     1.316722e+09   \n",
       "...                                                     ...              ...   \n",
       "Red 11                                                  0.0     0.000000e+00   \n",
       "Following                                           48482.0     2.404950e+05   \n",
       "Return to the Land of Wonders                        1338.0     1.338000e+03   \n",
       "A Plague So Pleasant                                    0.0     0.000000e+00   \n",
       "My Date With Drew                                  181041.0     1.810410e+05   \n",
       "\n",
       "                                               year           ROI  \n",
       "original_title                                                     \n",
       "Avatar                                       2009.0    553.257713  \n",
       "Pirates of the Caribbean: On Stranger Tides  2011.0    154.667286  \n",
       "Dark Phoenix                                 2019.0    -57.210757  \n",
       "Avengers: Age of Ultron                      2015.0    324.384139  \n",
       "Star Wars Ep. VIII: The Last Jedi            2017.0    315.369636  \n",
       "...                                             ...           ...  \n",
       "Red 11                                       2018.0   -100.000000  \n",
       "Following                                    1999.0   3908.250000  \n",
       "Return to the Land of Wonders                2005.0    -73.240000  \n",
       "A Plague So Pleasant                         2015.0   -100.000000  \n",
       "My Date With Drew                            2005.0  16358.272727  \n",
       "\n",
       "[5782 rows x 7 columns]"
      ]
     },
     "execution_count": 18,
     "metadata": {},
     "output_type": "execute_result"
    }
   ],
   "source": [
    "gross.set_index('original_title')"
   ]
  },
  {
   "cell_type": "markdown",
   "metadata": {},
   "source": [
    "### Stack Genre DataFrame and Merge with Financial Data"
   ]
  },
  {
   "cell_type": "code",
   "execution_count": 20,
   "metadata": {},
   "outputs": [],
   "source": [
    "genre_raw = pd.read_csv('./zippedData/imdb.title.basics.csv.gz')\n",
    "genre_raw\n",
    "\n",
    "genre_ugly = genre_raw\n",
    "genre_ugly['genres'] = genre_ugly['genres'].str.split(',', 3)\n",
    "genre_unstack = genre_ugly.set_index('original_title').genres.apply(pd.Series).stack().reset_index(level=-1, drop=True).astype(str).reset_index()\n",
    "genre_unstack.columns = ['original_title', 'genres']"
   ]
  },
  {
   "cell_type": "code",
   "execution_count": 21,
   "metadata": {},
   "outputs": [],
   "source": [
    "genre_roi = genre_unstack.merge(gross[['original_title', 'ROI']], on='original_title', how='left')"
   ]
  },
  {
   "cell_type": "code",
   "execution_count": 22,
   "metadata": {},
   "outputs": [],
   "source": [
    "genre_roi.dropna(axis = 0, inplace = True)"
   ]
  },
  {
   "cell_type": "markdown",
   "metadata": {},
   "source": [
    "### Bar Chart Displaying Musicals Having Highest Average ROI"
   ]
  },
  {
   "cell_type": "code",
   "execution_count": 143,
   "metadata": {},
   "outputs": [
    {
     "data": {
      "image/png": "[encoded data removed]",
      "text/plain": [
       "<Figure size 1080x504 with 1 Axes>"
      ]
     },
     "metadata": {
      "needs_background": "light"
     },
     "output_type": "display_data"
    }
   ],
   "source": [
    "y = genre_roi.groupby(['genres'])['ROI'].mean()\n",
    "x = y.index\n",
    "\n",
    "figure, ax = plt.subplots(figsize = (15,7))\n",
    "\n",
    "ax.set_title('Average ROI For Movie Genres')\n",
    "ax.set_xlabel('Genre')\n",
    "ax.set_ylabel('ROI (percentage)')\n",
    "\n",
    "plt.xticks(rotation=90)\n",
    "\n",
    "ax.bar(x, y, color='green');"
   ]
  },
  {
   "cell_type": "markdown",
   "metadata": {},
   "source": [
    "##### Musicals have the highest ROI ----- notes -------- look for what composers are for what musicals"
   ]
  },
  {
   "cell_type": "code",
   "execution_count": null,
   "metadata": {},
   "outputs": [],
   "source": []
  },
  {
   "cell_type": "code",
   "execution_count": null,
   "metadata": {},
   "outputs": [],
   "source": []
  },
  {
   "cell_type": "markdown",
   "metadata": {},
   "source": [
    "## Compiling for Composer Dataframe"
   ]
  },
  {
   "cell_type": "markdown",
   "metadata": {},
   "source": [
    "### Stack Column Listing Movie IDs for Each Crew Member"
   ]
  },
  {
   "cell_type": "code",
   "execution_count": 8,
   "metadata": {},
   "outputs": [],
   "source": [
    "crew_raw = pd.read_csv('./zippedData/imdb.title.crew.csv.gz')\n",
    "crew_raw\n",
    "\n",
    "crew = crew_raw\n",
    "crew['directors'] = crew['directors'].str.split(',', 5)\n",
    "crew_unstack = crew.set_index('tconst').directors.apply(pd.Series).stack().reset_index(level=-1, drop=True).astype(str).reset_index()\n",
    "crew_unstack.columns = ['tconst', 'id']"
   ]
  },
  {
   "cell_type": "markdown",
   "metadata": {},
   "source": [
    "### Stack Column Listing Roles a Crew Member Held in Production"
   ]
  },
  {
   "cell_type": "code",
   "execution_count": 9,
   "metadata": {},
   "outputs": [],
   "source": [
    "name_basics_raw = pd.read_csv('./zippedData/imdb.name.basics.csv.gz')\n",
    "name_basics_raw.rename(columns = {'nconst' : 'directors', 'title_id':'tconst'}, inplace=True)\n",
    "name_basics_raw\n",
    "\n",
    "name_basics = name_basics_raw\n",
    "name_basics['primary_profession'] = name_basics['primary_profession'].str.split(',', 5)\n",
    "name_basics_unstack = name_basics.set_index('directors').primary_profession.apply(pd.Series).stack().reset_index(level=-1, drop=True).astype(str).reset_index()"
   ]
  },
  {
   "cell_type": "code",
   "execution_count": 10,
   "metadata": {},
   "outputs": [],
   "source": [
    "name_basics_unstack.columns = ['id', 'job_title']"
   ]
  },
  {
   "cell_type": "code",
   "execution_count": 11,
   "metadata": {},
   "outputs": [],
   "source": [
    "name_basics.rename(columns={'directors':'id'}, inplace=True)"
   ]
  },
  {
   "cell_type": "markdown",
   "metadata": {},
   "source": [
    "#### Pulling in Data and Matching indices to Merge"
   ]
  },
  {
   "cell_type": "code",
   "execution_count": 12,
   "metadata": {},
   "outputs": [],
   "source": [
    "titles_raw = pd.read_csv('./zippedData/imdb.title.akas.csv.gz')\n",
    "titles_raw.rename(columns = {'title_id':'tconst', 'title' : 'original_title'}, inplace=True)"
   ]
  },
  {
   "cell_type": "code",
   "execution_count": 23,
   "metadata": {},
   "outputs": [],
   "source": [
    "roi_with_title = genre_roi.merge(titles_raw[['original_title', 'tconst']], on='original_title', how='inner')\n",
    "roi_with_title.drop_duplicates(inplace=True)"
   ]
  },
  {
   "cell_type": "code",
   "execution_count": 24,
   "metadata": {},
   "outputs": [],
   "source": [
    "composer = name_basics_unstack[name_basics_unstack['job_title'] == 'composer']"
   ]
  },
  {
   "cell_type": "code",
   "execution_count": 25,
   "metadata": {},
   "outputs": [],
   "source": [
    "composers = crew_unstack.merge(composer[['id', 'job_title']], on='id', how='left')\n",
    "composers.dropna(inplace=True)\n",
    "composers.set_index('id', inplace=True)"
   ]
  },
  {
   "cell_type": "code",
   "execution_count": 26,
   "metadata": {},
   "outputs": [],
   "source": [
    "composers_names = composer.merge(name_basics[['id', 'primary_name']], on='id', how='left')"
   ]
  },
  {
   "cell_type": "code",
   "execution_count": 27,
   "metadata": {},
   "outputs": [
    {
     "data": {
      "text/html": [
       "<div>\n",
       "<style scoped>\n",
       "    .dataframe tbody tr th:only-of-type {\n",
       "        vertical-align: middle;\n",
       "    }\n",
       "\n",
       "    .dataframe tbody tr th {\n",
       "        vertical-align: top;\n",
       "    }\n",
       "\n",
       "    .dataframe thead th {\n",
       "        text-align: right;\n",
       "    }\n",
       "</style>\n",
       "<table border=\"1\" class=\"dataframe\">\n",
       "  <thead>\n",
       "    <tr style=\"text-align: right;\">\n",
       "      <th></th>\n",
       "      <th>id</th>\n",
       "      <th>job_title</th>\n",
       "    </tr>\n",
       "    <tr>\n",
       "      <th>primary_name</th>\n",
       "      <th></th>\n",
       "      <th></th>\n",
       "    </tr>\n",
       "  </thead>\n",
       "  <tbody>\n",
       "    <tr>\n",
       "      <th>Joseph Bauer</th>\n",
       "      <td>nm0061865</td>\n",
       "      <td>composer</td>\n",
       "    </tr>\n",
       "    <tr>\n",
       "      <th>Stevie Be-Zet</th>\n",
       "      <td>nm0063432</td>\n",
       "      <td>composer</td>\n",
       "    </tr>\n",
       "    <tr>\n",
       "      <th>Jeff Beal</th>\n",
       "      <td>nm0063618</td>\n",
       "      <td>composer</td>\n",
       "    </tr>\n",
       "    <tr>\n",
       "      <th>Gavin Bellour</th>\n",
       "      <td>nm0069225</td>\n",
       "      <td>composer</td>\n",
       "    </tr>\n",
       "    <tr>\n",
       "      <th>Jorge Ben Jor</th>\n",
       "      <td>nm0069990</td>\n",
       "      <td>composer</td>\n",
       "    </tr>\n",
       "    <tr>\n",
       "      <th>...</th>\n",
       "      <td>...</td>\n",
       "      <td>...</td>\n",
       "    </tr>\n",
       "    <tr>\n",
       "      <th>Oscar Martorell</th>\n",
       "      <td>nm9786484</td>\n",
       "      <td>composer</td>\n",
       "    </tr>\n",
       "    <tr>\n",
       "      <th>Shine Issai</th>\n",
       "      <td>nm9927305</td>\n",
       "      <td>composer</td>\n",
       "    </tr>\n",
       "    <tr>\n",
       "      <th>Ifthi</th>\n",
       "      <td>nm9942831</td>\n",
       "      <td>composer</td>\n",
       "    </tr>\n",
       "    <tr>\n",
       "      <th>Arkadiusz Grochowski</th>\n",
       "      <td>nm9951337</td>\n",
       "      <td>composer</td>\n",
       "    </tr>\n",
       "    <tr>\n",
       "      <th>Robert Jones</th>\n",
       "      <td>nm9969409</td>\n",
       "      <td>composer</td>\n",
       "    </tr>\n",
       "  </tbody>\n",
       "</table>\n",
       "<p>48823 rows × 2 columns</p>\n",
       "</div>"
      ],
      "text/plain": [
       "                             id job_title\n",
       "primary_name                             \n",
       "Joseph Bauer          nm0061865  composer\n",
       "Stevie Be-Zet         nm0063432  composer\n",
       "Jeff Beal             nm0063618  composer\n",
       "Gavin Bellour         nm0069225  composer\n",
       "Jorge Ben Jor         nm0069990  composer\n",
       "...                         ...       ...\n",
       "Oscar Martorell       nm9786484  composer\n",
       "Shine Issai           nm9927305  composer\n",
       "Ifthi                 nm9942831  composer\n",
       "Arkadiusz Grochowski  nm9951337  composer\n",
       "Robert Jones          nm9969409  composer\n",
       "\n",
       "[48823 rows x 2 columns]"
      ]
     },
     "execution_count": 27,
     "metadata": {},
     "output_type": "execute_result"
    }
   ],
   "source": [
    "composers_names.set_index('primary_name')"
   ]
  },
  {
   "cell_type": "code",
   "execution_count": 28,
   "metadata": {},
   "outputs": [],
   "source": [
    "crew = crew_unstack.merge(name_basics_raw[['id', 'primary_name']], on='id', how='left')"
   ]
  },
  {
   "cell_type": "code",
   "execution_count": 29,
   "metadata": {},
   "outputs": [
    {
     "data": {
      "text/html": [
       "<div>\n",
       "<style scoped>\n",
       "    .dataframe tbody tr th:only-of-type {\n",
       "        vertical-align: middle;\n",
       "    }\n",
       "\n",
       "    .dataframe tbody tr th {\n",
       "        vertical-align: top;\n",
       "    }\n",
       "\n",
       "    .dataframe thead th {\n",
       "        text-align: right;\n",
       "    }\n",
       "</style>\n",
       "<table border=\"1\" class=\"dataframe\">\n",
       "  <thead>\n",
       "    <tr style=\"text-align: right;\">\n",
       "      <th></th>\n",
       "      <th>original_title</th>\n",
       "      <th>genres</th>\n",
       "      <th>ROI</th>\n",
       "      <th>tconst</th>\n",
       "    </tr>\n",
       "    <tr>\n",
       "      <th>primary_name</th>\n",
       "      <th></th>\n",
       "      <th></th>\n",
       "      <th></th>\n",
       "      <th></th>\n",
       "    </tr>\n",
       "  </thead>\n",
       "  <tbody>\n",
       "    <tr>\n",
       "      <th>Lawrence Kasanoff</th>\n",
       "      <td>Foodfight!</td>\n",
       "      <td>Action</td>\n",
       "      <td>-99.836209</td>\n",
       "      <td>tt0249516</td>\n",
       "    </tr>\n",
       "    <tr>\n",
       "      <th>Lawrence Kasanoff</th>\n",
       "      <td>Foodfight!</td>\n",
       "      <td>Animation</td>\n",
       "      <td>-99.836209</td>\n",
       "      <td>tt0249516</td>\n",
       "    </tr>\n",
       "    <tr>\n",
       "      <th>Lawrence Kasanoff</th>\n",
       "      <td>Foodfight!</td>\n",
       "      <td>Comedy</td>\n",
       "      <td>-99.836209</td>\n",
       "      <td>tt0249516</td>\n",
       "    </tr>\n",
       "    <tr>\n",
       "      <th>Simon McQuoid</th>\n",
       "      <td>Mortal Kombat</td>\n",
       "      <td>Action</td>\n",
       "      <td>510.666135</td>\n",
       "      <td>tt0293429</td>\n",
       "    </tr>\n",
       "    <tr>\n",
       "      <th>Simon McQuoid</th>\n",
       "      <td>Mortal Kombat</td>\n",
       "      <td>Adventure</td>\n",
       "      <td>510.666135</td>\n",
       "      <td>tt0293429</td>\n",
       "    </tr>\n",
       "    <tr>\n",
       "      <th>...</th>\n",
       "      <td>...</td>\n",
       "      <td>...</td>\n",
       "      <td>...</td>\n",
       "      <td>...</td>\n",
       "    </tr>\n",
       "    <tr>\n",
       "      <th>Gijsbert Tukker</th>\n",
       "      <td>Darkness</td>\n",
       "      <td>Sci-Fi</td>\n",
       "      <td>224.615151</td>\n",
       "      <td>tt4341750</td>\n",
       "    </tr>\n",
       "    <tr>\n",
       "      <th>Jug Radivojevic</th>\n",
       "      <td>Darkness</td>\n",
       "      <td>Sci-Fi</td>\n",
       "      <td>224.615151</td>\n",
       "      <td>tt3961040</td>\n",
       "    </tr>\n",
       "    <tr>\n",
       "      <th>Susanna White</th>\n",
       "      <td>Traitor</td>\n",
       "      <td>Action</td>\n",
       "      <td>26.737391</td>\n",
       "      <td>tt1995390</td>\n",
       "    </tr>\n",
       "    <tr>\n",
       "      <th>Susanna White</th>\n",
       "      <td>Traitor</td>\n",
       "      <td>Drama</td>\n",
       "      <td>26.737391</td>\n",
       "      <td>tt1995390</td>\n",
       "    </tr>\n",
       "    <tr>\n",
       "      <th>Susanna White</th>\n",
       "      <td>Traitor</td>\n",
       "      <td>Romance</td>\n",
       "      <td>26.737391</td>\n",
       "      <td>tt1995390</td>\n",
       "    </tr>\n",
       "  </tbody>\n",
       "</table>\n",
       "<p>16013 rows × 4 columns</p>\n",
       "</div>"
      ],
      "text/plain": [
       "                  original_title     genres         ROI     tconst\n",
       "primary_name                                                      \n",
       "Lawrence Kasanoff     Foodfight!     Action  -99.836209  tt0249516\n",
       "Lawrence Kasanoff     Foodfight!  Animation  -99.836209  tt0249516\n",
       "Lawrence Kasanoff     Foodfight!     Comedy  -99.836209  tt0249516\n",
       "Simon McQuoid      Mortal Kombat     Action  510.666135  tt0293429\n",
       "Simon McQuoid      Mortal Kombat  Adventure  510.666135  tt0293429\n",
       "...                          ...        ...         ...        ...\n",
       "Gijsbert Tukker         Darkness     Sci-Fi  224.615151  tt4341750\n",
       "Jug Radivojevic         Darkness     Sci-Fi  224.615151  tt3961040\n",
       "Susanna White            Traitor     Action   26.737391  tt1995390\n",
       "Susanna White            Traitor      Drama   26.737391  tt1995390\n",
       "Susanna White            Traitor    Romance   26.737391  tt1995390\n",
       "\n",
       "[16013 rows x 4 columns]"
      ]
     },
     "execution_count": 29,
     "metadata": {},
     "output_type": "execute_result"
    }
   ],
   "source": [
    "roi_crew_genre = roi_with_title.merge(crew[['tconst', 'primary_name']], on='tconst', how='left')\n",
    "roi_crew_genre.drop_duplicates(inplace=True)\n",
    "roi_crew_genre.set_index('primary_name')"
   ]
  },
  {
   "cell_type": "code",
   "execution_count": 30,
   "metadata": {},
   "outputs": [],
   "source": [
    "composer_ = roi_crew_genre.merge(composers_names[['job_title', 'primary_name']], on='primary_name', how='inner')"
   ]
  },
  {
   "cell_type": "code",
   "execution_count": 31,
   "metadata": {},
   "outputs": [],
   "source": [
    "imdb_raw = pd.read_csv('./zippedData/imdb.title.ratings.csv.gz')"
   ]
  },
  {
   "cell_type": "code",
   "execution_count": 34,
   "metadata": {},
   "outputs": [],
   "source": [
    "composer_df = composer_.merge(imdb_raw[['tconst', 'averagerating']], on='tconst', how='left')\n",
    "composer_df.rename(columns={'primary_name': 'composer'}, inplace=True)\n",
    "composer_df.set_index('composer', inplace=True)"
   ]
  },
  {
   "cell_type": "code",
   "execution_count": 36,
   "metadata": {},
   "outputs": [],
   "source": [
    "music_df.set_index('composer', inplace=True)"
   ]
  },
  {
   "cell_type": "code",
   "execution_count": 45,
   "metadata": {},
   "outputs": [],
   "source": [
    "### can look at how the music rating varies from the overall movie rating"
   ]
  },
  {
   "cell_type": "code",
   "execution_count": 189,
   "metadata": {},
   "outputs": [
    {
     "data": {
      "text/html": [
       "<div>\n",
       "<style scoped>\n",
       "    .dataframe tbody tr th:only-of-type {\n",
       "        vertical-align: middle;\n",
       "    }\n",
       "\n",
       "    .dataframe tbody tr th {\n",
       "        vertical-align: top;\n",
       "    }\n",
       "\n",
       "    .dataframe thead th {\n",
       "        text-align: right;\n",
       "    }\n",
       "</style>\n",
       "<table border=\"1\" class=\"dataframe\">\n",
       "  <thead>\n",
       "    <tr style=\"text-align: right;\">\n",
       "      <th></th>\n",
       "      <th>title</th>\n",
       "      <th>imdb_rating</th>\n",
       "      <th>imdb_votes</th>\n",
       "      <th>tmdb_rating</th>\n",
       "      <th>tmdb_votes</th>\n",
       "      <th>tmdb_popularity</th>\n",
       "      <th>total_gross</th>\n",
       "      <th>production_budget</th>\n",
       "      <th>roi</th>\n",
       "    </tr>\n",
       "  </thead>\n",
       "  <tbody>\n",
       "    <tr>\n",
       "      <th>0</th>\n",
       "      <td>Just Inès</td>\n",
       "      <td>6.4</td>\n",
       "      <td>20</td>\n",
       "      <td>NaN</td>\n",
       "      <td>NaN</td>\n",
       "      <td>NaN</td>\n",
       "      <td>NaN</td>\n",
       "      <td>NaN</td>\n",
       "      <td>NaN</td>\n",
       "    </tr>\n",
       "    <tr>\n",
       "      <th>1</th>\n",
       "      <td>Samo Ines</td>\n",
       "      <td>6.4</td>\n",
       "      <td>20</td>\n",
       "      <td>NaN</td>\n",
       "      <td>NaN</td>\n",
       "      <td>NaN</td>\n",
       "      <td>NaN</td>\n",
       "      <td>NaN</td>\n",
       "      <td>NaN</td>\n",
       "    </tr>\n",
       "    <tr>\n",
       "      <th>2</th>\n",
       "      <td>Just Inès</td>\n",
       "      <td>6.4</td>\n",
       "      <td>20</td>\n",
       "      <td>NaN</td>\n",
       "      <td>NaN</td>\n",
       "      <td>NaN</td>\n",
       "      <td>NaN</td>\n",
       "      <td>NaN</td>\n",
       "      <td>NaN</td>\n",
       "    </tr>\n",
       "    <tr>\n",
       "      <th>3</th>\n",
       "      <td>The Legend of Hercules</td>\n",
       "      <td>4.2</td>\n",
       "      <td>50352</td>\n",
       "      <td>4.5</td>\n",
       "      <td>805.0</td>\n",
       "      <td>13.754</td>\n",
       "      <td>77801857.0</td>\n",
       "      <td>70000000.0</td>\n",
       "      <td>11.15</td>\n",
       "    </tr>\n",
       "    <tr>\n",
       "      <th>4</th>\n",
       "      <td>Hércules - A Lenda Começa</td>\n",
       "      <td>4.2</td>\n",
       "      <td>50352</td>\n",
       "      <td>NaN</td>\n",
       "      <td>NaN</td>\n",
       "      <td>NaN</td>\n",
       "      <td>NaN</td>\n",
       "      <td>NaN</td>\n",
       "      <td>NaN</td>\n",
       "    </tr>\n",
       "  </tbody>\n",
       "</table>\n",
       "</div>"
      ],
      "text/plain": [
       "                       title  imdb_rating  imdb_votes  tmdb_rating  \\\n",
       "0                  Just Inès          6.4          20          NaN   \n",
       "1                  Samo Ines          6.4          20          NaN   \n",
       "2                  Just Inès          6.4          20          NaN   \n",
       "3     The Legend of Hercules          4.2       50352          4.5   \n",
       "4  Hércules - A Lenda Começa          4.2       50352          NaN   \n",
       "\n",
       "   tmdb_votes  tmdb_popularity  total_gross  production_budget    roi  \n",
       "0         NaN              NaN          NaN                NaN    NaN  \n",
       "1         NaN              NaN          NaN                NaN    NaN  \n",
       "2         NaN              NaN          NaN                NaN    NaN  \n",
       "3       805.0           13.754   77801857.0         70000000.0  11.15  \n",
       "4         NaN              NaN          NaN                NaN    NaN  "
      ]
     },
     "execution_count": 189,
     "metadata": {},
     "output_type": "execute_result"
    }
   ],
   "source": [
    "ratings.head()"
   ]
  },
  {
   "cell_type": "code",
   "execution_count": 190,
   "metadata": {},
   "outputs": [
    {
     "data": {
      "text/html": [
       "<div>\n",
       "<style scoped>\n",
       "    .dataframe tbody tr th:only-of-type {\n",
       "        vertical-align: middle;\n",
       "    }\n",
       "\n",
       "    .dataframe tbody tr th {\n",
       "        vertical-align: top;\n",
       "    }\n",
       "\n",
       "    .dataframe thead th {\n",
       "        text-align: right;\n",
       "    }\n",
       "</style>\n",
       "<table border=\"1\" class=\"dataframe\">\n",
       "  <thead>\n",
       "    <tr style=\"text-align: right;\">\n",
       "      <th></th>\n",
       "      <th>title</th>\n",
       "      <th>composer</th>\n",
       "      <th>music_rating</th>\n",
       "    </tr>\n",
       "  </thead>\n",
       "  <tbody>\n",
       "    <tr>\n",
       "      <th>0</th>\n",
       "      <td>10 Cloverfield Lane</td>\n",
       "      <td>Bear McCreary</td>\n",
       "      <td>4.0</td>\n",
       "    </tr>\n",
       "    <tr>\n",
       "      <th>1</th>\n",
       "      <td>100 Rifles</td>\n",
       "      <td>Jerry Goldsmith</td>\n",
       "      <td>4.0</td>\n",
       "    </tr>\n",
       "    <tr>\n",
       "      <th>2</th>\n",
       "      <td>101 Dalmatians</td>\n",
       "      <td>Michael Kamen</td>\n",
       "      <td>4.5</td>\n",
       "    </tr>\n",
       "    <tr>\n",
       "      <th>3</th>\n",
       "      <td>102 Dalmatians</td>\n",
       "      <td>David Newman</td>\n",
       "      <td>4.0</td>\n",
       "    </tr>\n",
       "    <tr>\n",
       "      <th>4</th>\n",
       "      <td>10,000BC</td>\n",
       "      <td>Harald Kloser and Thomas Wander</td>\n",
       "      <td>2.0</td>\n",
       "    </tr>\n",
       "  </tbody>\n",
       "</table>\n",
       "</div>"
      ],
      "text/plain": [
       "                 title                           composer  music_rating\n",
       "0  10 Cloverfield Lane                     Bear McCreary            4.0\n",
       "1           100 Rifles                   Jerry Goldsmith            4.0\n",
       "2       101 Dalmatians                     Michael Kamen            4.5\n",
       "3       102 Dalmatians                      David Newman            4.0\n",
       "4             10,000BC   Harald Kloser and Thomas Wander            2.0"
      ]
     },
     "execution_count": 190,
     "metadata": {},
     "output_type": "execute_result"
    }
   ],
   "source": [
    "music_df.head()"
   ]
  },
  {
   "cell_type": "code",
   "execution_count": null,
   "metadata": {},
   "outputs": [],
   "source": []
  },
  {
   "cell_type": "code",
   "execution_count": null,
   "metadata": {},
   "outputs": [],
   "source": []
  },
  {
   "cell_type": "code",
   "execution_count": 54,
   "metadata": {},
   "outputs": [],
   "source": [
    "music_movie_ratings = music_df.merge(composer_df[['averagerating']], on='composer', how='left')"
   ]
  },
  {
   "cell_type": "code",
   "execution_count": 55,
   "metadata": {},
   "outputs": [
    {
     "data": {
      "text/html": [
       "<div>\n",
       "<style scoped>\n",
       "    .dataframe tbody tr th:only-of-type {\n",
       "        vertical-align: middle;\n",
       "    }\n",
       "\n",
       "    .dataframe tbody tr th {\n",
       "        vertical-align: top;\n",
       "    }\n",
       "\n",
       "    .dataframe thead th {\n",
       "        text-align: right;\n",
       "    }\n",
       "</style>\n",
       "<table border=\"1\" class=\"dataframe\">\n",
       "  <thead>\n",
       "    <tr style=\"text-align: right;\">\n",
       "      <th></th>\n",
       "      <th>title</th>\n",
       "      <th>music_rating</th>\n",
       "      <th>averagerating</th>\n",
       "    </tr>\n",
       "    <tr>\n",
       "      <th>composer</th>\n",
       "      <th></th>\n",
       "      <th></th>\n",
       "      <th></th>\n",
       "    </tr>\n",
       "  </thead>\n",
       "  <tbody>\n",
       "    <tr>\n",
       "      <th>Bear McCreary</th>\n",
       "      <td>10 Cloverfield Lane</td>\n",
       "      <td>4.0</td>\n",
       "      <td>NaN</td>\n",
       "    </tr>\n",
       "    <tr>\n",
       "      <th>Jerry Goldsmith</th>\n",
       "      <td>100 Rifles</td>\n",
       "      <td>4.0</td>\n",
       "      <td>NaN</td>\n",
       "    </tr>\n",
       "    <tr>\n",
       "      <th>Michael Kamen</th>\n",
       "      <td>101 Dalmatians</td>\n",
       "      <td>4.5</td>\n",
       "      <td>NaN</td>\n",
       "    </tr>\n",
       "    <tr>\n",
       "      <th>David Newman</th>\n",
       "      <td>102 Dalmatians</td>\n",
       "      <td>4.0</td>\n",
       "      <td>NaN</td>\n",
       "    </tr>\n",
       "    <tr>\n",
       "      <th>Harald Kloser and Thomas Wander</th>\n",
       "      <td>10,000BC</td>\n",
       "      <td>2.0</td>\n",
       "      <td>NaN</td>\n",
       "    </tr>\n",
       "    <tr>\n",
       "      <th>...</th>\n",
       "      <td>...</td>\n",
       "      <td>...</td>\n",
       "      <td>...</td>\n",
       "    </tr>\n",
       "    <tr>\n",
       "      <th>John Debney</th>\n",
       "      <td>Zathura</td>\n",
       "      <td>4.0</td>\n",
       "      <td>NaN</td>\n",
       "    </tr>\n",
       "    <tr>\n",
       "      <th>Alexandre Desplat</th>\n",
       "      <td>Zero Dark Thirty</td>\n",
       "      <td>4.0</td>\n",
       "      <td>NaN</td>\n",
       "    </tr>\n",
       "    <tr>\n",
       "      <th>Theodore Shapiro</th>\n",
       "      <td>Zoolander 2</td>\n",
       "      <td>3.5</td>\n",
       "      <td>NaN</td>\n",
       "    </tr>\n",
       "    <tr>\n",
       "      <th>Michael Giacchino</th>\n",
       "      <td>Zootopia</td>\n",
       "      <td>2.0</td>\n",
       "      <td>NaN</td>\n",
       "    </tr>\n",
       "    <tr>\n",
       "      <th>Elmer Bernstein</th>\n",
       "      <td>Zulu Dawn</td>\n",
       "      <td>5.0</td>\n",
       "      <td>NaN</td>\n",
       "    </tr>\n",
       "  </tbody>\n",
       "</table>\n",
       "<p>2299 rows × 3 columns</p>\n",
       "</div>"
      ],
      "text/plain": [
       "                                                 title  music_rating  \\\n",
       "composer                                                               \n",
       " Bear McCreary                     10 Cloverfield Lane           4.0   \n",
       " Jerry Goldsmith                            100 Rifles           4.0   \n",
       " Michael Kamen                          101 Dalmatians           4.5   \n",
       " David Newman                           102 Dalmatians           4.0   \n",
       " Harald Kloser and Thomas Wander              10,000BC           2.0   \n",
       "...                                                ...           ...   \n",
       " John Debney                                   Zathura           4.0   \n",
       " Alexandre Desplat                    Zero Dark Thirty           4.0   \n",
       " Theodore Shapiro                          Zoolander 2           3.5   \n",
       " Michael Giacchino                            Zootopia           2.0   \n",
       " Elmer Bernstein                             Zulu Dawn           5.0   \n",
       "\n",
       "                                   averagerating  \n",
       "composer                                          \n",
       " Bear McCreary                               NaN  \n",
       " Jerry Goldsmith                             NaN  \n",
       " Michael Kamen                               NaN  \n",
       " David Newman                                NaN  \n",
       " Harald Kloser and Thomas Wander             NaN  \n",
       "...                                          ...  \n",
       " John Debney                                 NaN  \n",
       " Alexandre Desplat                           NaN  \n",
       " Theodore Shapiro                            NaN  \n",
       " Michael Giacchino                           NaN  \n",
       " Elmer Bernstein                             NaN  \n",
       "\n",
       "[2299 rows x 3 columns]"
      ]
     },
     "execution_count": 55,
     "metadata": {},
     "output_type": "execute_result"
    }
   ],
   "source": [
    "music_movie_ratings"
   ]
  },
  {
   "cell_type": "code",
   "execution_count": 56,
   "metadata": {},
   "outputs": [
    {
     "data": {
      "text/plain": [
       "title               0\n",
       "music_rating       29\n",
       "averagerating    2299\n",
       "dtype: int64"
      ]
     },
     "execution_count": 56,
     "metadata": {},
     "output_type": "execute_result"
    }
   ],
   "source": [
    "music_movie_ratings.isnull().sum()"
   ]
  },
  {
   "cell_type": "code",
   "execution_count": 58,
   "metadata": {},
   "outputs": [],
   "source": [
    "### There is no overlap ughhhhhhhhhhhhfusbcisnicsifnc"
   ]
  },
  {
   "cell_type": "code",
   "execution_count": 59,
   "metadata": {},
   "outputs": [
    {
     "data": {
      "text/html": [
       "<div>\n",
       "<style scoped>\n",
       "    .dataframe tbody tr th:only-of-type {\n",
       "        vertical-align: middle;\n",
       "    }\n",
       "\n",
       "    .dataframe tbody tr th {\n",
       "        vertical-align: top;\n",
       "    }\n",
       "\n",
       "    .dataframe thead th {\n",
       "        text-align: right;\n",
       "    }\n",
       "</style>\n",
       "<table border=\"1\" class=\"dataframe\">\n",
       "  <thead>\n",
       "    <tr style=\"text-align: right;\">\n",
       "      <th></th>\n",
       "      <th>original_title</th>\n",
       "      <th>genres</th>\n",
       "      <th>ROI</th>\n",
       "      <th>tconst</th>\n",
       "      <th>job_title</th>\n",
       "      <th>averagerating</th>\n",
       "    </tr>\n",
       "    <tr>\n",
       "      <th>composer</th>\n",
       "      <th></th>\n",
       "      <th></th>\n",
       "      <th></th>\n",
       "      <th></th>\n",
       "      <th></th>\n",
       "      <th></th>\n",
       "    </tr>\n",
       "  </thead>\n",
       "  <tbody>\n",
       "    <tr>\n",
       "      <th>Robert Rodriguez</th>\n",
       "      <td>Alita: Battle Angel</td>\n",
       "      <td>Action</td>\n",
       "      <td>137.044727</td>\n",
       "      <td>tt0437086</td>\n",
       "      <td>composer</td>\n",
       "      <td>7.5</td>\n",
       "    </tr>\n",
       "    <tr>\n",
       "      <th>Robert Rodriguez</th>\n",
       "      <td>Alita: Battle Angel</td>\n",
       "      <td>Adventure</td>\n",
       "      <td>137.044727</td>\n",
       "      <td>tt0437086</td>\n",
       "      <td>composer</td>\n",
       "      <td>7.5</td>\n",
       "    </tr>\n",
       "    <tr>\n",
       "      <th>Robert Rodriguez</th>\n",
       "      <td>Alita: Battle Angel</td>\n",
       "      <td>Sci-Fi</td>\n",
       "      <td>137.044727</td>\n",
       "      <td>tt0437086</td>\n",
       "      <td>composer</td>\n",
       "      <td>7.5</td>\n",
       "    </tr>\n",
       "    <tr>\n",
       "      <th>Robert Rodriguez</th>\n",
       "      <td>Sin City: A Dame to Kill For</td>\n",
       "      <td>Crime</td>\n",
       "      <td>-37.460243</td>\n",
       "      <td>tt0458481</td>\n",
       "      <td>composer</td>\n",
       "      <td>6.5</td>\n",
       "    </tr>\n",
       "    <tr>\n",
       "      <th>Robert Rodriguez</th>\n",
       "      <td>Sin City: A Dame to Kill For</td>\n",
       "      <td>Thriller</td>\n",
       "      <td>-37.460243</td>\n",
       "      <td>tt0458481</td>\n",
       "      <td>composer</td>\n",
       "      <td>6.5</td>\n",
       "    </tr>\n",
       "    <tr>\n",
       "      <th>...</th>\n",
       "      <td>...</td>\n",
       "      <td>...</td>\n",
       "      <td>...</td>\n",
       "      <td>...</td>\n",
       "      <td>...</td>\n",
       "      <td>...</td>\n",
       "    </tr>\n",
       "    <tr>\n",
       "      <th>Antonis Sotiropoulos</th>\n",
       "      <td>The Bachelor</td>\n",
       "      <td>Romance</td>\n",
       "      <td>75.630371</td>\n",
       "      <td>tt5748648</td>\n",
       "      <td>composer</td>\n",
       "      <td>5.1</td>\n",
       "    </tr>\n",
       "    <tr>\n",
       "      <th>David Sudmalis</th>\n",
       "      <td>The House of Mirth</td>\n",
       "      <td>Music</td>\n",
       "      <td>-48.508690</td>\n",
       "      <td>tt5867616</td>\n",
       "      <td>composer</td>\n",
       "      <td>NaN</td>\n",
       "    </tr>\n",
       "    <tr>\n",
       "      <th>Geremy Jasper</th>\n",
       "      <td>Patti Cake$</td>\n",
       "      <td>Drama</td>\n",
       "      <td>47.109000</td>\n",
       "      <td>tt6288250</td>\n",
       "      <td>composer</td>\n",
       "      <td>6.7</td>\n",
       "    </tr>\n",
       "    <tr>\n",
       "      <th>Geremy Jasper</th>\n",
       "      <td>Patti Cake$</td>\n",
       "      <td>Music</td>\n",
       "      <td>47.109000</td>\n",
       "      <td>tt6288250</td>\n",
       "      <td>composer</td>\n",
       "      <td>6.7</td>\n",
       "    </tr>\n",
       "    <tr>\n",
       "      <th>Michael Moore</th>\n",
       "      <td>Fahrenheit 11/9</td>\n",
       "      <td>Documentary</td>\n",
       "      <td>33.074300</td>\n",
       "      <td>tt8632862</td>\n",
       "      <td>composer</td>\n",
       "      <td>6.7</td>\n",
       "    </tr>\n",
       "  </tbody>\n",
       "</table>\n",
       "<p>533 rows × 6 columns</p>\n",
       "</div>"
      ],
      "text/plain": [
       "                                    original_title       genres         ROI  \\\n",
       "composer                                                                      \n",
       "Robert Rodriguez               Alita: Battle Angel       Action  137.044727   \n",
       "Robert Rodriguez               Alita: Battle Angel    Adventure  137.044727   \n",
       "Robert Rodriguez               Alita: Battle Angel       Sci-Fi  137.044727   \n",
       "Robert Rodriguez      Sin City: A Dame to Kill For        Crime  -37.460243   \n",
       "Robert Rodriguez      Sin City: A Dame to Kill For     Thriller  -37.460243   \n",
       "...                                            ...          ...         ...   \n",
       "Antonis Sotiropoulos                  The Bachelor      Romance   75.630371   \n",
       "David Sudmalis                  The House of Mirth        Music  -48.508690   \n",
       "Geremy Jasper                          Patti Cake$        Drama   47.109000   \n",
       "Geremy Jasper                          Patti Cake$        Music   47.109000   \n",
       "Michael Moore                      Fahrenheit 11/9  Documentary   33.074300   \n",
       "\n",
       "                         tconst job_title  averagerating  \n",
       "composer                                                  \n",
       "Robert Rodriguez      tt0437086  composer            7.5  \n",
       "Robert Rodriguez      tt0437086  composer            7.5  \n",
       "Robert Rodriguez      tt0437086  composer            7.5  \n",
       "Robert Rodriguez      tt0458481  composer            6.5  \n",
       "Robert Rodriguez      tt0458481  composer            6.5  \n",
       "...                         ...       ...            ...  \n",
       "Antonis Sotiropoulos  tt5748648  composer            5.1  \n",
       "David Sudmalis        tt5867616  composer            NaN  \n",
       "Geremy Jasper         tt6288250  composer            6.7  \n",
       "Geremy Jasper         tt6288250  composer            6.7  \n",
       "Michael Moore         tt8632862  composer            6.7  \n",
       "\n",
       "[533 rows x 6 columns]"
      ]
     },
     "execution_count": 59,
     "metadata": {},
     "output_type": "execute_result"
    }
   ],
   "source": [
    "composer_df"
   ]
  },
  {
   "cell_type": "code",
   "execution_count": 149,
   "metadata": {},
   "outputs": [
    {
     "data": {
      "text/plain": [
       "940.8412287072595"
      ]
     },
     "execution_count": 149,
     "metadata": {},
     "output_type": "execute_result"
    }
   ],
   "source": [
    "composer_df.ROI.mean()"
   ]
  },
  {
   "cell_type": "code",
   "execution_count": 151,
   "metadata": {},
   "outputs": [
    {
     "data": {
      "text/plain": [
       "2388.71566102759"
      ]
     },
     "execution_count": 151,
     "metadata": {},
     "output_type": "execute_result"
    }
   ],
   "source": [
    "composer_df.ROI.std()"
   ]
  },
  {
   "cell_type": "code",
   "execution_count": 150,
   "metadata": {},
   "outputs": [
    {
     "data": {
      "text/plain": [
       "704.7362720165772"
      ]
     },
     "execution_count": 150,
     "metadata": {},
     "output_type": "execute_result"
    }
   ],
   "source": [
    "ratings.roi.mean()"
   ]
  },
  {
   "cell_type": "code",
   "execution_count": 152,
   "metadata": {},
   "outputs": [
    {
     "data": {
      "text/plain": [
       "2272.2474122123313"
      ]
     },
     "execution_count": 152,
     "metadata": {},
     "output_type": "execute_result"
    }
   ],
   "source": [
    "ratings.roi.std()"
   ]
  },
  {
   "cell_type": "markdown",
   "metadata": {},
   "source": [
    "##### composer dataframe has higher mean but also higher std\n",
    "\n",
    "\n"
   ]
  },
  {
   "cell_type": "markdown",
   "metadata": {},
   "source": []
  },
  {
   "cell_type": "code",
   "execution_count": 60,
   "metadata": {},
   "outputs": [],
   "source": [
    "### did a movie with a composer do better than the overall average ratings?"
   ]
  },
  {
   "cell_type": "code",
   "execution_count": 137,
   "metadata": {},
   "outputs": [
    {
     "data": {
      "image/png": "[encoded data removed]",
      "text/plain": [
       "<Figure size 864x288 with 2 Axes>"
      ]
     },
     "metadata": {
      "needs_background": "light"
     },
     "output_type": "display_data"
    }
   ],
   "source": [
    "figure, ax = plt.subplots(1,2, figsize=(12,4))\n",
    "\n",
    "ax[0].set_title('Rating For Composers Only')\n",
    "ax[0].set_xlabel('')\n",
    "ax[0].set_ylabel('')\n",
    "\n",
    "y = composer_df.averagerating\n",
    "\n",
    "ax[0].hist(y);\n",
    "\n",
    "ax[1].set_title('Overall Rating Total')\n",
    "ax[1].set_xlabel('')\n",
    "ax[1].set_ylabel('')\n",
    "\n",
    "y = ratings.imdb_rating\n",
    "\n",
    "ax[1].hist(y);"
   ]
  },
  {
   "cell_type": "code",
   "execution_count": 144,
   "metadata": {},
   "outputs": [
    {
     "data": {
      "text/plain": [
       "6.389737470167065"
      ]
     },
     "execution_count": 144,
     "metadata": {},
     "output_type": "execute_result"
    }
   ],
   "source": [
    "#### we should get the mean and standard dev\n",
    "composer_df['averagerating'].mean()"
   ]
  },
  {
   "cell_type": "code",
   "execution_count": 139,
   "metadata": {},
   "outputs": [
    {
     "data": {
      "text/plain": [
       "6.2688522154496455"
      ]
     },
     "execution_count": 139,
     "metadata": {},
     "output_type": "execute_result"
    }
   ],
   "source": [
    "ratings['imdb_rating'].mean()"
   ]
  },
  {
   "cell_type": "code",
   "execution_count": 140,
   "metadata": {},
   "outputs": [
    {
     "data": {
      "text/plain": [
       "1.0393523368884579"
      ]
     },
     "execution_count": 140,
     "metadata": {},
     "output_type": "execute_result"
    }
   ],
   "source": [
    "composer_df['averagerating'].std()"
   ]
  },
  {
   "cell_type": "code",
   "execution_count": 141,
   "metadata": {},
   "outputs": [
    {
     "data": {
      "text/plain": [
       "1.2575963534615557"
      ]
     },
     "execution_count": 141,
     "metadata": {},
     "output_type": "execute_result"
    }
   ],
   "source": [
    "ratings['imdb_rating'].std()"
   ]
  },
  {
   "cell_type": "markdown",
   "metadata": {},
   "source": [
    "### INSIGHTS -------\n",
    "#### mean is slightly higher and std dev is lower for the composers than overall"
   ]
  },
  {
   "cell_type": "code",
   "execution_count": null,
   "metadata": {},
   "outputs": [],
   "source": []
  },
  {
   "cell_type": "code",
   "execution_count": 145,
   "metadata": {},
   "outputs": [
    {
     "data": {
      "image/png": "[encoded data removed]",
      "text/plain": [
       "<Figure size 1080x504 with 1 Axes>"
      ]
     },
     "metadata": {
      "needs_background": "light"
     },
     "output_type": "display_data"
    }
   ],
   "source": [
    "y = genre_roi.groupby(['genres'])['ROI'].mean()\n",
    "x = y.index\n",
    "\n",
    "figure, ax = plt.subplots(figsize = (15,7))\n",
    "\n",
    "ax.set_title('Average ROI For Movie Genres')\n",
    "ax.set_xlabel('Genre')\n",
    "ax.set_ylabel('ROI (percentage)')\n",
    "\n",
    "plt.xticks(rotation=90)\n",
    "\n",
    "ax.bar(x, y, color='green');"
   ]
  },
  {
   "cell_type": "code",
   "execution_count": 185,
   "metadata": {},
   "outputs": [
    {
     "data": {
      "image/png": "[encoded data removed]",
      "text/plain": [
       "<Figure size 1080x504 with 1 Axes>"
      ]
     },
     "metadata": {
      "needs_background": "light"
     },
     "output_type": "display_data"
    }
   ],
   "source": [
    "y = genre_roi.groupby(['genres'])['ROI'].std()\n",
    "x = y.index\n",
    "\n",
    "figure, ax = plt.subplots(figsize = (15,7))\n",
    "\n",
    "ax.set_title('ROI Standard Deviation For Movie Genres')\n",
    "ax.set_xlabel('Genre')\n",
    "ax.set_ylabel('ROI (percentage)')\n",
    "\n",
    "plt.xticks(rotation=90)\n",
    "\n",
    "ax.bar(x, y, color='green');"
   ]
  },
  {
   "cell_type": "code",
   "execution_count": 179,
   "metadata": {},
   "outputs": [
    {
     "data": {
      "text/plain": [
       "991.4542870400787"
      ]
     },
     "execution_count": 179,
     "metadata": {},
     "output_type": "execute_result"
    }
   ],
   "source": [
    "genre_roi[genre_roi['genres'] == 'Musical']['ROI'].mean()"
   ]
  },
  {
   "cell_type": "code",
   "execution_count": 180,
   "metadata": {},
   "outputs": [
    {
     "data": {
      "text/plain": [
       "2253.3132639579585"
      ]
     },
     "execution_count": 180,
     "metadata": {},
     "output_type": "execute_result"
    }
   ],
   "source": [
    "genre_roi[genre_roi['genres'] == 'Musical']['ROI'].std()"
   ]
  },
  {
   "cell_type": "code",
   "execution_count": 181,
   "metadata": {},
   "outputs": [
    {
     "data": {
      "text/plain": [
       "712.2093886541527"
      ]
     },
     "execution_count": 181,
     "metadata": {},
     "output_type": "execute_result"
    }
   ],
   "source": [
    "genre_roi[genre_roi['genres'] == 'Horror']['ROI'].mean()"
   ]
  },
  {
   "cell_type": "code",
   "execution_count": 182,
   "metadata": {},
   "outputs": [
    {
     "data": {
      "text/plain": [
       "2915.2651634191407"
      ]
     },
     "execution_count": 182,
     "metadata": {},
     "output_type": "execute_result"
    }
   ],
   "source": [
    "genre_roi[genre_roi['genres'] == 'Horror']['ROI'].std()"
   ]
  },
  {
   "cell_type": "code",
   "execution_count": 183,
   "metadata": {},
   "outputs": [
    {
     "data": {
      "text/plain": [
       "584.2238090720975"
      ]
     },
     "execution_count": 183,
     "metadata": {},
     "output_type": "execute_result"
    }
   ],
   "source": [
    "genre_roi[genre_roi['genres'] == 'Mystery']['ROI'].mean()"
   ]
  },
  {
   "cell_type": "code",
   "execution_count": 184,
   "metadata": {},
   "outputs": [
    {
     "data": {
      "text/plain": [
       "2870.320189526222"
      ]
     },
     "execution_count": 184,
     "metadata": {},
     "output_type": "execute_result"
    }
   ],
   "source": [
    "genre_roi[genre_roi['genres'] == 'Mystery']['ROI'].std()"
   ]
  },
  {
   "cell_type": "markdown",
   "metadata": {},
   "source": [
    "## The top three Average ROIs have the highest standard dev"
   ]
  },
  {
   "cell_type": "code",
   "execution_count": null,
   "metadata": {},
   "outputs": [],
   "source": []
  },
  {
   "cell_type": "code",
   "execution_count": null,
   "metadata": {},
   "outputs": [],
   "source": []
  },
  {
   "cell_type": "code",
   "execution_count": 186,
   "metadata": {},
   "outputs": [],
   "source": [
    "### could look into how much better the remake did  for musicals -- wait only 6 remakes though"
   ]
  },
  {
   "cell_type": "code",
   "execution_count": null,
   "metadata": {},
   "outputs": [],
   "source": []
  },
  {
   "cell_type": "code",
   "execution_count": 175,
   "metadata": {},
   "outputs": [],
   "source": []
  },
  {
   "cell_type": "code",
   "execution_count": null,
   "metadata": {},
   "outputs": [],
   "source": []
  }
 ],
 "metadata": {
  "kernelspec": {
   "display_name": "Python 3",
   "language": "python",
   "name": "python3"
  },
  "language_info": {
   "codemirror_mode": {
    "name": "ipython",
    "version": 3
   },
   "file_extension": ".py",
   "mimetype": "text/x-python",
   "name": "python",
   "nbconvert_exporter": "python",
   "pygments_lexer": "ipython3",
   "version": "3.6.9"
  }
 },
 "nbformat": 4,
 "nbformat_minor": 2
}
