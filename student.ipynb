{
 "cells": [
  {
   "cell_type": "markdown",
   "metadata": {},
   "source": [
    "# Project 1: Exploratory Data Analysis of Movie Data\n",
    "### By Amelia Dahm & Khyatee Desai<br>Oct. 2nd, 2020\n"
   ]
  },
  {
   "cell_type": "markdown",
   "metadata": {},
   "source": [
    "## Import Python Libraries"
   ]
  },
  {
   "cell_type": "code",
   "execution_count": 53,
   "metadata": {},
   "outputs": [],
   "source": [
    "import pandas as pd\n",
    "import re\n",
    "import matplotlib.pyplot as plt\n",
    "import seaborn as sns\n",
    "import numpy as np\n",
    "import requests\n",
    "import time\n",
    "from bs4 import BeautifulSoup\n",
    "%matplotlib inline"
   ]
  },
  {
   "cell_type": "markdown",
   "metadata": {},
   "source": [
    "## Read in CSV Files"
   ]
  },
  {
   "cell_type": "code",
   "execution_count": 54,
   "metadata": {
    "scrolled": true
   },
   "outputs": [],
   "source": [
    "movie_gross_raw = pd.read_csv('./zippedData/bom.movie_gross.csv.gz')\n",
    "imdb_raw = pd.read_csv('./zippedData/imdb.title.ratings.csv.gz')\n",
    "name_basics_raw = pd.read_csv('./zippedData/imdb.name.basics.csv.gz')\n",
    "titles_raw = pd.read_csv('./zippedData/imdb.title.akas.csv.gz')\n",
    "genre_raw = pd.read_csv('./zippedData/imdb.title.basics.csv.gz')\n",
    "tmdb_raw = pd.read_csv('./zippedData/tmdb.movies.csv.gz')\n",
    "crew_raw = pd.read_csv('./zippedData/imdb.title.crew.csv.gz')\n",
    "budgets_raw = pd.read_csv('./zippedData/tn.movie_budgets.csv.gz')\n",
    "characters_raw = pd.read_csv('./zippedData/imdb.title.principals.csv.gz')"
   ]
  },
  {
   "cell_type": "markdown",
   "metadata": {},
   "source": [
    "# Question 1: Which Movies Genres are Most Successful?\n",
    "This question investigates which movie genres are most successful, through different measures of \"success\" beyond gross revenue. Academy Award nominations are widely accepted as a reliable measure of a film's quality, so we decided to include Oscar Nomination data in the analysis.<br>\n",
    "If the data suggests that certain movie genres tend to receive more nominations or generate a higher gross revenue, \"Microsoft\" should invest more in producing films of those genres.\n",
    "\n",
    "## Method:"
   ]
  },
  {
   "cell_type": "markdown",
   "metadata": {},
   "source": [
    "##  Read in Oscars Dataset\n",
    "The Oscars dataset contains information on cast, crew, and movie titles of Oscar-nominated films.<br>Source: https://www.kaggle.com/unanimad/the-oscar-award"
   ]
  },
  {
   "cell_type": "code",
   "execution_count": 55,
   "metadata": {
    "scrolled": true
   },
   "outputs": [
    {
     "data": {
      "text/html": [
       "<div>\n",
       "<style scoped>\n",
       "    .dataframe tbody tr th:only-of-type {\n",
       "        vertical-align: middle;\n",
       "    }\n",
       "\n",
       "    .dataframe tbody tr th {\n",
       "        vertical-align: top;\n",
       "    }\n",
       "\n",
       "    .dataframe thead th {\n",
       "        text-align: right;\n",
       "    }\n",
       "</style>\n",
       "<table border=\"1\" class=\"dataframe\">\n",
       "  <thead>\n",
       "    <tr style=\"text-align: right;\">\n",
       "      <th></th>\n",
       "      <th>year_film</th>\n",
       "      <th>year_ceremony</th>\n",
       "      <th>ceremony</th>\n",
       "      <th>category</th>\n",
       "      <th>name</th>\n",
       "      <th>film</th>\n",
       "      <th>winner</th>\n",
       "    </tr>\n",
       "  </thead>\n",
       "  <tbody>\n",
       "    <tr>\n",
       "      <th>0</th>\n",
       "      <td>1927</td>\n",
       "      <td>1928</td>\n",
       "      <td>1</td>\n",
       "      <td>ACTOR</td>\n",
       "      <td>Richard Barthelmess</td>\n",
       "      <td>The Noose</td>\n",
       "      <td>False</td>\n",
       "    </tr>\n",
       "    <tr>\n",
       "      <th>1</th>\n",
       "      <td>1927</td>\n",
       "      <td>1928</td>\n",
       "      <td>1</td>\n",
       "      <td>ACTOR</td>\n",
       "      <td>Emil Jannings</td>\n",
       "      <td>The Last Command</td>\n",
       "      <td>True</td>\n",
       "    </tr>\n",
       "    <tr>\n",
       "      <th>2</th>\n",
       "      <td>1927</td>\n",
       "      <td>1928</td>\n",
       "      <td>1</td>\n",
       "      <td>ACTRESS</td>\n",
       "      <td>Louise Dresser</td>\n",
       "      <td>A Ship Comes In</td>\n",
       "      <td>False</td>\n",
       "    </tr>\n",
       "  </tbody>\n",
       "</table>\n",
       "</div>"
      ],
      "text/plain": [
       "   year_film  year_ceremony  ceremony category                 name  \\\n",
       "0       1927           1928         1    ACTOR  Richard Barthelmess   \n",
       "1       1927           1928         1    ACTOR        Emil Jannings   \n",
       "2       1927           1928         1  ACTRESS       Louise Dresser   \n",
       "\n",
       "               film  winner  \n",
       "0         The Noose   False  \n",
       "1  The Last Command    True  \n",
       "2   A Ship Comes In   False  "
      ]
     },
     "execution_count": 55,
     "metadata": {},
     "output_type": "execute_result"
    }
   ],
   "source": [
    "oscars_raw = pd.read_csv('./zippedData/oscars.zip', encoding = \"ISO-8859-1\")\n",
    "oscars_raw.head(3)"
   ]
  },
  {
   "cell_type": "markdown",
   "metadata": {},
   "source": [
    "<br>"
   ]
  },
  {
   "cell_type": "markdown",
   "metadata": {},
   "source": [
    "## Get the Count of Oscar Nominations Per Movie"
   ]
  },
  {
   "cell_type": "code",
   "execution_count": 56,
   "metadata": {
    "scrolled": true
   },
   "outputs": [
    {
     "data": {
      "text/html": [
       "<div>\n",
       "<style scoped>\n",
       "    .dataframe tbody tr th:only-of-type {\n",
       "        vertical-align: middle;\n",
       "    }\n",
       "\n",
       "    .dataframe tbody tr th {\n",
       "        vertical-align: top;\n",
       "    }\n",
       "\n",
       "    .dataframe thead th {\n",
       "        text-align: right;\n",
       "    }\n",
       "</style>\n",
       "<table border=\"1\" class=\"dataframe\">\n",
       "  <thead>\n",
       "    <tr style=\"text-align: right;\">\n",
       "      <th></th>\n",
       "      <th>title</th>\n",
       "      <th>person</th>\n",
       "      <th>category</th>\n",
       "      <th>oscar_noms</th>\n",
       "    </tr>\n",
       "  </thead>\n",
       "  <tbody>\n",
       "    <tr>\n",
       "      <th>0</th>\n",
       "      <td>The Noose</td>\n",
       "      <td>Richard Barthelmess</td>\n",
       "      <td>ACTOR</td>\n",
       "      <td>1</td>\n",
       "    </tr>\n",
       "    <tr>\n",
       "      <th>1</th>\n",
       "      <td>The Last Command</td>\n",
       "      <td>Emil Jannings</td>\n",
       "      <td>ACTOR</td>\n",
       "      <td>2</td>\n",
       "    </tr>\n",
       "    <tr>\n",
       "      <th>2</th>\n",
       "      <td>A Ship Comes In</td>\n",
       "      <td>Louise Dresser</td>\n",
       "      <td>ACTRESS</td>\n",
       "      <td>1</td>\n",
       "    </tr>\n",
       "  </tbody>\n",
       "</table>\n",
       "</div>"
      ],
      "text/plain": [
       "              title               person category  oscar_noms\n",
       "0         The Noose  Richard Barthelmess    ACTOR           1\n",
       "1  The Last Command        Emil Jannings    ACTOR           2\n",
       "2   A Ship Comes In       Louise Dresser  ACTRESS           1"
      ]
     },
     "execution_count": 56,
     "metadata": {},
     "output_type": "execute_result"
    }
   ],
   "source": [
    "# subset the relevant data from Oscars df. Rename columns, drop rows with no movie title\n",
    "oscars = oscars_raw.loc[:,['film','name', 'category']]\n",
    "oscars.rename(columns={'film': 'title', 'name': 'person'}, inplace=True)\n",
    "oscars.drop(oscars[oscars['title'].isnull()].index, inplace=True)\n",
    "\n",
    "\n",
    "# create column for total number of oscar nominations per movie\n",
    "counts = oscars['title'].value_counts()\n",
    "d = counts.to_dict()\n",
    "oscars['oscar_noms'] = oscars['title'].map(d)\n",
    "oscars.head(3)"
   ]
  },
  {
   "cell_type": "markdown",
   "metadata": {},
   "source": [
    "<br>"
   ]
  },
  {
   "cell_type": "markdown",
   "metadata": {},
   "source": [
    "## Reshape the Genre values\n",
    "Genres were originally formatted as a comma-delimited string (ie 'Action, Crime, Drama'.) We reformatted this to give each genre its own row in the table."
   ]
  },
  {
   "cell_type": "code",
   "execution_count": 57,
   "metadata": {},
   "outputs": [
    {
     "data": {
      "text/html": [
       "<div>\n",
       "<style scoped>\n",
       "    .dataframe tbody tr th:only-of-type {\n",
       "        vertical-align: middle;\n",
       "    }\n",
       "\n",
       "    .dataframe tbody tr th {\n",
       "        vertical-align: top;\n",
       "    }\n",
       "\n",
       "    .dataframe thead th {\n",
       "        text-align: right;\n",
       "    }\n",
       "</style>\n",
       "<table border=\"1\" class=\"dataframe\">\n",
       "  <thead>\n",
       "    <tr style=\"text-align: right;\">\n",
       "      <th></th>\n",
       "      <th>primary_title</th>\n",
       "      <th>genres</th>\n",
       "    </tr>\n",
       "  </thead>\n",
       "  <tbody>\n",
       "    <tr>\n",
       "      <th>0</th>\n",
       "      <td>Sunghursh</td>\n",
       "      <td>Action</td>\n",
       "    </tr>\n",
       "    <tr>\n",
       "      <th>1</th>\n",
       "      <td>Sunghursh</td>\n",
       "      <td>Crime</td>\n",
       "    </tr>\n",
       "    <tr>\n",
       "      <th>2</th>\n",
       "      <td>Sunghursh</td>\n",
       "      <td>Drama</td>\n",
       "    </tr>\n",
       "  </tbody>\n",
       "</table>\n",
       "</div>"
      ],
      "text/plain": [
       "  primary_title  genres\n",
       "0     Sunghursh  Action\n",
       "1     Sunghursh   Crime\n",
       "2     Sunghursh   Drama"
      ]
     },
     "execution_count": 57,
     "metadata": {},
     "output_type": "execute_result"
    }
   ],
   "source": [
    "# Unstacking Genre column to create individual rows (takes a while to run cell)\n",
    "genre_ugly = genre_raw\n",
    "genre_ugly['genres'] = genre_ugly['genres'].str.split(',', 3)\n",
    "genre_unstack = genre_ugly.set_index('primary_title').genres.apply(pd.Series).stack().reset_index(level=-1, drop=True).astype(str).reset_index()\n",
    "genre_unstack.columns = ['primary_title', 'genres']\n",
    "genre_unstack.head(3)"
   ]
  },
  {
   "cell_type": "markdown",
   "metadata": {},
   "source": [
    "<br>"
   ]
  },
  {
   "cell_type": "markdown",
   "metadata": {},
   "source": [
    "## Merge Oscars table with Genre table"
   ]
  },
  {
   "cell_type": "code",
   "execution_count": 58,
   "metadata": {},
   "outputs": [
    {
     "data": {
      "text/html": [
       "<div>\n",
       "<style scoped>\n",
       "    .dataframe tbody tr th:only-of-type {\n",
       "        vertical-align: middle;\n",
       "    }\n",
       "\n",
       "    .dataframe tbody tr th {\n",
       "        vertical-align: top;\n",
       "    }\n",
       "\n",
       "    .dataframe thead th {\n",
       "        text-align: right;\n",
       "    }\n",
       "</style>\n",
       "<table border=\"1\" class=\"dataframe\">\n",
       "  <thead>\n",
       "    <tr style=\"text-align: right;\">\n",
       "      <th></th>\n",
       "      <th>title</th>\n",
       "      <th>person</th>\n",
       "      <th>category</th>\n",
       "      <th>oscar_noms</th>\n",
       "      <th>genres</th>\n",
       "    </tr>\n",
       "  </thead>\n",
       "  <tbody>\n",
       "    <tr>\n",
       "      <th>0</th>\n",
       "      <td>The Noose</td>\n",
       "      <td>Richard Barthelmess</td>\n",
       "      <td>ACTOR</td>\n",
       "      <td>1</td>\n",
       "      <td>Documentary</td>\n",
       "    </tr>\n",
       "    <tr>\n",
       "      <th>1</th>\n",
       "      <td>The Last Command</td>\n",
       "      <td>Emil Jannings</td>\n",
       "      <td>ACTOR</td>\n",
       "      <td>2</td>\n",
       "      <td>NaN</td>\n",
       "    </tr>\n",
       "    <tr>\n",
       "      <th>2</th>\n",
       "      <td>A Ship Comes In</td>\n",
       "      <td>Louise Dresser</td>\n",
       "      <td>ACTRESS</td>\n",
       "      <td>1</td>\n",
       "      <td>NaN</td>\n",
       "    </tr>\n",
       "  </tbody>\n",
       "</table>\n",
       "</div>"
      ],
      "text/plain": [
       "              title               person category  oscar_noms       genres\n",
       "0         The Noose  Richard Barthelmess    ACTOR           1  Documentary\n",
       "1  The Last Command        Emil Jannings    ACTOR           2          NaN\n",
       "2   A Ship Comes In       Louise Dresser  ACTRESS           1          NaN"
      ]
     },
     "execution_count": 58,
     "metadata": {},
     "output_type": "execute_result"
    }
   ],
   "source": [
    "oscar_genre = oscars.merge(genre_unstack, how = 'left', left_on='title', right_on='primary_title').drop('primary_title', axis=1)\n",
    "oscar_genre.head(3)"
   ]
  },
  {
   "cell_type": "markdown",
   "metadata": {},
   "source": [
    "<br>"
   ]
  },
  {
   "cell_type": "markdown",
   "metadata": {},
   "source": [
    "## Clean Gross Revenue Table"
   ]
  },
  {
   "cell_type": "code",
   "execution_count": 59,
   "metadata": {},
   "outputs": [
    {
     "data": {
      "text/html": [
       "<div>\n",
       "<style scoped>\n",
       "    .dataframe tbody tr th:only-of-type {\n",
       "        vertical-align: middle;\n",
       "    }\n",
       "\n",
       "    .dataframe tbody tr th {\n",
       "        vertical-align: top;\n",
       "    }\n",
       "\n",
       "    .dataframe thead th {\n",
       "        text-align: right;\n",
       "    }\n",
       "</style>\n",
       "<table border=\"1\" class=\"dataframe\">\n",
       "  <thead>\n",
       "    <tr style=\"text-align: right;\">\n",
       "      <th></th>\n",
       "      <th>title</th>\n",
       "      <th>domestic_gross</th>\n",
       "      <th>foreign_gross</th>\n",
       "      <th>total_gross</th>\n",
       "    </tr>\n",
       "  </thead>\n",
       "  <tbody>\n",
       "    <tr>\n",
       "      <th>0</th>\n",
       "      <td>Toy Story 3</td>\n",
       "      <td>415000000.0</td>\n",
       "      <td>652000000.0</td>\n",
       "      <td>1.067000e+09</td>\n",
       "    </tr>\n",
       "    <tr>\n",
       "      <th>1</th>\n",
       "      <td>Alice in Wonderland (2010)</td>\n",
       "      <td>334200000.0</td>\n",
       "      <td>691300000.0</td>\n",
       "      <td>1.025500e+09</td>\n",
       "    </tr>\n",
       "    <tr>\n",
       "      <th>2</th>\n",
       "      <td>Harry Potter and the Deathly Hallows Part 1</td>\n",
       "      <td>296000000.0</td>\n",
       "      <td>664300000.0</td>\n",
       "      <td>9.603000e+08</td>\n",
       "    </tr>\n",
       "  </tbody>\n",
       "</table>\n",
       "</div>"
      ],
      "text/plain": [
       "                                         title  domestic_gross  foreign_gross  \\\n",
       "0                                  Toy Story 3     415000000.0    652000000.0   \n",
       "1                   Alice in Wonderland (2010)     334200000.0    691300000.0   \n",
       "2  Harry Potter and the Deathly Hallows Part 1     296000000.0    664300000.0   \n",
       "\n",
       "    total_gross  \n",
       "0  1.067000e+09  \n",
       "1  1.025500e+09  \n",
       "2  9.603000e+08  "
      ]
     },
     "execution_count": 59,
     "metadata": {},
     "output_type": "execute_result"
    }
   ],
   "source": [
    "# subset relevant data, change strings to floats\n",
    "movie_gross = movie_gross_raw.loc[:, ['title', 'domestic_gross', 'foreign_gross']]\n",
    "movie_gross['foreign_gross'] = movie_gross['foreign_gross'].str.replace(',','').astype(float)\n",
    "movie_gross['total_gross'] = movie_gross.domestic_gross + movie_gross.foreign_gross\n",
    "movie_gross.head(3)"
   ]
  },
  {
   "cell_type": "markdown",
   "metadata": {},
   "source": [
    "<br>"
   ]
  },
  {
   "cell_type": "markdown",
   "metadata": {},
   "source": [
    " ## Clean Budgets Table"
   ]
  },
  {
   "cell_type": "code",
   "execution_count": 60,
   "metadata": {},
   "outputs": [
    {
     "data": {
      "text/html": [
       "<div>\n",
       "<style scoped>\n",
       "    .dataframe tbody tr th:only-of-type {\n",
       "        vertical-align: middle;\n",
       "    }\n",
       "\n",
       "    .dataframe tbody tr th {\n",
       "        vertical-align: top;\n",
       "    }\n",
       "\n",
       "    .dataframe thead th {\n",
       "        text-align: right;\n",
       "    }\n",
       "</style>\n",
       "<table border=\"1\" class=\"dataframe\">\n",
       "  <thead>\n",
       "    <tr style=\"text-align: right;\">\n",
       "      <th></th>\n",
       "      <th>title</th>\n",
       "      <th>production_budget</th>\n",
       "      <th>domestic_gross</th>\n",
       "      <th>total_gross</th>\n",
       "    </tr>\n",
       "  </thead>\n",
       "  <tbody>\n",
       "    <tr>\n",
       "      <th>0</th>\n",
       "      <td>Avatar</td>\n",
       "      <td>425000000.0</td>\n",
       "      <td>760507625.0</td>\n",
       "      <td>2.776345e+09</td>\n",
       "    </tr>\n",
       "    <tr>\n",
       "      <th>1</th>\n",
       "      <td>Pirates of the Caribbean: On Stranger Tides</td>\n",
       "      <td>410600000.0</td>\n",
       "      <td>241063875.0</td>\n",
       "      <td>1.045664e+09</td>\n",
       "    </tr>\n",
       "    <tr>\n",
       "      <th>2</th>\n",
       "      <td>Dark Phoenix</td>\n",
       "      <td>350000000.0</td>\n",
       "      <td>42762350.0</td>\n",
       "      <td>1.497624e+08</td>\n",
       "    </tr>\n",
       "  </tbody>\n",
       "</table>\n",
       "</div>"
      ],
      "text/plain": [
       "                                         title  production_budget  \\\n",
       "0                                       Avatar        425000000.0   \n",
       "1  Pirates of the Caribbean: On Stranger Tides        410600000.0   \n",
       "2                                 Dark Phoenix        350000000.0   \n",
       "\n",
       "   domestic_gross   total_gross  \n",
       "0     760507625.0  2.776345e+09  \n",
       "1     241063875.0  1.045664e+09  \n",
       "2      42762350.0  1.497624e+08  "
      ]
     },
     "execution_count": 60,
     "metadata": {},
     "output_type": "execute_result"
    }
   ],
   "source": [
    "# subset relevant data, change strings to floats\n",
    "budgets = budgets_raw.loc[:,['movie', 'production_budget', 'domestic_gross', 'worldwide_gross']]\n",
    "budgets.rename(columns={'movie': 'title', 'worldwide_gross':'total_gross'}, inplace=True)\n",
    "budgets['production_budget'] = budgets['production_budget'].str.replace('$','')\n",
    "budgets['production_budget'] = budgets['production_budget'].str.replace(',','').astype(float)\n",
    "budgets['domestic_gross'] = budgets['domestic_gross'].str.replace('$','')\n",
    "budgets['domestic_gross'] = budgets['domestic_gross'].str.replace(',','').astype(float)\n",
    "budgets['total_gross'] = budgets['total_gross'].str.replace('$','')\n",
    "budgets['total_gross'] = budgets['total_gross'].str.replace(',','').astype(float)\n",
    "budgets.head(3)"
   ]
  },
  {
   "cell_type": "markdown",
   "metadata": {},
   "source": [
    "<br>"
   ]
  },
  {
   "cell_type": "markdown",
   "metadata": {},
   "source": [
    "## Concatenate Gross Revenue Table with Budgets Table"
   ]
  },
  {
   "cell_type": "code",
   "execution_count": 61,
   "metadata": {},
   "outputs": [
    {
     "data": {
      "text/html": [
       "<div>\n",
       "<style scoped>\n",
       "    .dataframe tbody tr th:only-of-type {\n",
       "        vertical-align: middle;\n",
       "    }\n",
       "\n",
       "    .dataframe tbody tr th {\n",
       "        vertical-align: top;\n",
       "    }\n",
       "\n",
       "    .dataframe thead th {\n",
       "        text-align: right;\n",
       "    }\n",
       "</style>\n",
       "<table border=\"1\" class=\"dataframe\">\n",
       "  <thead>\n",
       "    <tr style=\"text-align: right;\">\n",
       "      <th></th>\n",
       "      <th>domestic_gross</th>\n",
       "      <th>foreign_gross</th>\n",
       "      <th>production_budget</th>\n",
       "      <th>title</th>\n",
       "      <th>total_gross</th>\n",
       "      <th>roi</th>\n",
       "    </tr>\n",
       "  </thead>\n",
       "  <tbody>\n",
       "    <tr>\n",
       "      <th>2812</th>\n",
       "      <td>15285588.0</td>\n",
       "      <td>NaN</td>\n",
       "      <td>18000000.0</td>\n",
       "      <td>Youth in Revolt</td>\n",
       "      <td>19685588.0</td>\n",
       "      <td>9.36</td>\n",
       "    </tr>\n",
       "    <tr>\n",
       "      <th>2312</th>\n",
       "      <td>1190003.0</td>\n",
       "      <td>NaN</td>\n",
       "      <td>25000000.0</td>\n",
       "      <td>Me and Orson Welles</td>\n",
       "      <td>1190003.0</td>\n",
       "      <td>-95.24</td>\n",
       "    </tr>\n",
       "    <tr>\n",
       "      <th>4323</th>\n",
       "      <td>8886160.0</td>\n",
       "      <td>NaN</td>\n",
       "      <td>5000000.0</td>\n",
       "      <td>Saved!</td>\n",
       "      <td>10206551.0</td>\n",
       "      <td>104.13</td>\n",
       "    </tr>\n",
       "  </tbody>\n",
       "</table>\n",
       "</div>"
      ],
      "text/plain": [
       "      domestic_gross  foreign_gross  production_budget                title  \\\n",
       "2812      15285588.0            NaN         18000000.0      Youth in Revolt   \n",
       "2312       1190003.0            NaN         25000000.0  Me and Orson Welles   \n",
       "4323       8886160.0            NaN          5000000.0               Saved!   \n",
       "\n",
       "      total_gross     roi  \n",
       "2812   19685588.0    9.36  \n",
       "2312    1190003.0  -95.24  \n",
       "4323   10206551.0  104.13  "
      ]
     },
     "execution_count": 61,
     "metadata": {},
     "output_type": "execute_result"
    }
   ],
   "source": [
    "# concat gross and budget tables, create columns for total_gross and Return on Investment, drop duplicate rows\n",
    "budget_concat = pd.concat([movie_gross, budgets], sort=True)\n",
    "budget_concat['roi'] = (((budget_concat.total_gross - budget_concat.production_budget)/budget_concat.production_budget)* 100).round(2)\n",
    "budget_concat.drop_duplicates(subset=['title'],keep='last', inplace=True)\n",
    "budget_concat.sample(3)"
   ]
  },
  {
   "cell_type": "markdown",
   "metadata": {},
   "source": [
    "<br>"
   ]
  },
  {
   "cell_type": "markdown",
   "metadata": {},
   "source": [
    "## Final Oscar Nominations, Genre, and Budget DataFrame\n",
    "This is the table used as the starting point for the analysis below. Null values are retained in this table, but dropped below based on the specific metrics being compared."
   ]
  },
  {
   "cell_type": "code",
   "execution_count": 62,
   "metadata": {},
   "outputs": [
    {
     "data": {
      "text/html": [
       "<div>\n",
       "<style scoped>\n",
       "    .dataframe tbody tr th:only-of-type {\n",
       "        vertical-align: middle;\n",
       "    }\n",
       "\n",
       "    .dataframe tbody tr th {\n",
       "        vertical-align: top;\n",
       "    }\n",
       "\n",
       "    .dataframe thead th {\n",
       "        text-align: right;\n",
       "    }\n",
       "</style>\n",
       "<table border=\"1\" class=\"dataframe\">\n",
       "  <thead>\n",
       "    <tr style=\"text-align: right;\">\n",
       "      <th></th>\n",
       "      <th>oscar_noms</th>\n",
       "      <th>genres</th>\n",
       "      <th>production_budget</th>\n",
       "      <th>total_gross</th>\n",
       "      <th>roi</th>\n",
       "    </tr>\n",
       "    <tr>\n",
       "      <th>title</th>\n",
       "      <th></th>\n",
       "      <th></th>\n",
       "      <th></th>\n",
       "      <th></th>\n",
       "      <th></th>\n",
       "    </tr>\n",
       "  </thead>\n",
       "  <tbody>\n",
       "    <tr>\n",
       "      <th>A Star Is Born</th>\n",
       "      <td>25</td>\n",
       "      <td>Romance</td>\n",
       "      <td>NaN</td>\n",
       "      <td>NaN</td>\n",
       "      <td>NaN</td>\n",
       "    </tr>\n",
       "    <tr>\n",
       "      <th>A Star Is Born</th>\n",
       "      <td>25</td>\n",
       "      <td>Drama</td>\n",
       "      <td>NaN</td>\n",
       "      <td>NaN</td>\n",
       "      <td>NaN</td>\n",
       "    </tr>\n",
       "    <tr>\n",
       "      <th>A Star Is Born</th>\n",
       "      <td>25</td>\n",
       "      <td>Music</td>\n",
       "      <td>NaN</td>\n",
       "      <td>NaN</td>\n",
       "      <td>NaN</td>\n",
       "    </tr>\n",
       "    <tr>\n",
       "      <th>Titanic</th>\n",
       "      <td>16</td>\n",
       "      <td>Family</td>\n",
       "      <td>200000000.0</td>\n",
       "      <td>2.208208e+09</td>\n",
       "      <td>1004.10</td>\n",
       "    </tr>\n",
       "    <tr>\n",
       "      <th>Titanic</th>\n",
       "      <td>16</td>\n",
       "      <td>Adventure</td>\n",
       "      <td>200000000.0</td>\n",
       "      <td>2.208208e+09</td>\n",
       "      <td>1004.10</td>\n",
       "    </tr>\n",
       "    <tr>\n",
       "      <th>...</th>\n",
       "      <td>...</td>\n",
       "      <td>...</td>\n",
       "      <td>...</td>\n",
       "      <td>...</td>\n",
       "      <td>...</td>\n",
       "    </tr>\n",
       "    <tr>\n",
       "      <th>Evolution</th>\n",
       "      <td>1</td>\n",
       "      <td>Mystery</td>\n",
       "      <td>80000000.0</td>\n",
       "      <td>9.834193e+07</td>\n",
       "      <td>22.93</td>\n",
       "    </tr>\n",
       "    <tr>\n",
       "      <th>Evolution</th>\n",
       "      <td>1</td>\n",
       "      <td>Drama</td>\n",
       "      <td>80000000.0</td>\n",
       "      <td>9.834193e+07</td>\n",
       "      <td>22.93</td>\n",
       "    </tr>\n",
       "    <tr>\n",
       "      <th>The Crunch Bird</th>\n",
       "      <td>1</td>\n",
       "      <td>NaN</td>\n",
       "      <td>NaN</td>\n",
       "      <td>NaN</td>\n",
       "      <td>NaN</td>\n",
       "    </tr>\n",
       "    <tr>\n",
       "      <th>Bless the Beasts &amp; Children</th>\n",
       "      <td>1</td>\n",
       "      <td>NaN</td>\n",
       "      <td>NaN</td>\n",
       "      <td>NaN</td>\n",
       "      <td>NaN</td>\n",
       "    </tr>\n",
       "    <tr>\n",
       "      <th>Knives Out</th>\n",
       "      <td>1</td>\n",
       "      <td>Mystery</td>\n",
       "      <td>NaN</td>\n",
       "      <td>NaN</td>\n",
       "      <td>NaN</td>\n",
       "    </tr>\n",
       "  </tbody>\n",
       "</table>\n",
       "<p>6646 rows × 5 columns</p>\n",
       "</div>"
      ],
      "text/plain": [
       "                             oscar_noms     genres  production_budget  \\\n",
       "title                                                                   \n",
       "A Star Is Born                       25    Romance                NaN   \n",
       "A Star Is Born                       25      Drama                NaN   \n",
       "A Star Is Born                       25      Music                NaN   \n",
       "Titanic                              16     Family        200000000.0   \n",
       "Titanic                              16  Adventure        200000000.0   \n",
       "...                                 ...        ...                ...   \n",
       "Evolution                             1    Mystery         80000000.0   \n",
       "Evolution                             1      Drama         80000000.0   \n",
       "The Crunch Bird                       1        NaN                NaN   \n",
       "Bless the Beasts & Children           1        NaN                NaN   \n",
       "Knives Out                            1    Mystery                NaN   \n",
       "\n",
       "                              total_gross      roi  \n",
       "title                                               \n",
       "A Star Is Born                        NaN      NaN  \n",
       "A Star Is Born                        NaN      NaN  \n",
       "A Star Is Born                        NaN      NaN  \n",
       "Titanic                      2.208208e+09  1004.10  \n",
       "Titanic                      2.208208e+09  1004.10  \n",
       "...                                   ...      ...  \n",
       "Evolution                    9.834193e+07    22.93  \n",
       "Evolution                    9.834193e+07    22.93  \n",
       "The Crunch Bird                       NaN      NaN  \n",
       "Bless the Beasts & Children           NaN      NaN  \n",
       "Knives Out                            NaN      NaN  \n",
       "\n",
       "[6646 rows x 5 columns]"
      ]
     },
     "execution_count": 62,
     "metadata": {},
     "output_type": "execute_result"
    }
   ],
   "source": [
    "# subset the oscars table, drop duplicate listings\n",
    "oscar_df = oscar_genre.loc[:,['title', \"oscar_noms\", 'genres']]\n",
    "oscar_df.drop_duplicates(inplace=True)\n",
    "\n",
    "# merged genre/oscar table with budgets (used Left Join to retain all Oscar data)\n",
    "oscar_df = oscar_df.merge(budget_concat[['title','production_budget', \"total_gross\", 'roi']], on='title', how='left').set_index('title')\n",
    "oscar_df.sort_values('oscar_noms', ascending=False)"
   ]
  },
  {
   "cell_type": "markdown",
   "metadata": {},
   "source": [
    "<br>"
   ]
  },
  {
   "cell_type": "markdown",
   "metadata": {},
   "source": [
    "# Question 1 Analysis "
   ]
  },
  {
   "cell_type": "markdown",
   "metadata": {},
   "source": [
    "## Oscar Nominations vs. Total Gross Revenue\n",
    "#### This figure plots films' total gross revenue against their Oscar nomination count. There is a slight positive correlation, indicating a relationship between gross revenue and number of nominations. This loosely suggests that higher grossing films tend to get more Oscar nominations."
   ]
  },
  {
   "cell_type": "code",
   "execution_count": 63,
   "metadata": {},
   "outputs": [
    {
     "data": {
      "image/png": "[encoded data removed]",
      "text/plain": [
       "<Figure size 648x648 with 1 Axes>"
      ]
     },
     "metadata": {},
     "output_type": "display_data"
    }
   ],
   "source": [
    "x ='oscar_noms'\n",
    "y = 'total_gross'\n",
    "\n",
    "# drop duplicates, nulls values, and 3 outliers with highest Total Gross Revenue (Avatar, Titanic, and Avengers: Infinity War)\n",
    "noms_vs_budget = oscar_df.loc[:,[x, y]].drop_duplicates().sort_values(y).dropna(subset=['total_gross'])[:-3] \n",
    "\n",
    "sns.set(rc={'figure.figsize':(9,9)});\n",
    "sns.regplot(x,y, data = noms_vs_budget);\n",
    "plt.title('Nominations vs. Total Gross',fontsize=18);\n",
    "plt.xlabel('Oscar Nominations', fontsize=14);\n",
    "plt.ylabel('Gross Revenue', fontsize=14);"
   ]
  },
  {
   "cell_type": "markdown",
   "metadata": {},
   "source": [
    "<br>"
   ]
  },
  {
   "cell_type": "markdown",
   "metadata": {},
   "source": [
    "## Removing Gross Revenue Outliers"
   ]
  },
  {
   "cell_type": "code",
   "execution_count": 64,
   "metadata": {},
   "outputs": [
    {
     "data": {
      "image/png": "[encoded data removed]",
      "text/plain": [
       "<Figure size 1080x72 with 1 Axes>"
      ]
     },
     "metadata": {},
     "output_type": "display_data"
    }
   ],
   "source": [
    "# drop outliers by excluding upper quartile\n",
    "gross = oscar_df[oscar_df[\"total_gross\"].between(*oscar_df.total_gross.quantile([0.1, 0.75]).tolist())]\n",
    "\n",
    "# check boxplot to verify outliers are gone\n",
    "sns.set(rc={'figure.figsize':(15,1)});\n",
    "sns.boxplot(data=gross, x='total_gross');"
   ]
  },
  {
   "cell_type": "markdown",
   "metadata": {},
   "source": [
    "<br>"
   ]
  },
  {
   "cell_type": "markdown",
   "metadata": {},
   "source": [
    "## Total Gross Revenue, By Genre\n",
    "#### This figure plots total gross revenue, summed and grouped by genre. The top three grossing genres from the data are Drama, Comedy, and Biographies. This suggests that these three genres tend to generate the most revenue."
   ]
  },
  {
   "cell_type": "code",
   "execution_count": 65,
   "metadata": {
    "scrolled": false
   },
   "outputs": [
    {
     "data": {
      "image/png": "[encoded data removed]",
      "text/plain": [
       "<Figure size 648x576 with 1 Axes>"
      ]
     },
     "metadata": {},
     "output_type": "display_data"
    }
   ],
   "source": [
    "genre_gross = gross.groupby(['genres'])['total_gross'].sum().reset_index().sort_values('total_gross', ascending=False)\n",
    "\n",
    "sns.set(rc={'figure.figsize':(9,8)})\n",
    "plot = sns.barplot('total_gross','genres' , data = genre_gross, order= genre_gross['genres'], palette='ocean');\n",
    "plot.set_title('Gross Revenue, By Genre',fontsize=18);\n",
    "plt.xlabel('Gross Revenue', fontsize=14);\n",
    "plt.ylabel('Genre', fontsize=14);"
   ]
  },
  {
   "cell_type": "markdown",
   "metadata": {},
   "source": [
    "<br>"
   ]
  },
  {
   "cell_type": "markdown",
   "metadata": {},
   "source": [
    "## Oscar Nominations, By Genre\n",
    "#### This figure plots Oscar nomination count, summed and grouped by genre. The three genres from the data with the highest number of Oscar nominations are Drama, Documentary, and Comedy. This suggests that films falling into these three genres tend to get nominated the most for Oscar awards."
   ]
  },
  {
   "cell_type": "code",
   "execution_count": 14,
   "metadata": {},
   "outputs": [
    {
     "data": {
      "image/png": "[encoded data removed]",
      "text/plain": [
       "<Figure size 648x576 with 1 Axes>"
      ]
     },
     "metadata": {},
     "output_type": "display_data"
    }
   ],
   "source": [
    "genre_noms = oscar_df.groupby(['genres'])['oscar_noms'].sum().reset_index().sort_values('oscar_noms', ascending=False)\n",
    "\n",
    "sns.set(rc={'figure.figsize':(9,8)})\n",
    "plot = sns.barplot('oscar_noms','genres' , data = genre_noms, order= genre_noms['genres'], palette='rocket');\n",
    "plot.set_title('Oscar Nominations, By Genre',fontsize=18);\n",
    "plt.xlabel('Oscar Nominations', fontsize=14);\n",
    "plt.ylabel('Genre', fontsize=14);"
   ]
  },
  {
   "cell_type": "markdown",
   "metadata": {},
   "source": [
    "<br>"
   ]
  },
  {
   "cell_type": "markdown",
   "metadata": {},
   "source": [
    "## Question 1 Conclusion: \n",
    "### The above analysis suggests that two genres, Dramas and Comedies, historically perform the best in both criteria of successful movies that we measured (gross revenue and Oscar nominations.) Based on this, our recommendation to Microsoft is to produce Dramas and Comedies for the most success at the Box Office and at the Academy Awards."
   ]
  },
  {
   "cell_type": "markdown",
   "metadata": {},
   "source": [
    "<br>"
   ]
  },
  {
   "cell_type": "markdown",
   "metadata": {},
   "source": [
    "# Question 2: How does Trailer Popularity Impact Movie Success?\n",
    "This question explores the relationship between movie budget, and Box Office success. A portion of movie budget is spent on marketing efforts, such as the movie trailer. If there is a relationship between movie trailer popularity and Box Office success, this could indicate that marketing effors (such as movie trailers) have a significant impact on revenue, and that \"Microsoft\" should place a higher importance on investing resources into movie trailers for their future movies.\n",
    "\n",
    "## Method:"
   ]
  },
  {
   "cell_type": "markdown",
   "metadata": {},
   "source": [
    "## Read in Movie Trailer CSV\n",
    "The movie trailer dataset includes movie titles and YouTubeID's corresponding to the film's trailer on YouTube.<br>Source: https://grouplens.org/datasets/movielens/20m-youtube/"
   ]
  },
  {
   "cell_type": "code",
   "execution_count": 15,
   "metadata": {
    "scrolled": true
   },
   "outputs": [
    {
     "data": {
      "text/html": [
       "<div>\n",
       "<style scoped>\n",
       "    .dataframe tbody tr th:only-of-type {\n",
       "        vertical-align: middle;\n",
       "    }\n",
       "\n",
       "    .dataframe tbody tr th {\n",
       "        vertical-align: top;\n",
       "    }\n",
       "\n",
       "    .dataframe thead th {\n",
       "        text-align: right;\n",
       "    }\n",
       "</style>\n",
       "<table border=\"1\" class=\"dataframe\">\n",
       "  <thead>\n",
       "    <tr style=\"text-align: right;\">\n",
       "      <th></th>\n",
       "      <th>youtubeId</th>\n",
       "      <th>movieId</th>\n",
       "      <th>title</th>\n",
       "      <th>domestic_gross</th>\n",
       "      <th>foreign_gross</th>\n",
       "      <th>production_budget</th>\n",
       "      <th>total_gross</th>\n",
       "      <th>roi</th>\n",
       "    </tr>\n",
       "  </thead>\n",
       "  <tbody>\n",
       "    <tr>\n",
       "      <th>2745</th>\n",
       "      <td>5MB3Ea6L-gw</td>\n",
       "      <td>72998</td>\n",
       "      <td>Avatar</td>\n",
       "      <td>760507625.0</td>\n",
       "      <td>NaN</td>\n",
       "      <td>425000000.0</td>\n",
       "      <td>2.776345e+09</td>\n",
       "      <td>553.26</td>\n",
       "    </tr>\n",
       "    <tr>\n",
       "      <th>458</th>\n",
       "      <td>dQ7MAigAhas</td>\n",
       "      <td>3404</td>\n",
       "      <td>Titanic</td>\n",
       "      <td>659363944.0</td>\n",
       "      <td>NaN</td>\n",
       "      <td>200000000.0</td>\n",
       "      <td>2.208208e+09</td>\n",
       "      <td>1004.10</td>\n",
       "    </tr>\n",
       "    <tr>\n",
       "      <th>457</th>\n",
       "      <td>2e-eXJ6HgkQ</td>\n",
       "      <td>1721</td>\n",
       "      <td>Titanic</td>\n",
       "      <td>659363944.0</td>\n",
       "      <td>NaN</td>\n",
       "      <td>200000000.0</td>\n",
       "      <td>2.208208e+09</td>\n",
       "      <td>1004.10</td>\n",
       "    </tr>\n",
       "    <tr>\n",
       "      <th>459</th>\n",
       "      <td>yxIVO7P0iig</td>\n",
       "      <td>118916</td>\n",
       "      <td>Titanic</td>\n",
       "      <td>659363944.0</td>\n",
       "      <td>NaN</td>\n",
       "      <td>200000000.0</td>\n",
       "      <td>2.208208e+09</td>\n",
       "      <td>1004.10</td>\n",
       "    </tr>\n",
       "    <tr>\n",
       "      <th>2798</th>\n",
       "      <td>tck0UR2ppjg</td>\n",
       "      <td>82452</td>\n",
       "      <td>Frozen</td>\n",
       "      <td>400738009.0</td>\n",
       "      <td>NaN</td>\n",
       "      <td>150000000.0</td>\n",
       "      <td>1.272470e+09</td>\n",
       "      <td>748.31</td>\n",
       "    </tr>\n",
       "  </tbody>\n",
       "</table>\n",
       "</div>"
      ],
      "text/plain": [
       "        youtubeId  movieId    title  domestic_gross  foreign_gross  \\\n",
       "2745  5MB3Ea6L-gw    72998   Avatar     760507625.0            NaN   \n",
       "458   dQ7MAigAhas     3404  Titanic     659363944.0            NaN   \n",
       "457   2e-eXJ6HgkQ     1721  Titanic     659363944.0            NaN   \n",
       "459   yxIVO7P0iig   118916  Titanic     659363944.0            NaN   \n",
       "2798  tck0UR2ppjg    82452   Frozen     400738009.0            NaN   \n",
       "\n",
       "      production_budget   total_gross      roi  \n",
       "2745        425000000.0  2.776345e+09   553.26  \n",
       "458         200000000.0  2.208208e+09  1004.10  \n",
       "457         200000000.0  2.208208e+09  1004.10  \n",
       "459         200000000.0  2.208208e+09  1004.10  \n",
       "2798        150000000.0  1.272470e+09   748.31  "
      ]
     },
     "execution_count": 15,
     "metadata": {},
     "output_type": "execute_result"
    }
   ],
   "source": [
    "# slice year out of title string, merge with budgets table\n",
    "trailers_raw = pd.read_csv('./zippedData/movie_trailers.zip')\n",
    "trailers_raw['title'] = trailers_raw['title'].str[:-7]\n",
    "trailers = trailers_raw.merge(budget_concat, on='title').sort_values('total_gross', ascending=False) #### remove this later\n",
    "ids = list(trailers[\"youtubeId\"].values[:])\n",
    "trailers.head()"
   ]
  },
  {
   "cell_type": "markdown",
   "metadata": {},
   "source": [
    "<br>"
   ]
  },
  {
   "cell_type": "markdown",
   "metadata": {},
   "source": [
    "## Function Passes in YouTube ID's of Trailers and Scrapes Number of Views"
   ]
  },
  {
   "cell_type": "code",
   "execution_count": 16,
   "metadata": {},
   "outputs": [],
   "source": [
    "def getViews(youtubeIDs):\n",
    "    views = []\n",
    "    for i in youtubeIDs:\n",
    "        try:\n",
    "            url = \"https://www.youtube.com/watch?v={}\".format(i)\n",
    "            html_page = requests.get(url) \n",
    "            soup = BeautifulSoup(html_page.text, 'html.parser')\n",
    "            script = soup.find_all('script')[32]\n",
    "            value = re.findall('ewCount\":{\"simpleText\":\"([\\d,]+) views', str(soup))\n",
    "            views.append(float(value[0].replace(',','')))\n",
    "        except:\n",
    "            views.append(0)\n",
    "    return views\n"
   ]
  },
  {
   "cell_type": "markdown",
   "metadata": {},
   "source": [
    "<br>"
   ]
  },
  {
   "cell_type": "markdown",
   "metadata": {},
   "source": [
    "## Scrape all YouTube Trailers and Save View Counts as CSV <br>(*Warning: takes ~1hr to run*)\n",
    "### Leave this commented out"
   ]
  },
  {
   "cell_type": "code",
   "execution_count": 17,
   "metadata": {},
   "outputs": [],
   "source": [
    "# trailers['trailer_views'] = getViews(ids)\n",
    "# trailers.to_csv('zippedData/trailerViews.csv')"
   ]
  },
  {
   "cell_type": "markdown",
   "metadata": {},
   "source": [
    "<br>"
   ]
  },
  {
   "cell_type": "markdown",
   "metadata": {},
   "source": [
    "# Construct Final Trailer Views, ROI DataFrame"
   ]
  },
  {
   "cell_type": "code",
   "execution_count": 18,
   "metadata": {
    "scrolled": true
   },
   "outputs": [
    {
     "data": {
      "text/html": [
       "<div>\n",
       "<style scoped>\n",
       "    .dataframe tbody tr th:only-of-type {\n",
       "        vertical-align: middle;\n",
       "    }\n",
       "\n",
       "    .dataframe tbody tr th {\n",
       "        vertical-align: top;\n",
       "    }\n",
       "\n",
       "    .dataframe thead th {\n",
       "        text-align: right;\n",
       "    }\n",
       "</style>\n",
       "<table border=\"1\" class=\"dataframe\">\n",
       "  <thead>\n",
       "    <tr style=\"text-align: right;\">\n",
       "      <th></th>\n",
       "      <th>youtubeId</th>\n",
       "      <th>production_budget</th>\n",
       "      <th>total_gross</th>\n",
       "      <th>roi</th>\n",
       "      <th>trailer_views</th>\n",
       "    </tr>\n",
       "    <tr>\n",
       "      <th>title</th>\n",
       "      <th></th>\n",
       "      <th></th>\n",
       "      <th></th>\n",
       "      <th></th>\n",
       "      <th></th>\n",
       "    </tr>\n",
       "  </thead>\n",
       "  <tbody>\n",
       "    <tr>\n",
       "      <th>In the Shadow of the Moon</th>\n",
       "      <td>h9d9-pHZzIE</td>\n",
       "      <td>2000000.0</td>\n",
       "      <td>2175587.0</td>\n",
       "      <td>8.78</td>\n",
       "      <td>161740.0</td>\n",
       "    </tr>\n",
       "    <tr>\n",
       "      <th>Return to Oz</th>\n",
       "      <td>CklyKCKFtwE</td>\n",
       "      <td>27000000.0</td>\n",
       "      <td>10618813.0</td>\n",
       "      <td>-60.67</td>\n",
       "      <td>0.0</td>\n",
       "    </tr>\n",
       "    <tr>\n",
       "      <th>Sublime</th>\n",
       "      <td>PwJz18hwzi0</td>\n",
       "      <td>1800000.0</td>\n",
       "      <td>0.0</td>\n",
       "      <td>-100.00</td>\n",
       "      <td>150529.0</td>\n",
       "    </tr>\n",
       "  </tbody>\n",
       "</table>\n",
       "</div>"
      ],
      "text/plain": [
       "                             youtubeId  production_budget  total_gross  \\\n",
       "title                                                                    \n",
       "In the Shadow of the Moon  h9d9-pHZzIE          2000000.0    2175587.0   \n",
       "Return to Oz               CklyKCKFtwE         27000000.0   10618813.0   \n",
       "Sublime                    PwJz18hwzi0          1800000.0          0.0   \n",
       "\n",
       "                              roi  trailer_views  \n",
       "title                                             \n",
       "In the Shadow of the Moon    8.78       161740.0  \n",
       "Return to Oz               -60.67            0.0  \n",
       "Sublime                   -100.00       150529.0  "
      ]
     },
     "execution_count": 18,
     "metadata": {},
     "output_type": "execute_result"
    }
   ],
   "source": [
    "# sort by trailer views and drop duplicates to keep only trailer with highest views\n",
    "trailer_df = pd.read_csv('zippedData/trailerViews.csv')\n",
    "trailer_df = trailer_df.loc[:,['title','youtubeId','production_budget', 'total_gross', 'roi', 'trailer_views']].sort_values('trailer_views', ascending=False)\n",
    "trailer_df = trailer_df.drop_duplicates(subset= ['title'], keep='first').set_index('title')\n",
    "trailer_df.sample(3)"
   ]
  },
  {
   "cell_type": "markdown",
   "metadata": {},
   "source": [
    "<br>"
   ]
  },
  {
   "cell_type": "markdown",
   "metadata": {},
   "source": [
    "## Production Budget vs. Return on Investment\n",
    "#### This figure plots movie production budget against the return on investment. There is a slight positive correlation, indicating that movies with a higher production budget tend to bring a higher return on investment."
   ]
  },
  {
   "cell_type": "code",
   "execution_count": 19,
   "metadata": {},
   "outputs": [
    {
     "data": {
      "image/png": "[encoded data removed]",
      "text/plain": [
       "<Figure size 576x576 with 1 Axes>"
      ]
     },
     "metadata": {},
     "output_type": "display_data"
    }
   ],
   "source": [
    "# drop outliers\n",
    "roi_no_outliers = trailer_df[trailer_df[\"roi\"].between(*trailer_df['roi'].quantile([0, 0.9]).tolist())]\n",
    "budget_no_outliers = roi_no_outliers[roi_no_outliers[\"production_budget\"].between(*roi_no_outliers['production_budget'].quantile([0, 0.9]).tolist())]\n",
    "\n",
    "plot =sns.lmplot('production_budget','roi',data = budget_no_outliers, height=8, truncate=False, fit_reg=True);\n",
    "plt.title('Production Budget vs. Return on Investment',fontsize=18);\n",
    "plt.xlabel('Production Budget', fontsize=14);\n",
    "plt.ylabel('Return on Investment', fontsize=14);"
   ]
  },
  {
   "cell_type": "markdown",
   "metadata": {},
   "source": [
    "<br>"
   ]
  },
  {
   "cell_type": "markdown",
   "metadata": {},
   "source": [
    "## Trailer Views vs. Gross Revenue\n",
    "#### This figure plots movie trailer view count against total gross revenue. The data has a slight positive correlation, indicating a relationship between movie trailer views and revenue. This suggests that movies with highly-viewed trailers on YouTube tend to have higher gross revenues."
   ]
  },
  {
   "cell_type": "code",
   "execution_count": 20,
   "metadata": {},
   "outputs": [
    {
     "data": {
      "image/png": "[encoded data removed]",
      "text/plain": [
       "<Figure size 576x576 with 1 Axes>"
      ]
     },
     "metadata": {},
     "output_type": "display_data"
    }
   ],
   "source": [
    "# drop outliers\n",
    "trailer_no_outliers = trailer_df[trailer_df[\"trailer_views\"].between(*trailer_df['trailer_views'].quantile([0.1, 0.97]).tolist())]\n",
    "gross_no_outliers = trailer_no_outliers[trailer_no_outliers[\"total_gross\"].between(*trailer_no_outliers['total_gross'].quantile([0.1, 0.99]).tolist())]\n",
    "\n",
    "\n",
    "g = sns.lmplot('trailer_views', 'total_gross', data = gross_no_outliers, truncate=False,height = 8);\n",
    "# g.set(xscale=\"log\", yscale=\"log\")\n",
    "plt.title('Movie Trailer Views vs. Gross Revenue',fontsize=18);\n",
    "plt.xlabel('Trailer Views', fontsize=14);\n",
    "plt.ylabel('Gross Revenue', fontsize=14);"
   ]
  },
  {
   "cell_type": "markdown",
   "metadata": {},
   "source": [
    "<br>"
   ]
  },
  {
   "cell_type": "markdown",
   "metadata": {},
   "source": [
    "## Question 2: Conclusion\n",
    "### The above analysis indicates that there is a positive relationship between production budget & ROI, and more specifically, a positive relationship between movie trailer views & revenue. This suggests that movies that invest more into production and marketing efforts such as movie trailers, tend to see more success at the Box Office. Based on this analysis, our recommendation to Microsoft is to invest resources into their marketing efforts, such as movie trailers."
   ]
  },
  {
   "cell_type": "markdown",
   "metadata": {},
   "source": [
    "# Question 3: Do Music Scores Contribute to Movie Success?\n",
    "\n",
    "\n",
    "The purpose of this question is to gain actionable insights on how the movie soundtrack impacts its success. The quality of the music a movie uses could make a strong impression on viewers. If choosing memorable music and influencial composers can increase success, more of the budget should be allocated toward its composure. \n",
    "\n",
    "\n",
    "## Method:\n",
    "\n",
    "\n",
    "\n",
    "\n"
   ]
  },
  {
   "cell_type": "markdown",
   "metadata": {},
   "source": [
    "## Scrape Music Reviews Page\n",
    "Source: http://www.movie-wave.net/reviews-by-title/\n",
    "<br>This dataset includes information on movie titles, composers, year, and the music score. The music score was assigned by American songwriter and musician, James Southall."
   ]
  },
  {
   "cell_type": "code",
   "execution_count": 21,
   "metadata": {},
   "outputs": [],
   "source": [
    "# Grab data within the page-content class\n",
    "time.sleep(5)\n",
    "page = requests.get(\"http://www.movie-wave.net/reviews-by-title/\")\n",
    "soup = BeautifulSoup(page.content, 'html.parser')\n",
    "content = soup.find('div', class_=\"page-content\")\n",
    "p_list = content.findAll('p') # tag where data is located"
   ]
  },
  {
   "cell_type": "code",
   "execution_count": 22,
   "metadata": {},
   "outputs": [],
   "source": [
    "# Creating a list of lists\n",
    "# Finding the title, composer, year, and score\n",
    "to_df =[]\n",
    "for p in p_list:\n",
    "    for a in p.findAll('a'):\n",
    "        try:\n",
    "           to_df.append([a.text, a.nextSibling, a.nextSibling.nextSibling.text])\n",
    "        except:\n",
    "            pass"
   ]
  },
  {
   "cell_type": "markdown",
   "metadata": {},
   "source": [
    "<br>"
   ]
  },
  {
   "cell_type": "markdown",
   "metadata": {},
   "source": [
    "## Construct Music Rating DataFrame"
   ]
  },
  {
   "cell_type": "code",
   "execution_count": 23,
   "metadata": {},
   "outputs": [],
   "source": [
    "# Set up dataframe for scraper to go into\n",
    "music_df = pd.DataFrame(to_df, columns=['title', 'composer', 'stars'])\n",
    "music_df['composer'] = music_df['composer'].str[:-7]"
   ]
  },
  {
   "cell_type": "code",
   "execution_count": 24,
   "metadata": {},
   "outputs": [
    {
     "data": {
      "text/html": [
       "<div>\n",
       "<style scoped>\n",
       "    .dataframe tbody tr th:only-of-type {\n",
       "        vertical-align: middle;\n",
       "    }\n",
       "\n",
       "    .dataframe tbody tr th {\n",
       "        vertical-align: top;\n",
       "    }\n",
       "\n",
       "    .dataframe thead th {\n",
       "        text-align: right;\n",
       "    }\n",
       "</style>\n",
       "<table border=\"1\" class=\"dataframe\">\n",
       "  <thead>\n",
       "    <tr style=\"text-align: right;\">\n",
       "      <th></th>\n",
       "      <th>title</th>\n",
       "      <th>composer</th>\n",
       "      <th>music_rating</th>\n",
       "    </tr>\n",
       "  </thead>\n",
       "  <tbody>\n",
       "    <tr>\n",
       "      <th>0</th>\n",
       "      <td>10 Cloverfield Lane</td>\n",
       "      <td>Bear McCreary</td>\n",
       "      <td>4.0</td>\n",
       "    </tr>\n",
       "    <tr>\n",
       "      <th>1</th>\n",
       "      <td>100 Rifles</td>\n",
       "      <td>Jerry Goldsmith</td>\n",
       "      <td>4.0</td>\n",
       "    </tr>\n",
       "    <tr>\n",
       "      <th>2</th>\n",
       "      <td>101 Dalmatians</td>\n",
       "      <td>Michael Kamen</td>\n",
       "      <td>4.5</td>\n",
       "    </tr>\n",
       "  </tbody>\n",
       "</table>\n",
       "</div>"
      ],
      "text/plain": [
       "                 title           composer  music_rating\n",
       "0  10 Cloverfield Lane     Bear McCreary            4.0\n",
       "1           100 Rifles   Jerry Goldsmith            4.0\n",
       "2       101 Dalmatians     Michael Kamen            4.5"
      ]
     },
     "execution_count": 24,
     "metadata": {},
     "output_type": "execute_result"
    }
   ],
   "source": [
    "# Convert astris to numerical value\n",
    "stars = list(music_df['stars'])\n",
    "mapper = {'*****':5, '**** 1/2':4.5,'****':4,'*** 1/2':3.5,'***':3,'** 1/2':2.5,'**':2,'* 1/2':1.5,'*':1}\n",
    "ratings = list(map(mapper.get, stars))\n",
    "music_df['music_rating'] = ratings\n",
    "music_df = music_df.drop('stars',axis=1)\n",
    "music_df.head(3)"
   ]
  },
  {
   "cell_type": "markdown",
   "metadata": {},
   "source": [
    "<br>"
   ]
  },
  {
   "cell_type": "markdown",
   "metadata": {},
   "source": [
    "## Compile IMDB, TMDB, and Music Ratings with Financial Data\n"
   ]
  },
  {
   "cell_type": "code",
   "execution_count": 25,
   "metadata": {},
   "outputs": [
    {
     "data": {
      "text/html": [
       "<div>\n",
       "<style scoped>\n",
       "    .dataframe tbody tr th:only-of-type {\n",
       "        vertical-align: middle;\n",
       "    }\n",
       "\n",
       "    .dataframe tbody tr th {\n",
       "        vertical-align: top;\n",
       "    }\n",
       "\n",
       "    .dataframe thead th {\n",
       "        text-align: right;\n",
       "    }\n",
       "</style>\n",
       "<table border=\"1\" class=\"dataframe\">\n",
       "  <thead>\n",
       "    <tr style=\"text-align: right;\">\n",
       "      <th></th>\n",
       "      <th>title</th>\n",
       "      <th>tmdb_rating</th>\n",
       "      <th>tmdb_votes</th>\n",
       "      <th>tmdb_popularity</th>\n",
       "      <th>total_gross</th>\n",
       "      <th>production_budget</th>\n",
       "      <th>roi</th>\n",
       "    </tr>\n",
       "  </thead>\n",
       "  <tbody>\n",
       "    <tr>\n",
       "      <th>0</th>\n",
       "      <td>Harry Potter and the Deathly Hallows: Part 1</td>\n",
       "      <td>7.7</td>\n",
       "      <td>10788</td>\n",
       "      <td>33.533</td>\n",
       "      <td>NaN</td>\n",
       "      <td>NaN</td>\n",
       "      <td>NaN</td>\n",
       "    </tr>\n",
       "    <tr>\n",
       "      <th>1</th>\n",
       "      <td>How to Train Your Dragon</td>\n",
       "      <td>7.7</td>\n",
       "      <td>7610</td>\n",
       "      <td>28.734</td>\n",
       "      <td>494870992.0</td>\n",
       "      <td>165000000.0</td>\n",
       "      <td>199.92</td>\n",
       "    </tr>\n",
       "    <tr>\n",
       "      <th>2</th>\n",
       "      <td>Iron Man 2</td>\n",
       "      <td>6.8</td>\n",
       "      <td>12368</td>\n",
       "      <td>28.515</td>\n",
       "      <td>621156389.0</td>\n",
       "      <td>170000000.0</td>\n",
       "      <td>265.39</td>\n",
       "    </tr>\n",
       "    <tr>\n",
       "      <th>3</th>\n",
       "      <td>Toy Story</td>\n",
       "      <td>7.9</td>\n",
       "      <td>10174</td>\n",
       "      <td>28.005</td>\n",
       "      <td>364545516.0</td>\n",
       "      <td>30000000.0</td>\n",
       "      <td>1115.15</td>\n",
       "    </tr>\n",
       "    <tr>\n",
       "      <th>4</th>\n",
       "      <td>Inception</td>\n",
       "      <td>8.3</td>\n",
       "      <td>22186</td>\n",
       "      <td>27.920</td>\n",
       "      <td>835524642.0</td>\n",
       "      <td>160000000.0</td>\n",
       "      <td>422.20</td>\n",
       "    </tr>\n",
       "    <tr>\n",
       "      <th>...</th>\n",
       "      <td>...</td>\n",
       "      <td>...</td>\n",
       "      <td>...</td>\n",
       "      <td>...</td>\n",
       "      <td>...</td>\n",
       "      <td>...</td>\n",
       "      <td>...</td>\n",
       "    </tr>\n",
       "    <tr>\n",
       "      <th>26512</th>\n",
       "      <td>Laboratory Conditions</td>\n",
       "      <td>0.0</td>\n",
       "      <td>1</td>\n",
       "      <td>0.600</td>\n",
       "      <td>NaN</td>\n",
       "      <td>NaN</td>\n",
       "      <td>NaN</td>\n",
       "    </tr>\n",
       "    <tr>\n",
       "      <th>26513</th>\n",
       "      <td>_EXHIBIT_84xxx_</td>\n",
       "      <td>0.0</td>\n",
       "      <td>1</td>\n",
       "      <td>0.600</td>\n",
       "      <td>NaN</td>\n",
       "      <td>NaN</td>\n",
       "      <td>NaN</td>\n",
       "    </tr>\n",
       "    <tr>\n",
       "      <th>26514</th>\n",
       "      <td>The Last One</td>\n",
       "      <td>0.0</td>\n",
       "      <td>1</td>\n",
       "      <td>0.600</td>\n",
       "      <td>NaN</td>\n",
       "      <td>NaN</td>\n",
       "      <td>NaN</td>\n",
       "    </tr>\n",
       "    <tr>\n",
       "      <th>26515</th>\n",
       "      <td>Trailer Made</td>\n",
       "      <td>0.0</td>\n",
       "      <td>1</td>\n",
       "      <td>0.600</td>\n",
       "      <td>NaN</td>\n",
       "      <td>NaN</td>\n",
       "      <td>NaN</td>\n",
       "    </tr>\n",
       "    <tr>\n",
       "      <th>26516</th>\n",
       "      <td>The Church</td>\n",
       "      <td>0.0</td>\n",
       "      <td>1</td>\n",
       "      <td>0.600</td>\n",
       "      <td>NaN</td>\n",
       "      <td>NaN</td>\n",
       "      <td>NaN</td>\n",
       "    </tr>\n",
       "  </tbody>\n",
       "</table>\n",
       "<p>26517 rows × 7 columns</p>\n",
       "</div>"
      ],
      "text/plain": [
       "                                              title  tmdb_rating  tmdb_votes  \\\n",
       "0      Harry Potter and the Deathly Hallows: Part 1          7.7       10788   \n",
       "1                          How to Train Your Dragon          7.7        7610   \n",
       "2                                        Iron Man 2          6.8       12368   \n",
       "3                                         Toy Story          7.9       10174   \n",
       "4                                         Inception          8.3       22186   \n",
       "...                                             ...          ...         ...   \n",
       "26512                         Laboratory Conditions          0.0           1   \n",
       "26513                               _EXHIBIT_84xxx_          0.0           1   \n",
       "26514                                  The Last One          0.0           1   \n",
       "26515                                  Trailer Made          0.0           1   \n",
       "26516                                    The Church          0.0           1   \n",
       "\n",
       "       tmdb_popularity  total_gross  production_budget      roi  \n",
       "0               33.533          NaN                NaN      NaN  \n",
       "1               28.734  494870992.0        165000000.0   199.92  \n",
       "2               28.515  621156389.0        170000000.0   265.39  \n",
       "3               28.005  364545516.0         30000000.0  1115.15  \n",
       "4               27.920  835524642.0        160000000.0   422.20  \n",
       "...                ...          ...                ...      ...  \n",
       "26512            0.600          NaN                NaN      NaN  \n",
       "26513            0.600          NaN                NaN      NaN  \n",
       "26514            0.600          NaN                NaN      NaN  \n",
       "26515            0.600          NaN                NaN      NaN  \n",
       "26516            0.600          NaN                NaN      NaN  \n",
       "\n",
       "[26517 rows x 7 columns]"
      ]
     },
     "execution_count": 25,
     "metadata": {},
     "output_type": "execute_result"
    }
   ],
   "source": [
    "# tmdb merge with finances\n",
    "tmdb = tmdb_raw.merge(budget_concat[['title', 'total_gross','production_budget', 'roi']], on='title', how='left')\n",
    "tmdb.rename(columns ={'popularity':'tmdb_popularity', 'vote_average': 'tmdb_rating', 'vote_count': 'tmdb_votes'}, inplace=True)\n",
    "tmdb = tmdb.loc[:,['title', 'tmdb_rating', 'tmdb_votes', 'tmdb_popularity', 'total_gross', 'production_budget', 'roi']]\n",
    "tmdb"
   ]
  },
  {
   "cell_type": "code",
   "execution_count": 26,
   "metadata": {},
   "outputs": [
    {
     "data": {
      "text/html": [
       "<div>\n",
       "<style scoped>\n",
       "    .dataframe tbody tr th:only-of-type {\n",
       "        vertical-align: middle;\n",
       "    }\n",
       "\n",
       "    .dataframe tbody tr th {\n",
       "        vertical-align: top;\n",
       "    }\n",
       "\n",
       "    .dataframe thead th {\n",
       "        text-align: right;\n",
       "    }\n",
       "</style>\n",
       "<table border=\"1\" class=\"dataframe\">\n",
       "  <thead>\n",
       "    <tr style=\"text-align: right;\">\n",
       "      <th></th>\n",
       "      <th>title</th>\n",
       "      <th>imdb_rating</th>\n",
       "      <th>imdb_votes</th>\n",
       "      <th>tmdb_rating</th>\n",
       "      <th>tmdb_votes</th>\n",
       "      <th>tmdb_popularity</th>\n",
       "      <th>total_gross</th>\n",
       "      <th>production_budget</th>\n",
       "      <th>roi</th>\n",
       "    </tr>\n",
       "  </thead>\n",
       "  <tbody>\n",
       "    <tr>\n",
       "      <th>191214</th>\n",
       "      <td>Desautorizados</td>\n",
       "      <td>5.2</td>\n",
       "      <td>23</td>\n",
       "      <td>NaN</td>\n",
       "      <td>NaN</td>\n",
       "      <td>NaN</td>\n",
       "      <td>NaN</td>\n",
       "      <td>NaN</td>\n",
       "      <td>NaN</td>\n",
       "    </tr>\n",
       "    <tr>\n",
       "      <th>101261</th>\n",
       "      <td>Jane</td>\n",
       "      <td>7.8</td>\n",
       "      <td>3018</td>\n",
       "      <td>6.0</td>\n",
       "      <td>1.0</td>\n",
       "      <td>1.8</td>\n",
       "      <td>NaN</td>\n",
       "      <td>NaN</td>\n",
       "      <td>NaN</td>\n",
       "    </tr>\n",
       "    <tr>\n",
       "      <th>41249</th>\n",
       "      <td>Merry-Go-Round</td>\n",
       "      <td>6.6</td>\n",
       "      <td>650</td>\n",
       "      <td>NaN</td>\n",
       "      <td>NaN</td>\n",
       "      <td>NaN</td>\n",
       "      <td>NaN</td>\n",
       "      <td>NaN</td>\n",
       "      <td>NaN</td>\n",
       "    </tr>\n",
       "  </tbody>\n",
       "</table>\n",
       "</div>"
      ],
      "text/plain": [
       "                 title  imdb_rating  imdb_votes  tmdb_rating  tmdb_votes  \\\n",
       "191214  Desautorizados          5.2          23          NaN         NaN   \n",
       "101261            Jane          7.8        3018          6.0         1.0   \n",
       "41249   Merry-Go-Round          6.6         650          NaN         NaN   \n",
       "\n",
       "        tmdb_popularity  total_gross  production_budget  roi  \n",
       "191214              NaN          NaN                NaN  NaN  \n",
       "101261              1.8          NaN                NaN  NaN  \n",
       "41249               NaN          NaN                NaN  NaN  "
      ]
     },
     "execution_count": 26,
     "metadata": {},
     "output_type": "execute_result"
    }
   ],
   "source": [
    "# Adding in imdb dataframe\n",
    "imdb = imdb_raw.merge(titles_raw,left_on ='tconst', right_on ='title_id')\n",
    "imdb.rename(columns ={'averagerating':'imdb_rating', 'numvotes': 'imdb_votes'}, inplace=True)\n",
    "imdb = imdb[['title', 'imdb_rating', 'imdb_votes' ]]\n",
    "ratings = imdb.merge(tmdb, on='title', how='left')\n",
    "ratings.sample(3)"
   ]
  },
  {
   "cell_type": "code",
   "execution_count": 27,
   "metadata": {},
   "outputs": [
    {
     "data": {
      "text/html": [
       "<div>\n",
       "<style scoped>\n",
       "    .dataframe tbody tr th:only-of-type {\n",
       "        vertical-align: middle;\n",
       "    }\n",
       "\n",
       "    .dataframe tbody tr th {\n",
       "        vertical-align: top;\n",
       "    }\n",
       "\n",
       "    .dataframe thead th {\n",
       "        text-align: right;\n",
       "    }\n",
       "</style>\n",
       "<table border=\"1\" class=\"dataframe\">\n",
       "  <thead>\n",
       "    <tr style=\"text-align: right;\">\n",
       "      <th></th>\n",
       "      <th>title</th>\n",
       "      <th>composer</th>\n",
       "      <th>music_rating</th>\n",
       "      <th>imdb_rating</th>\n",
       "      <th>imdb_votes</th>\n",
       "      <th>tmdb_rating</th>\n",
       "      <th>tmdb_votes</th>\n",
       "      <th>tmdb_popularity</th>\n",
       "      <th>total_gross</th>\n",
       "      <th>production_budget</th>\n",
       "      <th>roi</th>\n",
       "    </tr>\n",
       "  </thead>\n",
       "  <tbody>\n",
       "    <tr>\n",
       "      <th>663</th>\n",
       "      <td>Carrie</td>\n",
       "      <td>Pino Donaggio</td>\n",
       "      <td>4.5</td>\n",
       "      <td>5.9</td>\n",
       "      <td>125424</td>\n",
       "      <td>7.1</td>\n",
       "      <td>1766.0</td>\n",
       "      <td>9.467</td>\n",
       "      <td>25878153.0</td>\n",
       "      <td>1800000.0</td>\n",
       "      <td>1337.68</td>\n",
       "    </tr>\n",
       "    <tr>\n",
       "      <th>3438</th>\n",
       "      <td>Robin Hood</td>\n",
       "      <td>Marc Streitenfeld</td>\n",
       "      <td>2.0</td>\n",
       "      <td>6.6</td>\n",
       "      <td>239480</td>\n",
       "      <td>5.7</td>\n",
       "      <td>3.0</td>\n",
       "      <td>0.680</td>\n",
       "      <td>84747441.0</td>\n",
       "      <td>99000000.0</td>\n",
       "      <td>-14.40</td>\n",
       "    </tr>\n",
       "    <tr>\n",
       "      <th>2939</th>\n",
       "      <td>Operation Finale</td>\n",
       "      <td>Alexandre Desplat</td>\n",
       "      <td>3.5</td>\n",
       "      <td>6.5</td>\n",
       "      <td>20927</td>\n",
       "      <td>6.7</td>\n",
       "      <td>282.0</td>\n",
       "      <td>13.692</td>\n",
       "      <td>NaN</td>\n",
       "      <td>NaN</td>\n",
       "      <td>NaN</td>\n",
       "    </tr>\n",
       "  </tbody>\n",
       "</table>\n",
       "</div>"
      ],
      "text/plain": [
       "                 title             composer  music_rating  imdb_rating  \\\n",
       "663             Carrie       Pino Donaggio            4.5          5.9   \n",
       "3438        Robin Hood   Marc Streitenfeld            2.0          6.6   \n",
       "2939  Operation Finale   Alexandre Desplat            3.5          6.5   \n",
       "\n",
       "      imdb_votes  tmdb_rating  tmdb_votes  tmdb_popularity  total_gross  \\\n",
       "663       125424          7.1      1766.0            9.467   25878153.0   \n",
       "3438      239480          5.7         3.0            0.680   84747441.0   \n",
       "2939       20927          6.7       282.0           13.692          NaN   \n",
       "\n",
       "      production_budget      roi  \n",
       "663           1800000.0  1337.68  \n",
       "3438         99000000.0   -14.40  \n",
       "2939                NaN      NaN  "
      ]
     },
     "execution_count": 27,
     "metadata": {},
     "output_type": "execute_result"
    }
   ],
   "source": [
    "final_music = music_df.merge(ratings, on='title', how='inner')\n",
    "final_music.sample(3)"
   ]
  },
  {
   "cell_type": "code",
   "execution_count": 28,
   "metadata": {},
   "outputs": [
    {
     "data": {
      "text/html": [
       "<div>\n",
       "<style scoped>\n",
       "    .dataframe tbody tr th:only-of-type {\n",
       "        vertical-align: middle;\n",
       "    }\n",
       "\n",
       "    .dataframe tbody tr th {\n",
       "        vertical-align: top;\n",
       "    }\n",
       "\n",
       "    .dataframe thead th {\n",
       "        text-align: right;\n",
       "    }\n",
       "</style>\n",
       "<table border=\"1\" class=\"dataframe\">\n",
       "  <thead>\n",
       "    <tr style=\"text-align: right;\">\n",
       "      <th></th>\n",
       "      <th>title</th>\n",
       "      <th>composer</th>\n",
       "      <th>music_rating</th>\n",
       "      <th>imdb_rating</th>\n",
       "      <th>imdb_votes</th>\n",
       "    </tr>\n",
       "  </thead>\n",
       "  <tbody>\n",
       "    <tr>\n",
       "      <th>702</th>\n",
       "      <td>The Challenge</td>\n",
       "      <td>Jerry Goldsmith</td>\n",
       "      <td>3.5</td>\n",
       "      <td>9.0</td>\n",
       "      <td>11</td>\n",
       "    </tr>\n",
       "    <tr>\n",
       "      <th>2166</th>\n",
       "      <td>Iris</td>\n",
       "      <td>James Horner</td>\n",
       "      <td>3.0</td>\n",
       "      <td>6.1</td>\n",
       "      <td>2443</td>\n",
       "    </tr>\n",
       "    <tr>\n",
       "      <th>2128</th>\n",
       "      <td>Inferno</td>\n",
       "      <td>Hans Zimmer</td>\n",
       "      <td>3.0</td>\n",
       "      <td>5.7</td>\n",
       "      <td>742</td>\n",
       "    </tr>\n",
       "  </tbody>\n",
       "</table>\n",
       "</div>"
      ],
      "text/plain": [
       "              title           composer  music_rating  imdb_rating  imdb_votes\n",
       "702   The Challenge   Jerry Goldsmith            3.5          9.0          11\n",
       "2166           Iris      James Horner            3.0          6.1        2443\n",
       "2128        Inferno       Hans Zimmer            3.0          5.7         742"
      ]
     },
     "execution_count": 28,
     "metadata": {},
     "output_type": "execute_result"
    }
   ],
   "source": [
    "# drop columns with high amount of null values\n",
    "music_imdb = final_music.drop(['tmdb_rating', 'tmdb_votes', 'tmdb_popularity', 'total_gross', 'production_budget', 'roi'], axis=1)\n",
    "music_imdb.dropna(inplace=True)\n",
    "music_imdb.sample(3)"
   ]
  },
  {
   "cell_type": "markdown",
   "metadata": {},
   "source": [
    "<br>"
   ]
  },
  {
   "cell_type": "markdown",
   "metadata": {},
   "source": [
    "## Clean Movie Budget DataFrame and Compute ROI"
   ]
  },
  {
   "cell_type": "code",
   "execution_count": 29,
   "metadata": {},
   "outputs": [],
   "source": [
    "gross = pd.read_csv('zippedData/tn.movie_budgets.csv.gz')\n",
    "gross['year'] = gross['release_date'].str[-4:].astype(float)\n",
    "gross['domestic_gross'] = gross['domestic_gross'].str.replace(',', '')\n",
    "gross['domestic_gross'] = gross['domestic_gross'].str.replace('$', '').astype(float)\n",
    "gross['production_budget'] = gross['production_budget'].str.replace(',', '')\n",
    "gross['production_budget'] = gross['production_budget'].str.replace('$', '').astype(float)\n",
    "gross['worldwide_gross'] = gross['worldwide_gross'].str.replace(',', '')\n",
    "gross['worldwide_gross'] = gross['worldwide_gross'].str.replace('$', '').astype(float)"
   ]
  },
  {
   "cell_type": "code",
   "execution_count": 30,
   "metadata": {},
   "outputs": [],
   "source": [
    "gross['ROI'] = (((gross['worldwide_gross'] - gross['production_budget']) / gross['production_budget'] ) * 100)"
   ]
  },
  {
   "cell_type": "code",
   "execution_count": 31,
   "metadata": {},
   "outputs": [
    {
     "data": {
      "text/html": [
       "<div>\n",
       "<style scoped>\n",
       "    .dataframe tbody tr th:only-of-type {\n",
       "        vertical-align: middle;\n",
       "    }\n",
       "\n",
       "    .dataframe tbody tr th {\n",
       "        vertical-align: top;\n",
       "    }\n",
       "\n",
       "    .dataframe thead th {\n",
       "        text-align: right;\n",
       "    }\n",
       "</style>\n",
       "<table border=\"1\" class=\"dataframe\">\n",
       "  <thead>\n",
       "    <tr style=\"text-align: right;\">\n",
       "      <th></th>\n",
       "      <th>id</th>\n",
       "      <th>release_date</th>\n",
       "      <th>production_budget</th>\n",
       "      <th>domestic_gross</th>\n",
       "      <th>worldwide_gross</th>\n",
       "      <th>year</th>\n",
       "      <th>ROI</th>\n",
       "    </tr>\n",
       "    <tr>\n",
       "      <th>original_title</th>\n",
       "      <th></th>\n",
       "      <th></th>\n",
       "      <th></th>\n",
       "      <th></th>\n",
       "      <th></th>\n",
       "      <th></th>\n",
       "      <th></th>\n",
       "    </tr>\n",
       "  </thead>\n",
       "  <tbody>\n",
       "    <tr>\n",
       "      <th>Avatar</th>\n",
       "      <td>1</td>\n",
       "      <td>Dec 18, 2009</td>\n",
       "      <td>425000000.0</td>\n",
       "      <td>760507625.0</td>\n",
       "      <td>2.776345e+09</td>\n",
       "      <td>2009.0</td>\n",
       "      <td>553.257713</td>\n",
       "    </tr>\n",
       "    <tr>\n",
       "      <th>Pirates of the Caribbean: On Stranger Tides</th>\n",
       "      <td>2</td>\n",
       "      <td>May 20, 2011</td>\n",
       "      <td>410600000.0</td>\n",
       "      <td>241063875.0</td>\n",
       "      <td>1.045664e+09</td>\n",
       "      <td>2011.0</td>\n",
       "      <td>154.667286</td>\n",
       "    </tr>\n",
       "    <tr>\n",
       "      <th>Dark Phoenix</th>\n",
       "      <td>3</td>\n",
       "      <td>Jun 7, 2019</td>\n",
       "      <td>350000000.0</td>\n",
       "      <td>42762350.0</td>\n",
       "      <td>1.497624e+08</td>\n",
       "      <td>2019.0</td>\n",
       "      <td>-57.210757</td>\n",
       "    </tr>\n",
       "    <tr>\n",
       "      <th>Avengers: Age of Ultron</th>\n",
       "      <td>4</td>\n",
       "      <td>May 1, 2015</td>\n",
       "      <td>330600000.0</td>\n",
       "      <td>459005868.0</td>\n",
       "      <td>1.403014e+09</td>\n",
       "      <td>2015.0</td>\n",
       "      <td>324.384139</td>\n",
       "    </tr>\n",
       "    <tr>\n",
       "      <th>Star Wars Ep. VIII: The Last Jedi</th>\n",
       "      <td>5</td>\n",
       "      <td>Dec 15, 2017</td>\n",
       "      <td>317000000.0</td>\n",
       "      <td>620181382.0</td>\n",
       "      <td>1.316722e+09</td>\n",
       "      <td>2017.0</td>\n",
       "      <td>315.369636</td>\n",
       "    </tr>\n",
       "    <tr>\n",
       "      <th>...</th>\n",
       "      <td>...</td>\n",
       "      <td>...</td>\n",
       "      <td>...</td>\n",
       "      <td>...</td>\n",
       "      <td>...</td>\n",
       "      <td>...</td>\n",
       "      <td>...</td>\n",
       "    </tr>\n",
       "    <tr>\n",
       "      <th>Red 11</th>\n",
       "      <td>78</td>\n",
       "      <td>Dec 31, 2018</td>\n",
       "      <td>7000.0</td>\n",
       "      <td>0.0</td>\n",
       "      <td>0.000000e+00</td>\n",
       "      <td>2018.0</td>\n",
       "      <td>-100.000000</td>\n",
       "    </tr>\n",
       "    <tr>\n",
       "      <th>Following</th>\n",
       "      <td>79</td>\n",
       "      <td>Apr 2, 1999</td>\n",
       "      <td>6000.0</td>\n",
       "      <td>48482.0</td>\n",
       "      <td>2.404950e+05</td>\n",
       "      <td>1999.0</td>\n",
       "      <td>3908.250000</td>\n",
       "    </tr>\n",
       "    <tr>\n",
       "      <th>Return to the Land of Wonders</th>\n",
       "      <td>80</td>\n",
       "      <td>Jul 13, 2005</td>\n",
       "      <td>5000.0</td>\n",
       "      <td>1338.0</td>\n",
       "      <td>1.338000e+03</td>\n",
       "      <td>2005.0</td>\n",
       "      <td>-73.240000</td>\n",
       "    </tr>\n",
       "    <tr>\n",
       "      <th>A Plague So Pleasant</th>\n",
       "      <td>81</td>\n",
       "      <td>Sep 29, 2015</td>\n",
       "      <td>1400.0</td>\n",
       "      <td>0.0</td>\n",
       "      <td>0.000000e+00</td>\n",
       "      <td>2015.0</td>\n",
       "      <td>-100.000000</td>\n",
       "    </tr>\n",
       "    <tr>\n",
       "      <th>My Date With Drew</th>\n",
       "      <td>82</td>\n",
       "      <td>Aug 5, 2005</td>\n",
       "      <td>1100.0</td>\n",
       "      <td>181041.0</td>\n",
       "      <td>1.810410e+05</td>\n",
       "      <td>2005.0</td>\n",
       "      <td>16358.272727</td>\n",
       "    </tr>\n",
       "  </tbody>\n",
       "</table>\n",
       "<p>5782 rows × 7 columns</p>\n",
       "</div>"
      ],
      "text/plain": [
       "                                             id  release_date  \\\n",
       "original_title                                                  \n",
       "Avatar                                        1  Dec 18, 2009   \n",
       "Pirates of the Caribbean: On Stranger Tides   2  May 20, 2011   \n",
       "Dark Phoenix                                  3   Jun 7, 2019   \n",
       "Avengers: Age of Ultron                       4   May 1, 2015   \n",
       "Star Wars Ep. VIII: The Last Jedi             5  Dec 15, 2017   \n",
       "...                                          ..           ...   \n",
       "Red 11                                       78  Dec 31, 2018   \n",
       "Following                                    79   Apr 2, 1999   \n",
       "Return to the Land of Wonders                80  Jul 13, 2005   \n",
       "A Plague So Pleasant                         81  Sep 29, 2015   \n",
       "My Date With Drew                            82   Aug 5, 2005   \n",
       "\n",
       "                                             production_budget  \\\n",
       "original_title                                                   \n",
       "Avatar                                             425000000.0   \n",
       "Pirates of the Caribbean: On Stranger Tides        410600000.0   \n",
       "Dark Phoenix                                       350000000.0   \n",
       "Avengers: Age of Ultron                            330600000.0   \n",
       "Star Wars Ep. VIII: The Last Jedi                  317000000.0   \n",
       "...                                                        ...   \n",
       "Red 11                                                  7000.0   \n",
       "Following                                               6000.0   \n",
       "Return to the Land of Wonders                           5000.0   \n",
       "A Plague So Pleasant                                    1400.0   \n",
       "My Date With Drew                                       1100.0   \n",
       "\n",
       "                                             domestic_gross  worldwide_gross  \\\n",
       "original_title                                                                 \n",
       "Avatar                                          760507625.0     2.776345e+09   \n",
       "Pirates of the Caribbean: On Stranger Tides     241063875.0     1.045664e+09   \n",
       "Dark Phoenix                                     42762350.0     1.497624e+08   \n",
       "Avengers: Age of Ultron                         459005868.0     1.403014e+09   \n",
       "Star Wars Ep. VIII: The Last Jedi               620181382.0     1.316722e+09   \n",
       "...                                                     ...              ...   \n",
       "Red 11                                                  0.0     0.000000e+00   \n",
       "Following                                           48482.0     2.404950e+05   \n",
       "Return to the Land of Wonders                        1338.0     1.338000e+03   \n",
       "A Plague So Pleasant                                    0.0     0.000000e+00   \n",
       "My Date With Drew                                  181041.0     1.810410e+05   \n",
       "\n",
       "                                               year           ROI  \n",
       "original_title                                                     \n",
       "Avatar                                       2009.0    553.257713  \n",
       "Pirates of the Caribbean: On Stranger Tides  2011.0    154.667286  \n",
       "Dark Phoenix                                 2019.0    -57.210757  \n",
       "Avengers: Age of Ultron                      2015.0    324.384139  \n",
       "Star Wars Ep. VIII: The Last Jedi            2017.0    315.369636  \n",
       "...                                             ...           ...  \n",
       "Red 11                                       2018.0   -100.000000  \n",
       "Following                                    1999.0   3908.250000  \n",
       "Return to the Land of Wonders                2005.0    -73.240000  \n",
       "A Plague So Pleasant                         2015.0   -100.000000  \n",
       "My Date With Drew                            2005.0  16358.272727  \n",
       "\n",
       "[5782 rows x 7 columns]"
      ]
     },
     "execution_count": 31,
     "metadata": {},
     "output_type": "execute_result"
    }
   ],
   "source": [
    "# renaming and setting index for merging purposes\n",
    "gross.rename(columns = {'movie': 'original_title'}, inplace=True)\n",
    "gross.set_index('original_title')"
   ]
  },
  {
   "cell_type": "markdown",
   "metadata": {},
   "source": [
    "<br>"
   ]
  },
  {
   "cell_type": "markdown",
   "metadata": {},
   "source": [
    "## Stack Genre DataFrame and Merge with Financial Data"
   ]
  },
  {
   "cell_type": "code",
   "execution_count": 32,
   "metadata": {},
   "outputs": [],
   "source": [
    "# reimported raw dataset that was manipulated in the question above\n",
    "genre_raw = pd.read_csv('./zippedData/imdb.title.basics.csv.gz')\n",
    "genre_raw\n",
    "\n",
    "genre_ugly = genre_raw\n",
    "genre_ugly['genres'] = genre_ugly['genres'].str.split(',', 3)\n",
    "genre_unstack = genre_ugly.set_index('original_title').genres.apply(pd.Series).stack().reset_index(level=-1, drop=True).astype(str).reset_index()\n",
    "genre_unstack.columns = ['original_title', 'genres']"
   ]
  },
  {
   "cell_type": "code",
   "execution_count": 33,
   "metadata": {},
   "outputs": [],
   "source": [
    "# Merge with budget table and remove null values\n",
    "genre_roi = genre_unstack.merge(gross[['original_title', 'ROI']], on='original_title', how='left')\n",
    "genre_roi.dropna(axis = 0, inplace = True)"
   ]
  },
  {
   "cell_type": "markdown",
   "metadata": {},
   "source": [
    "<br>"
   ]
  },
  {
   "cell_type": "markdown",
   "metadata": {},
   "source": [
    "## Compile for Composer Dataframe"
   ]
  },
  {
   "cell_type": "code",
   "execution_count": 34,
   "metadata": {},
   "outputs": [],
   "source": [
    "# stack column listing movie id for each crew member\n",
    "crew = crew_raw\n",
    "crew['directors'] = crew['directors'].str.split(',', 5)\n",
    "crew_unstack = crew.set_index('tconst').directors.apply(pd.Series).stack().reset_index(level=-1, drop=True).astype(str).reset_index()\n",
    "crew_unstack.columns = ['tconst', 'id']"
   ]
  },
  {
   "cell_type": "code",
   "execution_count": 35,
   "metadata": {},
   "outputs": [],
   "source": [
    "# stack column listing professions for each crew member\n",
    "name_basics_raw = pd.read_csv('./zippedData/imdb.name.basics.csv.gz')\n",
    "name_basics_raw.rename(columns = {'nconst' : 'directors', 'title_id':'tconst'}, inplace=True)\n",
    "name_basics_raw\n",
    "\n",
    "name_basics = name_basics_raw\n",
    "name_basics['primary_profession'] = name_basics['primary_profession'].str.split(',', 5)\n",
    "name_basics_unstack = name_basics.set_index('directors').primary_profession.apply(pd.Series).stack().reset_index(level=-1, drop=True).astype(str).reset_index()"
   ]
  },
  {
   "cell_type": "code",
   "execution_count": 36,
   "metadata": {},
   "outputs": [],
   "source": [
    "# Rename dataframes\n",
    "name_basics_unstack.columns = ['id', 'job_title']\n",
    "name_basics.rename(columns={'directors':'id'}, inplace=True)"
   ]
  },
  {
   "cell_type": "code",
   "execution_count": 37,
   "metadata": {},
   "outputs": [],
   "source": [
    "# Pulling in Data and Matching indices to Merge\n",
    "titles_raw.rename(columns = {'title_id':'tconst', 'title' : 'original_title'}, inplace=True)"
   ]
  },
  {
   "cell_type": "code",
   "execution_count": 38,
   "metadata": {},
   "outputs": [],
   "source": [
    "# Merge Title into Genre + ROI\n",
    "roi_with_title = genre_roi.merge(titles_raw[['original_title', 'tconst']], on='original_title', how='inner')"
   ]
  },
  {
   "cell_type": "code",
   "execution_count": 39,
   "metadata": {},
   "outputs": [],
   "source": [
    "# Filter for Composers\n",
    "composer = name_basics_unstack[name_basics_unstack['job_title'] == 'composer']"
   ]
  },
  {
   "cell_type": "code",
   "execution_count": 40,
   "metadata": {},
   "outputs": [],
   "source": [
    "# Merge with crew by ID\n",
    "composers = crew_unstack.merge(composer[['id', 'job_title']], on='id', how='left')\n",
    "composers.dropna(inplace=True)\n",
    "composers.set_index('id', inplace=True)"
   ]
  },
  {
   "cell_type": "code",
   "execution_count": 41,
   "metadata": {},
   "outputs": [
    {
     "data": {
      "text/html": [
       "<div>\n",
       "<style scoped>\n",
       "    .dataframe tbody tr th:only-of-type {\n",
       "        vertical-align: middle;\n",
       "    }\n",
       "\n",
       "    .dataframe tbody tr th {\n",
       "        vertical-align: top;\n",
       "    }\n",
       "\n",
       "    .dataframe thead th {\n",
       "        text-align: right;\n",
       "    }\n",
       "</style>\n",
       "<table border=\"1\" class=\"dataframe\">\n",
       "  <thead>\n",
       "    <tr style=\"text-align: right;\">\n",
       "      <th></th>\n",
       "      <th>id</th>\n",
       "      <th>job_title</th>\n",
       "    </tr>\n",
       "    <tr>\n",
       "      <th>primary_name</th>\n",
       "      <th></th>\n",
       "      <th></th>\n",
       "    </tr>\n",
       "  </thead>\n",
       "  <tbody>\n",
       "    <tr>\n",
       "      <th>Joseph Bauer</th>\n",
       "      <td>nm0061865</td>\n",
       "      <td>composer</td>\n",
       "    </tr>\n",
       "    <tr>\n",
       "      <th>Stevie Be-Zet</th>\n",
       "      <td>nm0063432</td>\n",
       "      <td>composer</td>\n",
       "    </tr>\n",
       "    <tr>\n",
       "      <th>Jeff Beal</th>\n",
       "      <td>nm0063618</td>\n",
       "      <td>composer</td>\n",
       "    </tr>\n",
       "    <tr>\n",
       "      <th>Gavin Bellour</th>\n",
       "      <td>nm0069225</td>\n",
       "      <td>composer</td>\n",
       "    </tr>\n",
       "    <tr>\n",
       "      <th>Jorge Ben Jor</th>\n",
       "      <td>nm0069990</td>\n",
       "      <td>composer</td>\n",
       "    </tr>\n",
       "    <tr>\n",
       "      <th>...</th>\n",
       "      <td>...</td>\n",
       "      <td>...</td>\n",
       "    </tr>\n",
       "    <tr>\n",
       "      <th>Oscar Martorell</th>\n",
       "      <td>nm9786484</td>\n",
       "      <td>composer</td>\n",
       "    </tr>\n",
       "    <tr>\n",
       "      <th>Shine Issai</th>\n",
       "      <td>nm9927305</td>\n",
       "      <td>composer</td>\n",
       "    </tr>\n",
       "    <tr>\n",
       "      <th>Ifthi</th>\n",
       "      <td>nm9942831</td>\n",
       "      <td>composer</td>\n",
       "    </tr>\n",
       "    <tr>\n",
       "      <th>Arkadiusz Grochowski</th>\n",
       "      <td>nm9951337</td>\n",
       "      <td>composer</td>\n",
       "    </tr>\n",
       "    <tr>\n",
       "      <th>Robert Jones</th>\n",
       "      <td>nm9969409</td>\n",
       "      <td>composer</td>\n",
       "    </tr>\n",
       "  </tbody>\n",
       "</table>\n",
       "<p>48823 rows × 2 columns</p>\n",
       "</div>"
      ],
      "text/plain": [
       "                             id job_title\n",
       "primary_name                             \n",
       "Joseph Bauer          nm0061865  composer\n",
       "Stevie Be-Zet         nm0063432  composer\n",
       "Jeff Beal             nm0063618  composer\n",
       "Gavin Bellour         nm0069225  composer\n",
       "Jorge Ben Jor         nm0069990  composer\n",
       "...                         ...       ...\n",
       "Oscar Martorell       nm9786484  composer\n",
       "Shine Issai           nm9927305  composer\n",
       "Ifthi                 nm9942831  composer\n",
       "Arkadiusz Grochowski  nm9951337  composer\n",
       "Robert Jones          nm9969409  composer\n",
       "\n",
       "[48823 rows x 2 columns]"
      ]
     },
     "execution_count": 41,
     "metadata": {},
     "output_type": "execute_result"
    }
   ],
   "source": [
    "# Use ID to grab composers name\n",
    "composers_names = composer.merge(name_basics[['id', 'primary_name']], on='id', how='left')\n",
    "composers_names.set_index('primary_name')"
   ]
  },
  {
   "cell_type": "code",
   "execution_count": 42,
   "metadata": {},
   "outputs": [],
   "source": [
    "# Grab movie id\n",
    "crew = crew_unstack.merge(name_basics_raw[['id', 'primary_name']], on='id', how='left')"
   ]
  },
  {
   "cell_type": "code",
   "execution_count": 43,
   "metadata": {},
   "outputs": [
    {
     "data": {
      "text/html": [
       "<div>\n",
       "<style scoped>\n",
       "    .dataframe tbody tr th:only-of-type {\n",
       "        vertical-align: middle;\n",
       "    }\n",
       "\n",
       "    .dataframe tbody tr th {\n",
       "        vertical-align: top;\n",
       "    }\n",
       "\n",
       "    .dataframe thead th {\n",
       "        text-align: right;\n",
       "    }\n",
       "</style>\n",
       "<table border=\"1\" class=\"dataframe\">\n",
       "  <thead>\n",
       "    <tr style=\"text-align: right;\">\n",
       "      <th></th>\n",
       "      <th>original_title</th>\n",
       "      <th>genres</th>\n",
       "      <th>ROI</th>\n",
       "      <th>tconst</th>\n",
       "    </tr>\n",
       "    <tr>\n",
       "      <th>primary_name</th>\n",
       "      <th></th>\n",
       "      <th></th>\n",
       "      <th></th>\n",
       "      <th></th>\n",
       "    </tr>\n",
       "  </thead>\n",
       "  <tbody>\n",
       "    <tr>\n",
       "      <th>Lawrence Kasanoff</th>\n",
       "      <td>Foodfight!</td>\n",
       "      <td>Action</td>\n",
       "      <td>-99.836209</td>\n",
       "      <td>tt0249516</td>\n",
       "    </tr>\n",
       "    <tr>\n",
       "      <th>Lawrence Kasanoff</th>\n",
       "      <td>Foodfight!</td>\n",
       "      <td>Animation</td>\n",
       "      <td>-99.836209</td>\n",
       "      <td>tt0249516</td>\n",
       "    </tr>\n",
       "    <tr>\n",
       "      <th>Lawrence Kasanoff</th>\n",
       "      <td>Foodfight!</td>\n",
       "      <td>Comedy</td>\n",
       "      <td>-99.836209</td>\n",
       "      <td>tt0249516</td>\n",
       "    </tr>\n",
       "    <tr>\n",
       "      <th>Simon McQuoid</th>\n",
       "      <td>Mortal Kombat</td>\n",
       "      <td>Action</td>\n",
       "      <td>510.666135</td>\n",
       "      <td>tt0293429</td>\n",
       "    </tr>\n",
       "    <tr>\n",
       "      <th>Simon McQuoid</th>\n",
       "      <td>Mortal Kombat</td>\n",
       "      <td>Adventure</td>\n",
       "      <td>510.666135</td>\n",
       "      <td>tt0293429</td>\n",
       "    </tr>\n",
       "    <tr>\n",
       "      <th>...</th>\n",
       "      <td>...</td>\n",
       "      <td>...</td>\n",
       "      <td>...</td>\n",
       "      <td>...</td>\n",
       "    </tr>\n",
       "    <tr>\n",
       "      <th>Gijsbert Tukker</th>\n",
       "      <td>Darkness</td>\n",
       "      <td>Sci-Fi</td>\n",
       "      <td>224.615151</td>\n",
       "      <td>tt4341750</td>\n",
       "    </tr>\n",
       "    <tr>\n",
       "      <th>Jug Radivojevic</th>\n",
       "      <td>Darkness</td>\n",
       "      <td>Sci-Fi</td>\n",
       "      <td>224.615151</td>\n",
       "      <td>tt3961040</td>\n",
       "    </tr>\n",
       "    <tr>\n",
       "      <th>Susanna White</th>\n",
       "      <td>Traitor</td>\n",
       "      <td>Action</td>\n",
       "      <td>26.737391</td>\n",
       "      <td>tt1995390</td>\n",
       "    </tr>\n",
       "    <tr>\n",
       "      <th>Susanna White</th>\n",
       "      <td>Traitor</td>\n",
       "      <td>Drama</td>\n",
       "      <td>26.737391</td>\n",
       "      <td>tt1995390</td>\n",
       "    </tr>\n",
       "    <tr>\n",
       "      <th>Susanna White</th>\n",
       "      <td>Traitor</td>\n",
       "      <td>Romance</td>\n",
       "      <td>26.737391</td>\n",
       "      <td>tt1995390</td>\n",
       "    </tr>\n",
       "  </tbody>\n",
       "</table>\n",
       "<p>16013 rows × 4 columns</p>\n",
       "</div>"
      ],
      "text/plain": [
       "                  original_title     genres         ROI     tconst\n",
       "primary_name                                                      \n",
       "Lawrence Kasanoff     Foodfight!     Action  -99.836209  tt0249516\n",
       "Lawrence Kasanoff     Foodfight!  Animation  -99.836209  tt0249516\n",
       "Lawrence Kasanoff     Foodfight!     Comedy  -99.836209  tt0249516\n",
       "Simon McQuoid      Mortal Kombat     Action  510.666135  tt0293429\n",
       "Simon McQuoid      Mortal Kombat  Adventure  510.666135  tt0293429\n",
       "...                          ...        ...         ...        ...\n",
       "Gijsbert Tukker         Darkness     Sci-Fi  224.615151  tt4341750\n",
       "Jug Radivojevic         Darkness     Sci-Fi  224.615151  tt3961040\n",
       "Susanna White            Traitor     Action   26.737391  tt1995390\n",
       "Susanna White            Traitor      Drama   26.737391  tt1995390\n",
       "Susanna White            Traitor    Romance   26.737391  tt1995390\n",
       "\n",
       "[16013 rows x 4 columns]"
      ]
     },
     "execution_count": 43,
     "metadata": {},
     "output_type": "execute_result"
    }
   ],
   "source": [
    "# Add in genre\n",
    "roi_crew_genre = roi_with_title.merge(crew[['tconst', 'primary_name']], on='tconst', how='left')\n",
    "roi_crew_genre.drop_duplicates(inplace=True)\n",
    "roi_crew_genre.set_index('primary_name')"
   ]
  },
  {
   "cell_type": "code",
   "execution_count": 44,
   "metadata": {},
   "outputs": [],
   "source": [
    "# Add names to roi + crew names + genre\n",
    "composer_ = roi_crew_genre.merge(composers_names[['job_title', 'primary_name']], on='primary_name', how='inner')"
   ]
  },
  {
   "cell_type": "code",
   "execution_count": 45,
   "metadata": {},
   "outputs": [],
   "source": [
    "# Final DataFrame\n",
    "composer_df = composer_.merge(imdb_raw[['tconst', 'averagerating']], on='tconst', how='left')\n",
    "composer_df.rename(columns={'primary_name': 'composer'}, inplace=True)\n",
    "composer_df.set_index('composer', inplace=True)"
   ]
  },
  {
   "cell_type": "code",
   "execution_count": 46,
   "metadata": {},
   "outputs": [],
   "source": [
    "# # Dropping null rating values\n",
    "composer_df.dropna(inplace=True)"
   ]
  },
  {
   "cell_type": "markdown",
   "metadata": {},
   "source": [
    "<br>"
   ]
  },
  {
   "cell_type": "markdown",
   "metadata": {},
   "source": [
    "## Removing Music Rating Outliers"
   ]
  },
  {
   "cell_type": "code",
   "execution_count": 47,
   "metadata": {},
   "outputs": [
    {
     "data": {
      "text/html": [
       "<div>\n",
       "<style scoped>\n",
       "    .dataframe tbody tr th:only-of-type {\n",
       "        vertical-align: middle;\n",
       "    }\n",
       "\n",
       "    .dataframe tbody tr th {\n",
       "        vertical-align: top;\n",
       "    }\n",
       "\n",
       "    .dataframe thead th {\n",
       "        text-align: right;\n",
       "    }\n",
       "</style>\n",
       "<table border=\"1\" class=\"dataframe\">\n",
       "  <thead>\n",
       "    <tr style=\"text-align: right;\">\n",
       "      <th></th>\n",
       "      <th>title</th>\n",
       "      <th>composer</th>\n",
       "      <th>music_rating</th>\n",
       "      <th>imdb_rating</th>\n",
       "      <th>imdb_votes</th>\n",
       "    </tr>\n",
       "  </thead>\n",
       "  <tbody>\n",
       "    <tr>\n",
       "      <th>0</th>\n",
       "      <td>10 Cloverfield Lane</td>\n",
       "      <td>Bear McCreary</td>\n",
       "      <td>4.0</td>\n",
       "      <td>7.2</td>\n",
       "      <td>260383</td>\n",
       "    </tr>\n",
       "    <tr>\n",
       "      <th>1</th>\n",
       "      <td>10 Cloverfield Lane</td>\n",
       "      <td>Bear McCreary</td>\n",
       "      <td>4.0</td>\n",
       "      <td>7.2</td>\n",
       "      <td>260383</td>\n",
       "    </tr>\n",
       "    <tr>\n",
       "      <th>2</th>\n",
       "      <td>10 Cloverfield Lane</td>\n",
       "      <td>Bear McCreary</td>\n",
       "      <td>4.0</td>\n",
       "      <td>7.2</td>\n",
       "      <td>260383</td>\n",
       "    </tr>\n",
       "    <tr>\n",
       "      <th>3</th>\n",
       "      <td>10 Cloverfield Lane</td>\n",
       "      <td>Bear McCreary</td>\n",
       "      <td>4.0</td>\n",
       "      <td>7.2</td>\n",
       "      <td>260383</td>\n",
       "    </tr>\n",
       "    <tr>\n",
       "      <th>4</th>\n",
       "      <td>10 Cloverfield Lane</td>\n",
       "      <td>Bear McCreary</td>\n",
       "      <td>4.0</td>\n",
       "      <td>7.2</td>\n",
       "      <td>260383</td>\n",
       "    </tr>\n",
       "    <tr>\n",
       "      <th>...</th>\n",
       "      <td>...</td>\n",
       "      <td>...</td>\n",
       "      <td>...</td>\n",
       "      <td>...</td>\n",
       "      <td>...</td>\n",
       "    </tr>\n",
       "    <tr>\n",
       "      <th>4487</th>\n",
       "      <td>Zootopia</td>\n",
       "      <td>Michael Giacchino</td>\n",
       "      <td>2.0</td>\n",
       "      <td>8.0</td>\n",
       "      <td>383446</td>\n",
       "    </tr>\n",
       "    <tr>\n",
       "      <th>4488</th>\n",
       "      <td>Zootopia</td>\n",
       "      <td>Michael Giacchino</td>\n",
       "      <td>2.0</td>\n",
       "      <td>8.0</td>\n",
       "      <td>383446</td>\n",
       "    </tr>\n",
       "    <tr>\n",
       "      <th>4489</th>\n",
       "      <td>Zootopia</td>\n",
       "      <td>Michael Giacchino</td>\n",
       "      <td>2.0</td>\n",
       "      <td>8.0</td>\n",
       "      <td>383446</td>\n",
       "    </tr>\n",
       "    <tr>\n",
       "      <th>4490</th>\n",
       "      <td>Zootopia</td>\n",
       "      <td>Michael Giacchino</td>\n",
       "      <td>2.0</td>\n",
       "      <td>8.0</td>\n",
       "      <td>383446</td>\n",
       "    </tr>\n",
       "    <tr>\n",
       "      <th>4491</th>\n",
       "      <td>Zootopia</td>\n",
       "      <td>Michael Giacchino</td>\n",
       "      <td>2.0</td>\n",
       "      <td>8.0</td>\n",
       "      <td>383446</td>\n",
       "    </tr>\n",
       "  </tbody>\n",
       "</table>\n",
       "<p>4408 rows × 5 columns</p>\n",
       "</div>"
      ],
      "text/plain": [
       "                    title             composer  music_rating  imdb_rating  \\\n",
       "0     10 Cloverfield Lane       Bear McCreary            4.0          7.2   \n",
       "1     10 Cloverfield Lane       Bear McCreary            4.0          7.2   \n",
       "2     10 Cloverfield Lane       Bear McCreary            4.0          7.2   \n",
       "3     10 Cloverfield Lane       Bear McCreary            4.0          7.2   \n",
       "4     10 Cloverfield Lane       Bear McCreary            4.0          7.2   \n",
       "...                   ...                  ...           ...          ...   \n",
       "4487             Zootopia   Michael Giacchino            2.0          8.0   \n",
       "4488             Zootopia   Michael Giacchino            2.0          8.0   \n",
       "4489             Zootopia   Michael Giacchino            2.0          8.0   \n",
       "4490             Zootopia   Michael Giacchino            2.0          8.0   \n",
       "4491             Zootopia   Michael Giacchino            2.0          8.0   \n",
       "\n",
       "      imdb_votes  \n",
       "0         260383  \n",
       "1         260383  \n",
       "2         260383  \n",
       "3         260383  \n",
       "4         260383  \n",
       "...          ...  \n",
       "4487      383446  \n",
       "4488      383446  \n",
       "4489      383446  \n",
       "4490      383446  \n",
       "4491      383446  \n",
       "\n",
       "[4408 rows x 5 columns]"
      ]
     },
     "execution_count": 47,
     "metadata": {},
     "output_type": "execute_result"
    }
   ],
   "source": [
    "music_imdb"
   ]
  },
  {
   "cell_type": "code",
   "execution_count": 48,
   "metadata": {},
   "outputs": [
    {
     "data": {
      "image/png": "[encoded data removed]",
      "text/plain": [
       "<Figure size 1080x72 with 1 Axes>"
      ]
     },
     "metadata": {},
     "output_type": "display_data"
    }
   ],
   "source": [
    "# drop outliers \n",
    "rating_plot = music_imdb[music_imdb[\"music_rating\"].between(*music_imdb.music_rating.quantile([0.1, 0.9]).tolist())]\n",
    "\n",
    "# check boxplot to verify outliers are gone\n",
    "sns.set(rc={'figure.figsize':(15,1)});\n",
    "sns.boxplot(data=rating_plot, x='music_rating');\n",
    "\n",
    "# Labels\n",
    "plt.title('Music Rating Box and Whiskers');\n",
    "plt.xlabel('Music Rating');"
   ]
  },
  {
   "cell_type": "markdown",
   "metadata": {},
   "source": [
    "##  The Relationship Between IMDB Movie Score and Music Rating\n",
    "### There is a weak positive correlation between music ratings and the imdb movie ratings. This indicates that if a movie has a higher music rating, it is slightly more likely to recieve a higher movie rating from IMDB."
   ]
  },
  {
   "cell_type": "code",
   "execution_count": 49,
   "metadata": {},
   "outputs": [
    {
     "data": {
      "image/png": "[encoded data removed]",
      "text/plain": [
       "<Figure size 576x576 with 1 Axes>"
      ]
     },
     "metadata": {},
     "output_type": "display_data"
    }
   ],
   "source": [
    "# Create lmplot using seaborn\n",
    "\n",
    "sns.lmplot('music_rating','imdb_rating',  data = rating_plot, truncate=False, height=8);\n",
    "plt.title(\"Music Rating's Effect on IMDB Movie Score\",fontsize=18);\n",
    "\n",
    "# Set Labels\n",
    "plt.xlabel('Music Rating', fontsize=14);\n",
    "plt.ylabel('IMDB Movie Score', fontsize=14);\n"
   ]
  },
  {
   "cell_type": "markdown",
   "metadata": {},
   "source": [
    "<br>"
   ]
  },
  {
   "cell_type": "markdown",
   "metadata": {},
   "source": [
    "##  The Top 25 Music Composers for Movies\n",
    "### Below is a visualization depicting the top 25 composers imdb movie rating score. Adam Shaw is the highest with a score of 8.6. The lowest scoring composer recieved a 3.6. In conclusion, investing in a composer with a succesful work history can make a substantial on the movie's imdb movie rating. "
   ]
  },
  {
   "cell_type": "code",
   "execution_count": 50,
   "metadata": {},
   "outputs": [
    {
     "data": {
      "image/png": "[encoded data removed]",
      "text/plain": [
       "<Figure size 720x576 with 1 Axes>"
      ]
     },
     "metadata": {},
     "output_type": "display_data"
    }
   ],
   "source": [
    "# create horizontal barplot using seaborn\n",
    "composer_df_plt = composer_df.groupby(['composer'])['averagerating'].mean().reset_index().sort_values('averagerating', ascending=False)[:25]\n",
    "\n",
    "# Format Plot\n",
    "sns.set(rc={'figure.figsize':(10,8)})\n",
    "plot = sns.barplot('averagerating','composer' , data = composer_df_plt, order= composer_df_plt['composer'], palette='Paired');\n",
    "\n",
    "# Set Labels\n",
    "plot.set_title('Top 25 Composers Average Movie Rating', fontsize=18);\n",
    "plt.xlabel('Average Movie Rating', fontsize=14);\n",
    "plt.ylabel('Composer', fontsize=14);\n"
   ]
  },
  {
   "cell_type": "markdown",
   "metadata": {},
   "source": [
    "<br>"
   ]
  },
  {
   "cell_type": "markdown",
   "metadata": {},
   "source": [
    "## Average ROI by Genre\n",
    "### This visualization is represting what types of films are creating the highest amount of revenue.  The genre Musical's ROI is double nearly every other category. Musical adaptations are very common, and if \"Microsoft\" is looking to choose a genre, musical is a strong choice. "
   ]
  },
  {
   "cell_type": "code",
   "execution_count": 51,
   "metadata": {},
   "outputs": [
    {
     "data": {
      "image/png": "[encoded data removed]",
      "text/plain": [
       "<Figure size 720x360 with 1 Axes>"
      ]
     },
     "metadata": {},
     "output_type": "display_data"
    }
   ],
   "source": [
    "# Create bar plot using MatPltLib\n",
    "y = genre_roi.groupby(['genres'])['ROI'].mean()\n",
    "x = y.index\n",
    "\n",
    "figure, ax = plt.subplots(figsize = (10,5))\n",
    "\n",
    "# Set Labels\n",
    "ax.set_title('Average ROI by Genre', fontsize=18)\n",
    "ax.set_xlabel('Genre', fontsize=18)\n",
    "ax.set_ylabel('ROI', fontsize=18)\n",
    "plt.xticks(rotation=90)\n",
    "\n",
    "# Plot\n",
    "ax.bar(x, y, color='green');"
   ]
  },
  {
   "cell_type": "markdown",
   "metadata": {},
   "source": [
    "## Question 3: Conclusion\n",
    "### In conclusion, the soundtrack in a movie can make an impact on movie's success if the soundtrack is produced by a composer with a reputable background. If the genre of the movie is musical, it is likely to obtain a high return on investment. Based on these findings, our recommendation to \"Microsoft\" is to invest resources into a reputable composer and a high quality music score."
   ]
  },
  {
   "cell_type": "markdown",
   "metadata": {},
   "source": [
    "<br>"
   ]
  },
  {
   "cell_type": "markdown",
   "metadata": {},
   "source": [
    "# Conclusion and Next Steps"
   ]
  },
  {
   "cell_type": "markdown",
   "metadata": {},
   "source": [
    "### In conclusion, we recommend \"Microsoft\" to stick with successful genres, create engaging trailers, and invest in well-established composers. \n",
    "### If we were to analyze further and go on to next steps, we would want to dive deeper into movie budgets. Figuring out how much to allocate towards movie trailers with high view counts and how much to spend to get crew members that cosistently recieve oscar nominations could help \"Microsoft\" make better business decisions."
   ]
  }
 ],
 "metadata": {
  "kernelspec": {
   "display_name": "Python 3",
   "language": "python",
   "name": "python3"
  },
  "language_info": {
   "codemirror_mode": {
    "name": "ipython",
    "version": 3
   },
   "file_extension": ".py",
   "mimetype": "text/x-python",
   "name": "python",
   "nbconvert_exporter": "python",
   "pygments_lexer": "ipython3",
   "version": "3.6.9"
  }
 },
 "nbformat": 4,
 "nbformat_minor": 2
}
